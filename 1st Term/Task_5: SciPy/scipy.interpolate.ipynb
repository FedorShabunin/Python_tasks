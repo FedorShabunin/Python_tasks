{
 "cells": [
  {
   "cell_type": "code",
   "execution_count": 1,
   "id": "4744eaaf",
   "metadata": {},
   "outputs": [],
   "source": [
    "import numpy as np\n",
    "\n",
    "measured_time = np.linspace(0, 1, 10)\n",
    "noise = (np.random.random(10)*2 - 1) * 1e-1\n",
    "measures = np.sin(2 * np.pi * measured_time) + noise"
   ]
  },
  {
   "cell_type": "code",
   "execution_count": 7,
   "id": "35417f1e",
   "metadata": {},
   "outputs": [],
   "source": [
    "from scipy.interpolate import interp1d\n",
    "linear_interp = interp1d(measured_time, measures)"
   ]
  },
  {
   "cell_type": "code",
   "execution_count": 3,
   "id": "f36f5aae",
   "metadata": {},
   "outputs": [],
   "source": [
    "interpolation_time = np.linspace(0, 1, 50)"
   ]
  },
  {
   "cell_type": "code",
   "execution_count": 8,
   "id": "3fe2e5bb",
   "metadata": {},
   "outputs": [
    {
     "data": {
      "text/plain": [
       "array([ 0.0620759 ,  0.17233866,  0.28260142,  0.39286418,  0.50312694,\n",
       "        0.6133897 ,  0.6919689 ,  0.74520125,  0.7984336 ,  0.85166595,\n",
       "        0.9048983 ,  0.95200794,  0.95013596,  0.94826397,  0.94639199,\n",
       "        0.94452   ,  0.94264802,  0.85717388,  0.72989867,  0.60262346,\n",
       "        0.47534825,  0.34807305,  0.2269584 ,  0.12740573,  0.02785307,\n",
       "       -0.0716996 , -0.17125227, -0.27080494, -0.38494532, -0.50325363,\n",
       "       -0.62156194, -0.73987025, -0.85817856, -0.94358082, -0.96317096,\n",
       "       -0.98276111, -1.00235125, -1.0219414 , -1.04153154, -0.97403722,\n",
       "       -0.89565734, -0.81727746, -0.73889758, -0.6605177 , -0.5659375 ,\n",
       "       -0.45110689, -0.33627628, -0.22144567, -0.10661506,  0.00821555])"
      ]
     },
     "execution_count": 8,
     "metadata": {},
     "output_type": "execute_result"
    }
   ],
   "source": [
    "linear_results = linear_interp(interpolation_time)\n",
    "linear_results"
   ]
  },
  {
   "cell_type": "code",
   "execution_count": 9,
   "id": "1e41c3d6",
   "metadata": {},
   "outputs": [
    {
     "data": {
      "text/plain": [
       "array([ 0.0620759 ,  0.20603148,  0.33319282,  0.44498174,  0.54282008,\n",
       "        0.62812968,  0.70233239,  0.76685003,  0.82310444,  0.87251747,\n",
       "        0.91651094,  0.95650485,  0.99206534,  1.01742606,  1.02586769,\n",
       "        1.0106709 ,  0.96511639,  0.883371  ,  0.76990346,  0.63582884,\n",
       "        0.49237299,  0.35076178,  0.22218737,  0.11237304,  0.01557381,\n",
       "       -0.07539935, -0.16773548, -0.26862361, -0.38405208, -0.51047376,\n",
       "       -0.63979425, -0.76389119, -0.87464221, -0.96398446, -1.02742706,\n",
       "       -1.06601568, -1.08127225, -1.07471867, -1.0478769 , -1.00234658,\n",
       "       -0.94016245, -0.86351045, -0.7745767 , -0.6755473 , -0.56860836,\n",
       "       -0.455946  , -0.33974632, -0.22219543, -0.10547944,  0.00821555])"
      ]
     },
     "execution_count": 9,
     "metadata": {},
     "output_type": "execute_result"
    }
   ],
   "source": [
    "cubic_interp = interp1d(measured_time, measures, kind='cubic')\n",
    "cubic_results = cubic_interp(interpolation_time)\n",
    "cubic_results"
   ]
  },
  {
   "cell_type": "code",
   "execution_count": 10,
   "id": "0f54bf7a",
   "metadata": {},
   "outputs": [
    {
     "data": {
      "image/png": "[encoded data removed]",
      "text/plain": [
       "<Figure size 432x288 with 1 Axes>"
      ]
     },
     "metadata": {
      "needs_background": "light"
     },
     "output_type": "display_data"
    }
   ],
   "source": [
    "import numpy as np\n",
    "np.random.seed(0)\n",
    "measured_time = np.linspace(0, 1, 10)\n",
    "noise = 1e-1 * (np.random.random(10)*2 - 1)\n",
    "measures = np.sin(2 * np.pi * measured_time) + noise\n",
    "\n",
    "from scipy.interpolate import interp1d\n",
    "linear_interp = interp1d(measured_time, measures)\n",
    "interpolation_time = np.linspace(0, 1, 50)\n",
    "linear_results = linear_interp(interpolation_time)\n",
    "cubic_interp = interp1d(measured_time, measures, kind='cubic')\n",
    "cubic_results = cubic_interp(interpolation_time)\n",
    "\n",
    "from matplotlib import pyplot as plt\n",
    "plt.figure(figsize=(6, 4))\n",
    "plt.plot(measured_time, measures, 'o', ms=6, label='measures')\n",
    "plt.plot(interpolation_time, linear_results, label='linear interp')\n",
    "plt.plot(interpolation_time, cubic_results, label='cubic interp')\n",
    "plt.legend()\n",
    "plt.show()"
   ]
  },
  {
   "cell_type": "code",
   "execution_count": null,
   "id": "3e0bdf79",
   "metadata": {},
   "outputs": [],
   "source": []
  }
 ],
 "metadata": {
  "kernelspec": {
   "display_name": "Python 3 (ipykernel)",
   "language": "python",
   "name": "python3"
  },
  "language_info": {
   "codemirror_mode": {
    "name": "ipython",
    "version": 3
   },
   "file_extension": ".py",
   "mimetype": "text/x-python",
   "name": "python",
   "nbconvert_exporter": "python",
   "pygments_lexer": "ipython3",
   "version": "3.9.12"
  }
 },
 "nbformat": 4,
 "nbformat_minor": 5
}
