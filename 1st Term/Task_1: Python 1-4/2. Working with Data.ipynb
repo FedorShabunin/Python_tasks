{
 "cells": [
  {
   "cell_type": "code",
   "execution_count": 1,
   "id": "5b8f9eca",
   "metadata": {},
   "outputs": [
    {
     "ename": "TypeError",
     "evalue": "can't multiply sequence by non-int of type 'str'",
     "output_type": "error",
     "traceback": [
      "\u001b[0;31m---------------------------------------------------------------------------\u001b[0m",
      "\u001b[0;31mTypeError\u001b[0m                                 Traceback (most recent call last)",
      "Input \u001b[0;32mIn [1]\u001b[0m, in \u001b[0;36m<cell line: 3>\u001b[0;34m()\u001b[0m\n\u001b[1;32m      1\u001b[0m \u001b[38;5;66;03m#task 2.1\u001b[39;00m\n\u001b[1;32m      2\u001b[0m row \u001b[38;5;241m=\u001b[39m [\u001b[38;5;124m'\u001b[39m\u001b[38;5;124mAA\u001b[39m\u001b[38;5;124m'\u001b[39m, \u001b[38;5;124m'\u001b[39m\u001b[38;5;124m100\u001b[39m\u001b[38;5;124m'\u001b[39m, \u001b[38;5;124m'\u001b[39m\u001b[38;5;124m32.20\u001b[39m\u001b[38;5;124m'\u001b[39m]\n\u001b[0;32m----> 3\u001b[0m cost \u001b[38;5;241m=\u001b[39m \u001b[43mrow\u001b[49m\u001b[43m[\u001b[49m\u001b[38;5;241;43m1\u001b[39;49m\u001b[43m]\u001b[49m\u001b[43m \u001b[49m\u001b[38;5;241;43m*\u001b[39;49m\u001b[43m \u001b[49m\u001b[43mrow\u001b[49m\u001b[43m[\u001b[49m\u001b[38;5;241;43m2\u001b[39;49m\u001b[43m]\u001b[49m\n",
      "\u001b[0;31mTypeError\u001b[0m: can't multiply sequence by non-int of type 'str'"
     ]
    }
   ],
   "source": [
    "#task 2.1\n",
    "row = ['AA', '100', '32.20']\n",
    "cost = row[1] * row[2]"
   ]
  },
  {
   "cell_type": "code",
   "execution_count": 2,
   "id": "e808d9d1",
   "metadata": {},
   "outputs": [],
   "source": [
    "t = (row[0], int(row[1]), float(row[2]))\n"
   ]
  },
  {
   "cell_type": "code",
   "execution_count": 3,
   "id": "747d9a24",
   "metadata": {},
   "outputs": [
    {
     "data": {
      "text/plain": [
       "('AA', 100, 32.2)"
      ]
     },
     "execution_count": 3,
     "metadata": {},
     "output_type": "execute_result"
    }
   ],
   "source": [
    "t"
   ]
  },
  {
   "cell_type": "code",
   "execution_count": 4,
   "id": "ef60fc89",
   "metadata": {},
   "outputs": [
    {
     "data": {
      "text/plain": [
       "3220.0000000000005"
      ]
     },
     "execution_count": 4,
     "metadata": {},
     "output_type": "execute_result"
    }
   ],
   "source": [
    "cost = t[1] * t[2]\n",
    "cost"
   ]
  },
  {
   "cell_type": "code",
   "execution_count": 5,
   "id": "3de3e252",
   "metadata": {},
   "outputs": [
    {
     "name": "stdout",
     "output_type": "stream",
     "text": [
      "3220.00\n"
     ]
    }
   ],
   "source": [
    "print(f'{cost:0.2f}')"
   ]
  },
  {
   "cell_type": "code",
   "execution_count": 6,
   "id": "de10442c",
   "metadata": {},
   "outputs": [
    {
     "ename": "TypeError",
     "evalue": "'tuple' object does not support item assignment",
     "output_type": "error",
     "traceback": [
      "\u001b[0;31m---------------------------------------------------------------------------\u001b[0m",
      "\u001b[0;31mTypeError\u001b[0m                                 Traceback (most recent call last)",
      "Input \u001b[0;32mIn [6]\u001b[0m, in \u001b[0;36m<cell line: 1>\u001b[0;34m()\u001b[0m\n\u001b[0;32m----> 1\u001b[0m t[\u001b[38;5;241m1\u001b[39m] \u001b[38;5;241m=\u001b[39m \u001b[38;5;241m75\u001b[39m\n",
      "\u001b[0;31mTypeError\u001b[0m: 'tuple' object does not support item assignment"
     ]
    }
   ],
   "source": [
    "t[1] = 75\n"
   ]
  },
  {
   "cell_type": "code",
   "execution_count": 7,
   "id": "b3a9824e",
   "metadata": {},
   "outputs": [
    {
     "data": {
      "text/plain": [
       "('AA', 75, 32.2)"
      ]
     },
     "execution_count": 7,
     "metadata": {},
     "output_type": "execute_result"
    }
   ],
   "source": [
    "t = (t[0], 75, t[2])\n",
    "t"
   ]
  },
  {
   "cell_type": "code",
   "execution_count": 8,
   "id": "9afc004d",
   "metadata": {},
   "outputs": [
    {
     "data": {
      "text/plain": [
       "'AA'"
      ]
     },
     "execution_count": 8,
     "metadata": {},
     "output_type": "execute_result"
    }
   ],
   "source": [
    "name, shares, price = t\n",
    "name"
   ]
  },
  {
   "cell_type": "code",
   "execution_count": 9,
   "id": "f77b898b",
   "metadata": {},
   "outputs": [
    {
     "data": {
      "text/plain": [
       "75"
      ]
     },
     "execution_count": 9,
     "metadata": {},
     "output_type": "execute_result"
    }
   ],
   "source": [
    "shares"
   ]
  },
  {
   "cell_type": "code",
   "execution_count": 10,
   "id": "b14e2318",
   "metadata": {},
   "outputs": [
    {
     "data": {
      "text/plain": [
       "32.2"
      ]
     },
     "execution_count": 10,
     "metadata": {},
     "output_type": "execute_result"
    }
   ],
   "source": [
    "price"
   ]
  },
  {
   "cell_type": "code",
   "execution_count": 11,
   "id": "d3467062",
   "metadata": {},
   "outputs": [
    {
     "data": {
      "text/plain": [
       "('AA', 150, 32.2)"
      ]
     },
     "execution_count": 11,
     "metadata": {},
     "output_type": "execute_result"
    }
   ],
   "source": [
    "t = (name, 2*shares, price)\n",
    "t"
   ]
  },
  {
   "cell_type": "code",
   "execution_count": 12,
   "id": "5b6fdbcd",
   "metadata": {},
   "outputs": [],
   "source": [
    "#task 2.2\n",
    "d = {\n",
    "        'name' : row[0],\n",
    "        'shares' : int(row[1]),\n",
    "        'price'  : float(row[2])\n",
    "    }"
   ]
  },
  {
   "cell_type": "code",
   "execution_count": 13,
   "id": "22835c79",
   "metadata": {},
   "outputs": [
    {
     "data": {
      "text/plain": [
       "{'name': 'AA', 'shares': 100, 'price': 32.2}"
      ]
     },
     "execution_count": 13,
     "metadata": {},
     "output_type": "execute_result"
    }
   ],
   "source": [
    "d"
   ]
  },
  {
   "cell_type": "code",
   "execution_count": 14,
   "id": "6679e174",
   "metadata": {},
   "outputs": [
    {
     "data": {
      "text/plain": [
       "3220.0000000000005"
      ]
     },
     "execution_count": 14,
     "metadata": {},
     "output_type": "execute_result"
    }
   ],
   "source": [
    "cost = d['shares'] * d['price']\n",
    "cost"
   ]
  },
  {
   "cell_type": "code",
   "execution_count": 15,
   "id": "61b5bfc8",
   "metadata": {},
   "outputs": [
    {
     "data": {
      "text/plain": [
       "{'name': 'AA', 'shares': 75, 'price': 32.2}"
      ]
     },
     "execution_count": 15,
     "metadata": {},
     "output_type": "execute_result"
    }
   ],
   "source": [
    "d['shares'] = 75\n",
    "d"
   ]
  },
  {
   "cell_type": "code",
   "execution_count": 16,
   "id": "86253afb",
   "metadata": {},
   "outputs": [
    {
     "data": {
      "text/plain": [
       "{'name': 'AA',\n",
       " 'shares': 75,\n",
       " 'price': 32.2,\n",
       " 'date': (6, 11, 2007),\n",
       " 'account': 12345}"
      ]
     },
     "execution_count": 16,
     "metadata": {},
     "output_type": "execute_result"
    }
   ],
   "source": [
    "d['date'] = (6, 11, 2007)\n",
    "d['account'] = 12345\n",
    "d"
   ]
  },
  {
   "cell_type": "code",
   "execution_count": 17,
   "id": "86aa1644",
   "metadata": {},
   "outputs": [
    {
     "data": {
      "text/plain": [
       "['name', 'shares', 'price', 'date', 'account']"
      ]
     },
     "execution_count": 17,
     "metadata": {},
     "output_type": "execute_result"
    }
   ],
   "source": [
    "#task 2.3\n",
    "list(d)"
   ]
  },
  {
   "cell_type": "code",
   "execution_count": 18,
   "id": "09e88a69",
   "metadata": {},
   "outputs": [
    {
     "name": "stdout",
     "output_type": "stream",
     "text": [
      "k = name\n",
      "k = shares\n",
      "k = price\n",
      "k = date\n",
      "k = account\n"
     ]
    }
   ],
   "source": [
    "for k in d:\n",
    "    print('k =', k)"
   ]
  },
  {
   "cell_type": "code",
   "execution_count": 19,
   "id": "d54ace98",
   "metadata": {},
   "outputs": [
    {
     "name": "stdout",
     "output_type": "stream",
     "text": [
      "name = AA\n",
      "shares = 75\n",
      "price = 32.2\n",
      "date = (6, 11, 2007)\n",
      "account = 12345\n"
     ]
    }
   ],
   "source": [
    "for k in d:\n",
    "    print(k, '=', d[k])"
   ]
  },
  {
   "cell_type": "code",
   "execution_count": 20,
   "id": "4b0f0ed8",
   "metadata": {},
   "outputs": [
    {
     "data": {
      "text/plain": [
       "dict_keys(['name', 'shares', 'price', 'date', 'account'])"
      ]
     },
     "execution_count": 20,
     "metadata": {},
     "output_type": "execute_result"
    }
   ],
   "source": [
    "keys = d.keys()\n",
    "keys"
   ]
  },
  {
   "cell_type": "code",
   "execution_count": 21,
   "id": "f9c15139",
   "metadata": {},
   "outputs": [
    {
     "data": {
      "text/plain": [
       "dict_keys(['name', 'shares', 'price', 'date'])"
      ]
     },
     "execution_count": 21,
     "metadata": {},
     "output_type": "execute_result"
    }
   ],
   "source": [
    "del d['account']\n",
    "keys"
   ]
  },
  {
   "cell_type": "code",
   "execution_count": 22,
   "id": "d7fc5d51",
   "metadata": {},
   "outputs": [
    {
     "data": {
      "text/plain": [
       "dict_items([('name', 'AA'), ('shares', 75), ('price', 32.2), ('date', (6, 11, 2007))])"
      ]
     },
     "execution_count": 22,
     "metadata": {},
     "output_type": "execute_result"
    }
   ],
   "source": [
    "items = d.items()\n",
    "items"
   ]
  },
  {
   "cell_type": "code",
   "execution_count": 23,
   "id": "4d0240a4",
   "metadata": {},
   "outputs": [
    {
     "name": "stdout",
     "output_type": "stream",
     "text": [
      "name = AA\n",
      "shares = 75\n",
      "price = 32.2\n",
      "date = (6, 11, 2007)\n"
     ]
    }
   ],
   "source": [
    "for k, v in d.items():\n",
    "    print(k, '=', v)"
   ]
  },
  {
   "cell_type": "code",
   "execution_count": 24,
   "id": "9a6826cd",
   "metadata": {},
   "outputs": [
    {
     "data": {
      "text/plain": [
       "dict_items([('name', 'AA'), ('shares', 75), ('price', 32.2), ('date', (6, 11, 2007))])"
      ]
     },
     "execution_count": 24,
     "metadata": {},
     "output_type": "execute_result"
    }
   ],
   "source": [
    "items"
   ]
  },
  {
   "cell_type": "code",
   "execution_count": 25,
   "id": "a9e22b2d",
   "metadata": {},
   "outputs": [
    {
     "data": {
      "text/plain": [
       "{'name': 'AA', 'shares': 75, 'price': 32.2, 'date': (6, 11, 2007)}"
      ]
     },
     "execution_count": 25,
     "metadata": {},
     "output_type": "execute_result"
    }
   ],
   "source": [
    "d = dict(items)\n",
    "d"
   ]
  },
  {
   "cell_type": "code",
   "execution_count": 28,
   "id": "5bcea248",
   "metadata": {},
   "outputs": [],
   "source": [
    "#task 2.4\n",
    "import csv\n",
    "\n",
    "def read_portfolio(filename):\n",
    "    \n",
    "    portfolio = []\n",
    "    with open(filename) as f:\n",
    "        rows = csv.reader(f)\n",
    "        headers = next(rows)\n",
    "\n",
    "        for row in rows:\n",
    "            holding = (row[0], int(row[1]), float(row[2]))\n",
    "            portfolio.append(holding)\n",
    "\n",
    "\n",
    "    return portfolio"
   ]
  },
  {
   "cell_type": "code",
   "execution_count": 29,
   "id": "3197e603",
   "metadata": {},
   "outputs": [
    {
     "data": {
      "text/plain": [
       "[('AA', 100, 32.2),\n",
       " ('IBM', 50, 91.1),\n",
       " ('CAT', 150, 83.44),\n",
       " ('MSFT', 200, 51.23),\n",
       " ('GE', 95, 40.37),\n",
       " ('MSFT', 50, 65.1),\n",
       " ('IBM', 100, 70.44)]"
      ]
     },
     "execution_count": 29,
     "metadata": {},
     "output_type": "execute_result"
    }
   ],
   "source": [
    "portfolio = read_portfolio('/home/fedor/practical-python/Work/Data/portfolio.csv')\n",
    "portfolio"
   ]
  },
  {
   "cell_type": "code",
   "execution_count": 30,
   "id": "ed1575a8",
   "metadata": {},
   "outputs": [
    {
     "data": {
      "text/plain": [
       "('AA', 100, 32.2)"
      ]
     },
     "execution_count": 30,
     "metadata": {},
     "output_type": "execute_result"
    }
   ],
   "source": [
    "portfolio[0]"
   ]
  },
  {
   "cell_type": "code",
   "execution_count": 31,
   "id": "4107c066",
   "metadata": {},
   "outputs": [
    {
     "data": {
      "text/plain": [
       "('IBM', 50, 91.1)"
      ]
     },
     "execution_count": 31,
     "metadata": {},
     "output_type": "execute_result"
    }
   ],
   "source": [
    "portfolio[1]"
   ]
  },
  {
   "cell_type": "code",
   "execution_count": 32,
   "id": "c76ffb8f",
   "metadata": {},
   "outputs": [
    {
     "data": {
      "text/plain": [
       "50"
      ]
     },
     "execution_count": 32,
     "metadata": {},
     "output_type": "execute_result"
    }
   ],
   "source": [
    "portfolio[1][1]"
   ]
  },
  {
   "cell_type": "code",
   "execution_count": 33,
   "id": "c8036cda",
   "metadata": {},
   "outputs": [],
   "source": [
    "total = 0.0"
   ]
  },
  {
   "cell_type": "code",
   "execution_count": 34,
   "id": "322b1d09",
   "metadata": {},
   "outputs": [],
   "source": [
    "for s in portfolio:\n",
    "        total += s[1] * s[2]"
   ]
  },
  {
   "cell_type": "code",
   "execution_count": 35,
   "id": "818f0887",
   "metadata": {},
   "outputs": [
    {
     "name": "stdout",
     "output_type": "stream",
     "text": [
      "44671.15\n"
     ]
    }
   ],
   "source": [
    "print(total)"
   ]
  },
  {
   "cell_type": "code",
   "execution_count": 36,
   "id": "173b5f7c",
   "metadata": {},
   "outputs": [
    {
     "name": "stdout",
     "output_type": "stream",
     "text": [
      "44671.15\n"
     ]
    }
   ],
   "source": [
    "total = 0.0\n",
    "for name, shares, price in portfolio:\n",
    "         total += shares*price\n",
    "\n",
    "print(total)"
   ]
  },
  {
   "cell_type": "code",
   "execution_count": 37,
   "id": "b9fd3f5b",
   "metadata": {},
   "outputs": [],
   "source": [
    "#task 2.5\n",
    "import csv\n",
    "\n",
    "def read_portfolio(filename):\n",
    "    \n",
    "    portfolio = []\n",
    "    with open(filename) as f:\n",
    "        rows = csv.reader(f)\n",
    "        headers = next(rows)\n",
    "\n",
    "        for row in rows:\n",
    "            stock = {\n",
    "                 'name'   : row[0],\n",
    "                 'shares' : int(row[1]),\n",
    "                 'price'   : float(row[2])\n",
    "            }\n",
    "            portfolio.append(stock)\n",
    "\n",
    "    return portfolio"
   ]
  },
  {
   "cell_type": "code",
   "execution_count": 39,
   "id": "2f627c1b",
   "metadata": {},
   "outputs": [
    {
     "data": {
      "text/plain": [
       "[{'name': 'AA', 'shares': 100, 'price': 32.2},\n",
       " {'name': 'IBM', 'shares': 50, 'price': 91.1},\n",
       " {'name': 'CAT', 'shares': 150, 'price': 83.44},\n",
       " {'name': 'MSFT', 'shares': 200, 'price': 51.23},\n",
       " {'name': 'GE', 'shares': 95, 'price': 40.37},\n",
       " {'name': 'MSFT', 'shares': 50, 'price': 65.1},\n",
       " {'name': 'IBM', 'shares': 100, 'price': 70.44}]"
      ]
     },
     "execution_count": 39,
     "metadata": {},
     "output_type": "execute_result"
    }
   ],
   "source": [
    "portfolio = read_portfolio('/home/fedor/practical-python/Work/Data/portfolio.csv')\n",
    "portfolio"
   ]
  },
  {
   "cell_type": "code",
   "execution_count": 40,
   "id": "0e626f2d",
   "metadata": {},
   "outputs": [
    {
     "data": {
      "text/plain": [
       "{'name': 'AA', 'shares': 100, 'price': 32.2}"
      ]
     },
     "execution_count": 40,
     "metadata": {},
     "output_type": "execute_result"
    }
   ],
   "source": [
    "portfolio[0]"
   ]
  },
  {
   "cell_type": "code",
   "execution_count": 41,
   "id": "53c35f9e",
   "metadata": {},
   "outputs": [
    {
     "data": {
      "text/plain": [
       "{'name': 'IBM', 'shares': 50, 'price': 91.1}"
      ]
     },
     "execution_count": 41,
     "metadata": {},
     "output_type": "execute_result"
    }
   ],
   "source": [
    "portfolio[1]"
   ]
  },
  {
   "cell_type": "code",
   "execution_count": 42,
   "id": "e16174cc",
   "metadata": {},
   "outputs": [
    {
     "data": {
      "text/plain": [
       "50"
      ]
     },
     "execution_count": 42,
     "metadata": {},
     "output_type": "execute_result"
    }
   ],
   "source": [
    "portfolio[1]['shares']"
   ]
  },
  {
   "cell_type": "code",
   "execution_count": 43,
   "id": "e686787f",
   "metadata": {},
   "outputs": [
    {
     "name": "stdout",
     "output_type": "stream",
     "text": [
      "44671.15\n"
     ]
    }
   ],
   "source": [
    "total = 0.0\n",
    "for s in portfolio:\n",
    "    total += s['shares']*s['price']\n",
    "\n",
    "print(total)"
   ]
  },
  {
   "cell_type": "code",
   "execution_count": 44,
   "id": "d01f0901",
   "metadata": {},
   "outputs": [
    {
     "name": "stdout",
     "output_type": "stream",
     "text": [
      "[{'name': 'AA', 'price': 32.2, 'shares': 100},\n",
      " {'name': 'IBM', 'price': 91.1, 'shares': 50},\n",
      " {'name': 'CAT', 'price': 83.44, 'shares': 150},\n",
      " {'name': 'MSFT', 'price': 51.23, 'shares': 200},\n",
      " {'name': 'GE', 'price': 40.37, 'shares': 95},\n",
      " {'name': 'MSFT', 'price': 65.1, 'shares': 50},\n",
      " {'name': 'IBM', 'price': 70.44, 'shares': 100}]\n"
     ]
    }
   ],
   "source": [
    "from pprint import pprint\n",
    "pprint(portfolio)"
   ]
  },
  {
   "cell_type": "code",
   "execution_count": 45,
   "id": "26c05849",
   "metadata": {},
   "outputs": [
    {
     "data": {
      "text/plain": [
       "{'IBM': 92.45, 'MSFT': 45.12}"
      ]
     },
     "execution_count": 45,
     "metadata": {},
     "output_type": "execute_result"
    }
   ],
   "source": [
    "# task 2.6\n",
    "prices = { }\n",
    "prices['IBM'] = 92.45\n",
    "prices['MSFT'] = 45.12\n",
    "prices"
   ]
  },
  {
   "cell_type": "code",
   "execution_count": 46,
   "id": "6fc9e537",
   "metadata": {},
   "outputs": [
    {
     "data": {
      "text/plain": [
       "92.45"
      ]
     },
     "execution_count": 46,
     "metadata": {},
     "output_type": "execute_result"
    }
   ],
   "source": [
    "prices['IBM']"
   ]
  },
  {
   "cell_type": "code",
   "execution_count": 47,
   "id": "f9b3577b",
   "metadata": {},
   "outputs": [
    {
     "ename": "KeyError",
     "evalue": "'AAPL'",
     "output_type": "error",
     "traceback": [
      "\u001b[0;31m---------------------------------------------------------------------------\u001b[0m",
      "\u001b[0;31mKeyError\u001b[0m                                  Traceback (most recent call last)",
      "Input \u001b[0;32mIn [47]\u001b[0m, in \u001b[0;36m<cell line: 1>\u001b[0;34m()\u001b[0m\n\u001b[0;32m----> 1\u001b[0m \u001b[43mprices\u001b[49m\u001b[43m[\u001b[49m\u001b[38;5;124;43m'\u001b[39;49m\u001b[38;5;124;43mAAPL\u001b[39;49m\u001b[38;5;124;43m'\u001b[39;49m\u001b[43m]\u001b[49m\n",
      "\u001b[0;31mKeyError\u001b[0m: 'AAPL'"
     ]
    }
   ],
   "source": [
    "prices['AAPL']"
   ]
  },
  {
   "cell_type": "code",
   "execution_count": 48,
   "id": "3bc84b2b",
   "metadata": {},
   "outputs": [
    {
     "data": {
      "text/plain": [
       "False"
      ]
     },
     "execution_count": 48,
     "metadata": {},
     "output_type": "execute_result"
    }
   ],
   "source": [
    "'AAPL' in prices"
   ]
  },
  {
   "cell_type": "code",
   "execution_count": 49,
   "id": "0ef8f92d",
   "metadata": {},
   "outputs": [],
   "source": [
    "def read_prices(filename):\n",
    "    \n",
    "    prices = {}\n",
    "    with open(filename) as f:\n",
    "        rows = csv.reader(f)\n",
    "        for row in rows:\n",
    "            try:\n",
    "                prices[row[0]] = float(row[1])\n",
    "            except IndexError:\n",
    "                pass\n",
    "\n",
    "    return prices"
   ]
  },
  {
   "cell_type": "code",
   "execution_count": 51,
   "id": "22f8792d",
   "metadata": {},
   "outputs": [
    {
     "data": {
      "text/plain": [
       "106.28"
      ]
     },
     "execution_count": 51,
     "metadata": {},
     "output_type": "execute_result"
    }
   ],
   "source": [
    "prices = read_prices('/home/fedor/practical-python/Work/Data/prices.csv')\n",
    "prices['IBM']"
   ]
  },
  {
   "cell_type": "code",
   "execution_count": 52,
   "id": "080d9a7e",
   "metadata": {},
   "outputs": [
    {
     "data": {
      "text/plain": [
       "20.89"
      ]
     },
     "execution_count": 52,
     "metadata": {},
     "output_type": "execute_result"
    }
   ],
   "source": [
    "prices['MSFT']"
   ]
  },
  {
   "cell_type": "code",
   "execution_count": 57,
   "id": "332d8204",
   "metadata": {},
   "outputs": [
    {
     "name": "stdout",
     "output_type": "stream",
     "text": [
      "Total cost 44671.15\n",
      "Current value 28686.1\n",
      "Gain -15985.050000000003\n"
     ]
    }
   ],
   "source": [
    "#task 2.7\n",
    "import csv\n",
    "\n",
    "def read_portfolio(filename):\n",
    "    \n",
    "    portfolio = []\n",
    "    with open(filename) as f:\n",
    "        rows = csv.reader(f)\n",
    "        headers = next(rows)\n",
    "\n",
    "        for row in rows:\n",
    "            stock = {\n",
    "                 'name'   : row[0],\n",
    "                 'shares' : int(row[1]),\n",
    "                 'price'   : float(row[2])\n",
    "            }\n",
    "            portfolio.append(stock)\n",
    "\n",
    "    return portfolio\n",
    "\n",
    "def read_prices(filename):\n",
    "    \n",
    "    prices = {}\n",
    "    with open(filename) as f:\n",
    "        rows = csv.reader(f)\n",
    "        for row in rows:\n",
    "            try:\n",
    "                prices[row[0]] = float(row[1])\n",
    "            except IndexError:\n",
    "                pass\n",
    "\n",
    "    return prices\n",
    "\n",
    "portfolio = read_portfolio('/home/fedor/practical-python/Work/Data/portfolio.csv')\n",
    "prices    = read_prices('/home/fedor/practical-python/Work/Data/prices.csv')\n",
    "\n",
    "\n",
    "\n",
    "total_cost = 0.0\n",
    "for s in portfolio:\n",
    "    total_cost += s['shares']*s['price']\n",
    "\n",
    "print('Total cost', total_cost)\n",
    "\n",
    "\n",
    "\n",
    "total_value = 0.0\n",
    "for s in portfolio:\n",
    "    total_value += s['shares']*prices[s['name']]\n",
    "\n",
    "print('Current value', total_value)\n",
    "if total_value - total_cost < 0:\n",
    "    print('Gain', total_value - total_cost)\n",
    "else:\n",
    "    print('Loss', total_value - total_cost)"
   ]
  },
  {
   "cell_type": "code",
   "execution_count": 58,
   "id": "eb7843e9",
   "metadata": {},
   "outputs": [
    {
     "name": "stdout",
     "output_type": "stream",
     "text": [
      "42863.1\n"
     ]
    }
   ],
   "source": [
    "#task 2.8\n",
    "value = 42863.1\n",
    "print(value)"
   ]
  },
  {
   "cell_type": "code",
   "execution_count": 59,
   "id": "54b21962",
   "metadata": {},
   "outputs": [
    {
     "name": "stdout",
     "output_type": "stream",
     "text": [
      "42863.1000\n"
     ]
    }
   ],
   "source": [
    "print(f'{value:0.4f}')"
   ]
  },
  {
   "cell_type": "code",
   "execution_count": 60,
   "id": "c4a0c47b",
   "metadata": {},
   "outputs": [
    {
     "name": "stdout",
     "output_type": "stream",
     "text": [
      "        42863.10\n"
     ]
    }
   ],
   "source": [
    "print(f'{value:>16.2f}')"
   ]
  },
  {
   "cell_type": "code",
   "execution_count": 61,
   "id": "5d8421f4",
   "metadata": {},
   "outputs": [
    {
     "name": "stdout",
     "output_type": "stream",
     "text": [
      "42863.10        \n"
     ]
    }
   ],
   "source": [
    "print(f'{value:<16.2f}')"
   ]
  },
  {
   "cell_type": "code",
   "execution_count": 62,
   "id": "9b7327ab",
   "metadata": {},
   "outputs": [
    {
     "name": "stdout",
     "output_type": "stream",
     "text": [
      "*******42,863.10\n"
     ]
    }
   ],
   "source": [
    "print(f'{value:*>16,.2f}')"
   ]
  },
  {
   "cell_type": "code",
   "execution_count": 63,
   "id": "52303b2c",
   "metadata": {},
   "outputs": [
    {
     "name": "stdout",
     "output_type": "stream",
     "text": [
      "42863.1000\n"
     ]
    }
   ],
   "source": [
    "print('%0.4f' % value)"
   ]
  },
  {
   "cell_type": "code",
   "execution_count": 64,
   "id": "26983ec6",
   "metadata": {},
   "outputs": [
    {
     "name": "stdout",
     "output_type": "stream",
     "text": [
      "        42863.10\n"
     ]
    }
   ],
   "source": [
    "print('%16.2f' % value)"
   ]
  },
  {
   "cell_type": "code",
   "execution_count": 65,
   "id": "efb24552",
   "metadata": {},
   "outputs": [
    {
     "data": {
      "text/plain": [
       "'42863.1000'"
      ]
     },
     "execution_count": 65,
     "metadata": {},
     "output_type": "execute_result"
    }
   ],
   "source": [
    "f = '%0.4f' % value\n",
    "f"
   ]
  },
  {
   "cell_type": "code",
   "execution_count": 68,
   "id": "f259371c",
   "metadata": {},
   "outputs": [
    {
     "name": "stdout",
     "output_type": "stream",
     "text": [
      "('AA', 100, 9.22, -22.980000000000004)\n",
      "('IBM', 50, 106.28, 15.180000000000007)\n",
      "('CAT', 150, 35.46, -47.98)\n",
      "('MSFT', 200, 20.89, -30.339999999999996)\n",
      "('GE', 95, 13.48, -26.889999999999997)\n",
      "('MSFT', 50, 20.89, -44.209999999999994)\n",
      "('IBM', 100, 106.28, 35.84)\n"
     ]
    }
   ],
   "source": [
    "import csv\n",
    "\n",
    "def read_portfolio(filename):\n",
    "    \n",
    "    portfolio = []\n",
    "    with open(filename) as f:\n",
    "        rows = csv.reader(f)\n",
    "        headers = next(rows)\n",
    "\n",
    "        for row in rows:\n",
    "            stock = {\n",
    "                 'name'   : row[0],\n",
    "                 'shares' : int(row[1]),\n",
    "                 'price'   : float(row[2])\n",
    "            }\n",
    "            portfolio.append(stock)\n",
    "\n",
    "    return portfolio\n",
    "\n",
    "def read_prices(filename):\n",
    "    \n",
    "    prices = {}\n",
    "    with open(filename) as f:\n",
    "        rows = csv.reader(f)\n",
    "        for row in rows:\n",
    "            try:\n",
    "                prices[row[0]] = float(row[1])\n",
    "            except IndexError:\n",
    "                pass\n",
    "\n",
    "    return prices\n",
    "\n",
    "def make_report_data(portfolio, prices):\n",
    "    \n",
    "    rows = []\n",
    "    for stock in portfolio:\n",
    "        current_price = prices[stock['name']]\n",
    "        change = current_price - stock['price']\n",
    "        summary = (stock['name'], stock['shares'], current_price, change)\n",
    "        rows.append(summary)\n",
    "    return rows\n",
    "            \n",
    "\n",
    "   \n",
    "\n",
    "portfolio = read_portfolio('/home/fedor/practical-python/Work/Data/portfolio.csv')\n",
    "prices    = read_prices('/home/fedor/practical-python/Work/Data/prices.csv')\n",
    "report = make_report_data(portfolio, prices)\n",
    "\n",
    "for row in report:\n",
    "    print(row)"
   ]
  },
  {
   "cell_type": "code",
   "execution_count": 69,
   "id": "c82ec911",
   "metadata": {},
   "outputs": [
    {
     "name": "stdout",
     "output_type": "stream",
     "text": [
      "        AA        100       9.22     -22.98\n",
      "       IBM         50     106.28      15.18\n",
      "       CAT        150      35.46     -47.98\n",
      "      MSFT        200      20.89     -30.34\n",
      "        GE         95      13.48     -26.89\n",
      "      MSFT         50      20.89     -44.21\n",
      "       IBM        100     106.28      35.84\n"
     ]
    }
   ],
   "source": [
    "#task 2.10\n",
    "import csv\n",
    "\n",
    "def read_portfolio(filename):\n",
    "    \n",
    "    portfolio = []\n",
    "    with open(filename) as f:\n",
    "        rows = csv.reader(f)\n",
    "        headers = next(rows)\n",
    "\n",
    "        for row in rows:\n",
    "            stock = {\n",
    "                 'name'   : row[0],\n",
    "                 'shares' : int(row[1]),\n",
    "                 'price'   : float(row[2])\n",
    "            }\n",
    "            portfolio.append(stock)\n",
    "\n",
    "    return portfolio\n",
    "\n",
    "def read_prices(filename):\n",
    "    \n",
    "    prices = {}\n",
    "    with open(filename) as f:\n",
    "        rows = csv.reader(f)\n",
    "        for row in rows:\n",
    "            try:\n",
    "                prices[row[0]] = float(row[1])\n",
    "            except IndexError:\n",
    "                pass\n",
    "\n",
    "    return prices\n",
    "\n",
    "def make_report_data(portfolio, prices):\n",
    "    \n",
    "    rows = []\n",
    "    for stock in portfolio:\n",
    "        current_price = prices[stock['name']]\n",
    "        change = current_price - stock['price']\n",
    "        summary = (stock['name'], stock['shares'], current_price, change)\n",
    "        rows.append(summary)\n",
    "    return rows\n",
    "            \n",
    "\n",
    "   \n",
    "\n",
    "portfolio = read_portfolio('/home/fedor/practical-python/Work/Data/portfolio.csv')\n",
    "prices    = read_prices('/home/fedor/practical-python/Work/Data/prices.csv')\n",
    "report = make_report_data(portfolio, prices)\n",
    "\n",
    "for row in report:\n",
    "    print('%10s %10d %10.2f %10.2f' % row)"
   ]
  },
  {
   "cell_type": "code",
   "execution_count": 70,
   "id": "70cfa2c0",
   "metadata": {},
   "outputs": [
    {
     "name": "stdout",
     "output_type": "stream",
     "text": [
      "      Name     Shares      Price     Change\n",
      "---------- ---------- ---------- ---------- \n",
      "        AA        100       9.22     -22.98\n",
      "       IBM         50     106.28      15.18\n",
      "       CAT        150      35.46     -47.98\n",
      "      MSFT        200      20.89     -30.34\n",
      "        GE         95      13.48     -26.89\n",
      "      MSFT         50      20.89     -44.21\n",
      "       IBM        100     106.28      35.84\n"
     ]
    }
   ],
   "source": [
    "#task 2.11\n",
    "import csv\n",
    "\n",
    "def read_portfolio(filename):\n",
    "    \n",
    "    portfolio = []\n",
    "    with open(filename) as f:\n",
    "        rows = csv.reader(f)\n",
    "        headers = next(rows)\n",
    "\n",
    "        for row in rows:\n",
    "            stock = {\n",
    "                 'name'   : row[0],\n",
    "                 'shares' : int(row[1]),\n",
    "                 'price'   : float(row[2])\n",
    "            }\n",
    "            portfolio.append(stock)\n",
    "\n",
    "    return portfolio\n",
    "\n",
    "def read_prices(filename):\n",
    "    \n",
    "    prices = {}\n",
    "    with open(filename) as f:\n",
    "        rows = csv.reader(f)\n",
    "        for row in rows:\n",
    "            try:\n",
    "                prices[row[0]] = float(row[1])\n",
    "            except IndexError:\n",
    "                pass\n",
    "\n",
    "    return prices\n",
    "\n",
    "def make_report_data(portfolio, prices):\n",
    "    \n",
    "    rows = []\n",
    "    for stock in portfolio:\n",
    "        current_price = prices[stock['name']]\n",
    "        change = current_price - stock['price']\n",
    "        summary = (stock['name'], stock['shares'], current_price, change)\n",
    "        rows.append(summary)\n",
    "    return rows\n",
    "            \n",
    "\n",
    "   \n",
    "\n",
    "portfolio = read_portfolio('/home/fedor/practical-python/Work/Data/portfolio.csv')\n",
    "prices    = read_prices('/home/fedor/practical-python/Work/Data/prices.csv')\n",
    "report = make_report_data(portfolio, prices)\n",
    "\n",
    "headers = ('Name', 'Shares', 'Price', 'Change')\n",
    "print('%10s %10s %10s %10s' % headers)\n",
    "print(('-' * 10 + ' ') * len(headers))\n",
    "for row in report:\n",
    "    print('%10s %10d %10.2f %10.2f' % row)"
   ]
  },
  {
   "cell_type": "code",
   "execution_count": 1,
   "id": "27580bee",
   "metadata": {},
   "outputs": [
    {
     "name": "stdout",
     "output_type": "stream",
     "text": [
      "0 1 2 3 4 5 6 7 8 9 "
     ]
    }
   ],
   "source": [
    "#task 2.13\n",
    "for n in range(10):            \n",
    "    print(n, end=' ')"
   ]
  },
  {
   "cell_type": "code",
   "execution_count": 2,
   "id": "9ed4495f",
   "metadata": {},
   "outputs": [
    {
     "name": "stdout",
     "output_type": "stream",
     "text": [
      "10 9 8 7 6 5 4 3 2 1 "
     ]
    }
   ],
   "source": [
    "for n in range(10,0,-1):      \n",
    "    print(n, end=' ')"
   ]
  },
  {
   "cell_type": "code",
   "execution_count": 3,
   "id": "3854bd37",
   "metadata": {},
   "outputs": [
    {
     "name": "stdout",
     "output_type": "stream",
     "text": [
      "0 2 4 6 8 "
     ]
    }
   ],
   "source": [
    "for n in range(0,10,2):        \n",
    "    print(n, end=' ')"
   ]
  },
  {
   "cell_type": "code",
   "execution_count": 4,
   "id": "253816be",
   "metadata": {},
   "outputs": [
    {
     "data": {
      "text/plain": [
       "1"
      ]
     },
     "execution_count": 4,
     "metadata": {},
     "output_type": "execute_result"
    }
   ],
   "source": [
    "#task 2.14\n",
    "data = [4, 9, 1, 25, 16, 100, 49]\n",
    "min(data)"
   ]
  },
  {
   "cell_type": "code",
   "execution_count": 5,
   "id": "c7d7beb5",
   "metadata": {},
   "outputs": [
    {
     "data": {
      "text/plain": [
       "100"
      ]
     },
     "execution_count": 5,
     "metadata": {},
     "output_type": "execute_result"
    }
   ],
   "source": [
    "max(data)"
   ]
  },
  {
   "cell_type": "code",
   "execution_count": 6,
   "id": "da1fd65e",
   "metadata": {},
   "outputs": [
    {
     "data": {
      "text/plain": [
       "204"
      ]
     },
     "execution_count": 6,
     "metadata": {},
     "output_type": "execute_result"
    }
   ],
   "source": [
    "sum(data)"
   ]
  },
  {
   "cell_type": "code",
   "execution_count": 7,
   "id": "116b901d",
   "metadata": {},
   "outputs": [
    {
     "name": "stdout",
     "output_type": "stream",
     "text": [
      "4\n",
      "9\n",
      "1\n",
      "25\n",
      "16\n",
      "100\n",
      "49\n"
     ]
    }
   ],
   "source": [
    "for x in data:\n",
    "    print(x)"
   ]
  },
  {
   "cell_type": "code",
   "execution_count": 8,
   "id": "1df21975",
   "metadata": {},
   "outputs": [
    {
     "name": "stdout",
     "output_type": "stream",
     "text": [
      "0 4\n",
      "1 9\n",
      "2 1\n",
      "3 25\n",
      "4 16\n",
      "5 100\n",
      "6 49\n"
     ]
    }
   ],
   "source": [
    "for n, x in enumerate(data):\n",
    "    print(n, x)"
   ]
  },
  {
   "cell_type": "code",
   "execution_count": 15,
   "id": "034bdec0",
   "metadata": {},
   "outputs": [
    {
     "name": "stdout",
     "output_type": "stream",
     "text": [
      "Enter a filename:/home/fedor/practical-python/Work/Data/missing.csv\n",
      "Row 4: Bad row: ['MSFT', '', '51.23']\n",
      "Row 7: Bad row: ['IBM', '', '70.44']\n",
      "Total cost: 27381.15\n"
     ]
    }
   ],
   "source": [
    "#task 2.15\n",
    "import csv\n",
    "def portfolio_cost(filename):\n",
    "    \n",
    "    total_cost = 0.0\n",
    "\n",
    "    with open(filename, 'rt') as f:\n",
    "        rows = csv.reader(f)\n",
    "        headers = next(rows)\n",
    "        for rowno, row in enumerate(rows, start=1):\n",
    "            try:\n",
    "                nshares = int(row[1])\n",
    "                price = float(row[2])\n",
    "                total_cost += nshares * price\n",
    "            \n",
    "            except ValueError:\n",
    "                print(f'Row {rowno}: Bad row: {row}')\n",
    "\n",
    "\n",
    "    return total_cost\n",
    "\n",
    "import sys\n",
    "if len(sys.argv) == 2:\n",
    "    filename = sys.argv[1]\n",
    "else:\n",
    "    filename = input('Enter a filename:')\n",
    "\n",
    "cost = portfolio_cost(filename)\n",
    "print('Total cost:', cost)"
   ]
  },
  {
   "cell_type": "code",
   "execution_count": 17,
   "id": "e96ca107",
   "metadata": {},
   "outputs": [
    {
     "data": {
      "text/plain": [
       "['name', 'shares', 'price']"
      ]
     },
     "execution_count": 17,
     "metadata": {},
     "output_type": "execute_result"
    }
   ],
   "source": [
    "#task 2.16\n",
    "f = open('/home/fedor/practical-python/Work/Data/portfolio.csv')\n",
    "rows = csv.reader(f)\n",
    "headers = next(rows)\n",
    "headers"
   ]
  },
  {
   "cell_type": "code",
   "execution_count": 18,
   "id": "78393072",
   "metadata": {},
   "outputs": [
    {
     "data": {
      "text/plain": [
       "['AA', '100', '32.20']"
      ]
     },
     "execution_count": 18,
     "metadata": {},
     "output_type": "execute_result"
    }
   ],
   "source": [
    "row = next(rows)\n",
    "row"
   ]
  },
  {
   "cell_type": "code",
   "execution_count": 19,
   "id": "3f286e46",
   "metadata": {},
   "outputs": [
    {
     "data": {
      "text/plain": [
       "[('name', 'AA'), ('shares', '100'), ('price', '32.20')]"
      ]
     },
     "execution_count": 19,
     "metadata": {},
     "output_type": "execute_result"
    }
   ],
   "source": [
    "list(zip(headers, row))"
   ]
  },
  {
   "cell_type": "code",
   "execution_count": 20,
   "id": "994e0386",
   "metadata": {},
   "outputs": [
    {
     "data": {
      "text/plain": [
       "{'name': 'AA', 'shares': '100', 'price': '32.20'}"
      ]
     },
     "execution_count": 20,
     "metadata": {},
     "output_type": "execute_result"
    }
   ],
   "source": [
    "record = dict(zip(headers, row))\n",
    "record"
   ]
  },
  {
   "cell_type": "code",
   "execution_count": 22,
   "id": "d0d06017",
   "metadata": {},
   "outputs": [
    {
     "name": "stdout",
     "output_type": "stream",
     "text": [
      "Enter a filename:/home/fedor/practical-python/Work/Data/portfoliodate.csv\n",
      "Total cost: 44671.15\n"
     ]
    }
   ],
   "source": [
    "import csv\n",
    "def portfolio_cost(filename):\n",
    "    \n",
    "    total_cost = 0.0\n",
    "\n",
    "    with open(filename) as f:\n",
    "        rows = csv.reader(f)\n",
    "        headers = next(rows)\n",
    "        for rowno, row in enumerate(rows, start=1):\n",
    "            record = dict(zip(headers, row))\n",
    "            try:\n",
    "                nshares = int(record['shares'])\n",
    "                price = float(record['price'])\n",
    "                total_cost += nshares * price\n",
    "            \n",
    "            except ValueError:\n",
    "                print(f'Row {rowno}: Bad row: {row}')\n",
    "\n",
    "    return total_cost\n",
    "\n",
    "import sys\n",
    "if len(sys.argv) == 2:\n",
    "    filename = sys.argv[1]\n",
    "else:\n",
    "    filename = input('Enter a filename:')\n",
    "\n",
    "cost = portfolio_cost(filename)\n",
    "print('Total cost:', cost)"
   ]
  },
  {
   "cell_type": "code",
   "execution_count": 23,
   "id": "dc570729",
   "metadata": {},
   "outputs": [
    {
     "name": "stdout",
     "output_type": "stream",
     "text": [
      "      Name     Shares      Price     Change\n",
      "---------- ---------- ---------- ---------- \n",
      "        AA        100       9.22     -22.98\n",
      "       IBM         50     106.28      15.18\n",
      "       CAT        150      35.46     -47.98\n",
      "      MSFT        200      20.89     -30.34\n",
      "        GE         95      13.48     -26.89\n",
      "      MSFT         50      20.89     -44.21\n",
      "       IBM        100     106.28      35.84\n"
     ]
    }
   ],
   "source": [
    "import csv\n",
    "\n",
    "def read_portfolio(filename):\n",
    "    \n",
    "    portfolio = []\n",
    "    with open(filename) as f:\n",
    "        rows = csv.reader(f)\n",
    "        headers = next(rows)\n",
    "\n",
    "        for row in rows:\n",
    "            record = dict(zip(headers, row))\n",
    "            stock = {\n",
    "                 'name'   : record['name'],\n",
    "                 'shares' : int(record['shares']),\n",
    "                 'price'   : float(record['price'])\n",
    "            }\n",
    "            portfolio.append(stock)\n",
    "\n",
    "    return portfolio\n",
    "\n",
    "def read_prices(filename):\n",
    "    \n",
    "    prices = {}\n",
    "    with open(filename) as f:\n",
    "        rows = csv.reader(f)\n",
    "        for row in rows:\n",
    "            try:\n",
    "                prices[row[0]] = float(row[1])\n",
    "            except IndexError:\n",
    "                pass\n",
    "\n",
    "    return prices\n",
    "\n",
    "def make_report_data(portfolio, prices):\n",
    "    \n",
    "    rows = []\n",
    "    for stock in portfolio:\n",
    "        current_price = prices[stock['name']]\n",
    "        change        = current_price - stock['price']\n",
    "        summary       = (stock['name'], stock['shares'], current_price, change)\n",
    "        rows.append(summary)\n",
    "    return rows\n",
    "        \n",
    "\n",
    "portfolio = read_portfolio('/home/fedor/practical-python/Work/Data/portfolio.csv')\n",
    "prices    = read_prices('/home/fedor/practical-python/Work/Data/prices.csv')\n",
    "\n",
    "\n",
    "report    = make_report_data(portfolio, prices)\n",
    "\n",
    "\n",
    "headers = ('Name', 'Shares', 'Price', 'Change')\n",
    "print('%10s %10s %10s %10s' % headers)\n",
    "print(('-' * 10 + ' ') * len(headers))\n",
    "for row in report:\n",
    "    print('%10s %10d %10.2f %10.2f' % row)"
   ]
  },
  {
   "cell_type": "code",
   "execution_count": 24,
   "id": "dfb006b1",
   "metadata": {},
   "outputs": [],
   "source": [
    "#task 2.17\n",
    "prices = {\n",
    "        'GOOG' : 490.1,\n",
    "        'AA' : 23.45,\n",
    "        'IBM' : 91.1,\n",
    "        'MSFT' : 34.23\n",
    "    }"
   ]
  },
  {
   "cell_type": "code",
   "execution_count": 25,
   "id": "1219ed56",
   "metadata": {},
   "outputs": [
    {
     "data": {
      "text/plain": [
       "dict_items([('GOOG', 490.1), ('AA', 23.45), ('IBM', 91.1), ('MSFT', 34.23)])"
      ]
     },
     "execution_count": 25,
     "metadata": {},
     "output_type": "execute_result"
    }
   ],
   "source": [
    "prices.items()"
   ]
  },
  {
   "cell_type": "code",
   "execution_count": 26,
   "id": "857c72b1",
   "metadata": {},
   "outputs": [
    {
     "data": {
      "text/plain": [
       "[(490.1, 'GOOG'), (23.45, 'AA'), (91.1, 'IBM'), (34.23, 'MSFT')]"
      ]
     },
     "execution_count": 26,
     "metadata": {},
     "output_type": "execute_result"
    }
   ],
   "source": [
    "pricelist = list(zip(prices.values(),prices.keys()))\n",
    "pricelist"
   ]
  },
  {
   "cell_type": "code",
   "execution_count": 27,
   "id": "8b456eda",
   "metadata": {},
   "outputs": [
    {
     "data": {
      "text/plain": [
       "(23.45, 'AA')"
      ]
     },
     "execution_count": 27,
     "metadata": {},
     "output_type": "execute_result"
    }
   ],
   "source": [
    "min(pricelist)"
   ]
  },
  {
   "cell_type": "code",
   "execution_count": 28,
   "id": "859b13cf",
   "metadata": {},
   "outputs": [
    {
     "data": {
      "text/plain": [
       "(490.1, 'GOOG')"
      ]
     },
     "execution_count": 28,
     "metadata": {},
     "output_type": "execute_result"
    }
   ],
   "source": [
    "max(pricelist)"
   ]
  },
  {
   "cell_type": "code",
   "execution_count": 29,
   "id": "d06e2807",
   "metadata": {},
   "outputs": [
    {
     "data": {
      "text/plain": [
       "[(23.45, 'AA'), (34.23, 'MSFT'), (91.1, 'IBM'), (490.1, 'GOOG')]"
      ]
     },
     "execution_count": 29,
     "metadata": {},
     "output_type": "execute_result"
    }
   ],
   "source": [
    "sorted(pricelist)"
   ]
  },
  {
   "cell_type": "code",
   "execution_count": 30,
   "id": "a847584a",
   "metadata": {},
   "outputs": [
    {
     "data": {
      "text/plain": [
       "[(1, 'w', 0.2), (2, 'x', 0.4), (3, 'y', 0.6), (4, 'z', 0.8)]"
      ]
     },
     "execution_count": 30,
     "metadata": {},
     "output_type": "execute_result"
    }
   ],
   "source": [
    "a = [1, 2, 3, 4]\n",
    "b = ['w', 'x', 'y', 'z']\n",
    "c = [0.2, 0.4, 0.6, 0.8]\n",
    "list(zip(a, b, c))"
   ]
  },
  {
   "cell_type": "code",
   "execution_count": 31,
   "id": "f5f58425",
   "metadata": {},
   "outputs": [
    {
     "data": {
      "text/plain": [
       "[(1, 'x'), (2, 'y'), (3, 'z')]"
      ]
     },
     "execution_count": 31,
     "metadata": {},
     "output_type": "execute_result"
    }
   ],
   "source": [
    "a = [1, 2, 3, 4, 5, 6]\n",
    "b = ['x', 'y', 'z']\n",
    "list(zip(a,b))"
   ]
  },
  {
   "cell_type": "code",
   "execution_count": 33,
   "id": "1318e042",
   "metadata": {},
   "outputs": [
    {
     "data": {
      "text/plain": [
       "Counter({'AA': 100, 'IBM': 150, 'CAT': 150, 'MSFT': 250, 'GE': 95})"
      ]
     },
     "execution_count": 33,
     "metadata": {},
     "output_type": "execute_result"
    }
   ],
   "source": [
    "#task 2.18\n",
    "portfolio = read_portfolio('/home/fedor/practical-python/Work/Data/portfolio.csv')\n",
    "from collections import Counter\n",
    "holdings = Counter()\n",
    "for s in portfolio:\n",
    "    holdings[s['name']] += s['shares']\n",
    "\n",
    "holdings"
   ]
  },
  {
   "cell_type": "code",
   "execution_count": 34,
   "id": "83eb2575",
   "metadata": {},
   "outputs": [
    {
     "data": {
      "text/plain": [
       "150"
      ]
     },
     "execution_count": 34,
     "metadata": {},
     "output_type": "execute_result"
    }
   ],
   "source": [
    "holdings['IBM']"
   ]
  },
  {
   "cell_type": "code",
   "execution_count": 35,
   "id": "7a2a5469",
   "metadata": {},
   "outputs": [
    {
     "data": {
      "text/plain": [
       "250"
      ]
     },
     "execution_count": 35,
     "metadata": {},
     "output_type": "execute_result"
    }
   ],
   "source": [
    "holdings['MSFT']"
   ]
  },
  {
   "cell_type": "code",
   "execution_count": 36,
   "id": "c1724538",
   "metadata": {},
   "outputs": [
    {
     "data": {
      "text/plain": [
       "[('MSFT', 250), ('IBM', 150), ('CAT', 150)]"
      ]
     },
     "execution_count": 36,
     "metadata": {},
     "output_type": "execute_result"
    }
   ],
   "source": [
    "holdings.most_common(3)"
   ]
  },
  {
   "cell_type": "code",
   "execution_count": 37,
   "id": "36641ce9",
   "metadata": {},
   "outputs": [
    {
     "data": {
      "text/plain": [
       "Counter({'AA': 50, 'HPQ': 250, 'MSFT': 25, 'GE': 125})"
      ]
     },
     "execution_count": 37,
     "metadata": {},
     "output_type": "execute_result"
    }
   ],
   "source": [
    "portfolio2 = read_portfolio('/home/fedor/practical-python/Work/Data/portfolio2.csv')\n",
    "holdings2 = Counter()\n",
    "for s in portfolio2:\n",
    "        holdings2[s['name']] += s['shares']\n",
    "\n",
    "holdings2"
   ]
  },
  {
   "cell_type": "code",
   "execution_count": 38,
   "id": "5030b133",
   "metadata": {},
   "outputs": [
    {
     "data": {
      "text/plain": [
       "Counter({'AA': 100, 'IBM': 150, 'CAT': 150, 'MSFT': 250, 'GE': 95})"
      ]
     },
     "execution_count": 38,
     "metadata": {},
     "output_type": "execute_result"
    }
   ],
   "source": [
    "holdings"
   ]
  },
  {
   "cell_type": "code",
   "execution_count": 39,
   "id": "1f969f67",
   "metadata": {},
   "outputs": [
    {
     "data": {
      "text/plain": [
       "Counter({'AA': 50, 'HPQ': 250, 'MSFT': 25, 'GE': 125})"
      ]
     },
     "execution_count": 39,
     "metadata": {},
     "output_type": "execute_result"
    }
   ],
   "source": [
    "holdings2"
   ]
  },
  {
   "cell_type": "code",
   "execution_count": 40,
   "id": "73a9b1cc",
   "metadata": {},
   "outputs": [
    {
     "data": {
      "text/plain": [
       "Counter({'AA': 150,\n",
       "         'IBM': 150,\n",
       "         'CAT': 150,\n",
       "         'MSFT': 275,\n",
       "         'GE': 220,\n",
       "         'HPQ': 250})"
      ]
     },
     "execution_count": 40,
     "metadata": {},
     "output_type": "execute_result"
    }
   ],
   "source": [
    "combined = holdings + holdings2\n",
    "combined"
   ]
  },
  {
   "cell_type": "code",
   "execution_count": 41,
   "id": "166880fe",
   "metadata": {},
   "outputs": [
    {
     "data": {
      "text/plain": [
       "[1, 4, 9, 16]"
      ]
     },
     "execution_count": 41,
     "metadata": {},
     "output_type": "execute_result"
    }
   ],
   "source": [
    "#task 2.19\n",
    "nums = [1,2,3,4]\n",
    "squares = [ x * x for x in nums ]\n",
    "squares"
   ]
  },
  {
   "cell_type": "code",
   "execution_count": 42,
   "id": "7ec15f37",
   "metadata": {},
   "outputs": [
    {
     "data": {
      "text/plain": [
       "[6, 8]"
      ]
     },
     "execution_count": 42,
     "metadata": {},
     "output_type": "execute_result"
    }
   ],
   "source": [
    "twice = [ 2 * x for x in nums if x > 2 ]\n",
    "twice"
   ]
  },
  {
   "cell_type": "code",
   "execution_count": 50,
   "id": "8f02ca3c",
   "metadata": {},
   "outputs": [
    {
     "data": {
      "text/plain": [
       "44671.15"
      ]
     },
     "execution_count": 50,
     "metadata": {},
     "output_type": "execute_result"
    }
   ],
   "source": [
    "#task 2.20\n",
    "portfolio = read_portfolio('/home/fedor/practical-python/Work/Data/portfolio.csv')\n",
    "cost = sum([ s['shares'] * s['price'] for s in portfolio ])\n",
    "cost"
   ]
  },
  {
   "cell_type": "code",
   "execution_count": 53,
   "id": "b8865072",
   "metadata": {},
   "outputs": [
    {
     "ename": "KeyError",
     "evalue": "'CAT'",
     "output_type": "error",
     "traceback": [
      "\u001b[0;31m---------------------------------------------------------------------------\u001b[0m",
      "\u001b[0;31mKeyError\u001b[0m                                  Traceback (most recent call last)",
      "Input \u001b[0;32mIn [53]\u001b[0m, in \u001b[0;36m<cell line: 2>\u001b[0;34m()\u001b[0m\n\u001b[1;32m      1\u001b[0m \u001b[38;5;66;03m# ???\u001b[39;00m\n\u001b[0;32m----> 2\u001b[0m value \u001b[38;5;241m=\u001b[39m \u001b[38;5;28msum\u001b[39m([ s[\u001b[38;5;124m'\u001b[39m\u001b[38;5;124mshares\u001b[39m\u001b[38;5;124m'\u001b[39m] \u001b[38;5;241m*\u001b[39m prices[s[\u001b[38;5;124m'\u001b[39m\u001b[38;5;124mname\u001b[39m\u001b[38;5;124m'\u001b[39m]] \u001b[38;5;28;01mfor\u001b[39;00m s \u001b[38;5;129;01min\u001b[39;00m portfolio ])\n\u001b[1;32m      3\u001b[0m value\n",
      "Input \u001b[0;32mIn [53]\u001b[0m, in \u001b[0;36m<listcomp>\u001b[0;34m(.0)\u001b[0m\n\u001b[1;32m      1\u001b[0m \u001b[38;5;66;03m# ???\u001b[39;00m\n\u001b[0;32m----> 2\u001b[0m value \u001b[38;5;241m=\u001b[39m \u001b[38;5;28msum\u001b[39m([ s[\u001b[38;5;124m'\u001b[39m\u001b[38;5;124mshares\u001b[39m\u001b[38;5;124m'\u001b[39m] \u001b[38;5;241m*\u001b[39m \u001b[43mprices\u001b[49m\u001b[43m[\u001b[49m\u001b[43ms\u001b[49m\u001b[43m[\u001b[49m\u001b[38;5;124;43m'\u001b[39;49m\u001b[38;5;124;43mname\u001b[39;49m\u001b[38;5;124;43m'\u001b[39;49m\u001b[43m]\u001b[49m\u001b[43m]\u001b[49m \u001b[38;5;28;01mfor\u001b[39;00m s \u001b[38;5;129;01min\u001b[39;00m portfolio ])\n\u001b[1;32m      3\u001b[0m value\n",
      "\u001b[0;31mKeyError\u001b[0m: 'CAT'"
     ]
    }
   ],
   "source": [
    "# ???\n",
    "value = sum([ s['shares'] * prices[s['name']] for s in portfolio ])\n",
    "value"
   ]
  },
  {
   "cell_type": "code",
   "execution_count": 51,
   "id": "eff60c69",
   "metadata": {},
   "outputs": [
    {
     "data": {
      "text/plain": [
       "[3220.0000000000005,\n",
       " 4555.0,\n",
       " 12516.0,\n",
       " 10246.0,\n",
       " 3835.1499999999996,\n",
       " 3254.9999999999995,\n",
       " 7044.0]"
      ]
     },
     "execution_count": 51,
     "metadata": {},
     "output_type": "execute_result"
    }
   ],
   "source": [
    "[ s['shares'] * s['price'] for s in portfolio ]"
   ]
  },
  {
   "cell_type": "code",
   "execution_count": 52,
   "id": "3b211d07",
   "metadata": {},
   "outputs": [
    {
     "data": {
      "text/plain": [
       "44671.15"
      ]
     },
     "execution_count": 52,
     "metadata": {},
     "output_type": "execute_result"
    }
   ],
   "source": [
    "sum(_)"
   ]
  },
  {
   "cell_type": "code",
   "execution_count": 54,
   "id": "fe0cdfaa",
   "metadata": {},
   "outputs": [
    {
     "data": {
      "text/plain": [
       "[{'name': 'CAT', 'shares': 150, 'price': 83.44},\n",
       " {'name': 'MSFT', 'shares': 200, 'price': 51.23}]"
      ]
     },
     "execution_count": 54,
     "metadata": {},
     "output_type": "execute_result"
    }
   ],
   "source": [
    "#task 2.21\n",
    "more100 = [ s for s in portfolio if s['shares'] > 100 ]\n",
    "more100"
   ]
  },
  {
   "cell_type": "code",
   "execution_count": 55,
   "id": "19a3ca83",
   "metadata": {},
   "outputs": [
    {
     "data": {
      "text/plain": [
       "[{'name': 'IBM', 'shares': 50, 'price': 91.1},\n",
       " {'name': 'MSFT', 'shares': 200, 'price': 51.23},\n",
       " {'name': 'MSFT', 'shares': 50, 'price': 65.1},\n",
       " {'name': 'IBM', 'shares': 100, 'price': 70.44}]"
      ]
     },
     "execution_count": 55,
     "metadata": {},
     "output_type": "execute_result"
    }
   ],
   "source": [
    "msftibm = [ s for s in portfolio if s['name'] in {'MSFT','IBM'} ]\n",
    "msftibm"
   ]
  },
  {
   "cell_type": "code",
   "execution_count": 56,
   "id": "1b75e540",
   "metadata": {},
   "outputs": [
    {
     "data": {
      "text/plain": [
       "[{'name': 'CAT', 'shares': 150, 'price': 83.44},\n",
       " {'name': 'MSFT', 'shares': 200, 'price': 51.23}]"
      ]
     },
     "execution_count": 56,
     "metadata": {},
     "output_type": "execute_result"
    }
   ],
   "source": [
    "cost10k = [ s for s in portfolio if s['shares'] * s['price'] > 10000 ]\n",
    "cost10k"
   ]
  },
  {
   "cell_type": "code",
   "execution_count": 57,
   "id": "92259e0e",
   "metadata": {},
   "outputs": [
    {
     "data": {
      "text/plain": [
       "[('AA', 100),\n",
       " ('IBM', 50),\n",
       " ('CAT', 150),\n",
       " ('MSFT', 200),\n",
       " ('GE', 95),\n",
       " ('MSFT', 50),\n",
       " ('IBM', 100)]"
      ]
     },
     "execution_count": 57,
     "metadata": {},
     "output_type": "execute_result"
    }
   ],
   "source": [
    "#task 2.22\n",
    "name_shares =[ (s['name'], s['shares']) for s in portfolio ]\n",
    "name_shares"
   ]
  },
  {
   "cell_type": "code",
   "execution_count": 58,
   "id": "96eec51a",
   "metadata": {},
   "outputs": [
    {
     "data": {
      "text/plain": [
       "{'AA', 'CAT', 'GE', 'IBM', 'MSFT'}"
      ]
     },
     "execution_count": 58,
     "metadata": {},
     "output_type": "execute_result"
    }
   ],
   "source": [
    "names = { s['name'] for s in portfolio }\n",
    "names"
   ]
  },
  {
   "cell_type": "code",
   "execution_count": 59,
   "id": "c119c6cf",
   "metadata": {},
   "outputs": [
    {
     "data": {
      "text/plain": [
       "{'MSFT': 0, 'GE': 0, 'IBM': 0, 'CAT': 0, 'AA': 0}"
      ]
     },
     "execution_count": 59,
     "metadata": {},
     "output_type": "execute_result"
    }
   ],
   "source": [
    "holdings = { name: 0 for name in names }\n",
    "holdings"
   ]
  },
  {
   "cell_type": "code",
   "execution_count": 63,
   "id": "69b49df3",
   "metadata": {},
   "outputs": [
    {
     "data": {
      "text/plain": [
       "{'MSFT': 500, 'GE': 190, 'IBM': 300, 'CAT': 300, 'AA': 200}"
      ]
     },
     "execution_count": 63,
     "metadata": {},
     "output_type": "execute_result"
    }
   ],
   "source": [
    "for s in portfolio:\n",
    "    holdings[s['name']] += s['shares']\n",
    "\n",
    "holdings"
   ]
  },
  {
   "cell_type": "code",
   "execution_count": 64,
   "id": "03f28483",
   "metadata": {},
   "outputs": [
    {
     "ename": "KeyError",
     "evalue": "'GE'",
     "output_type": "error",
     "traceback": [
      "\u001b[0;31m---------------------------------------------------------------------------\u001b[0m",
      "\u001b[0;31mKeyError\u001b[0m                                  Traceback (most recent call last)",
      "Input \u001b[0;32mIn [64]\u001b[0m, in \u001b[0;36m<cell line: 1>\u001b[0;34m()\u001b[0m\n\u001b[0;32m----> 1\u001b[0m portfolio_prices \u001b[38;5;241m=\u001b[39m { name: prices[name] \u001b[38;5;28;01mfor\u001b[39;00m name \u001b[38;5;129;01min\u001b[39;00m names }\n\u001b[1;32m      2\u001b[0m portfolio_prices\n",
      "Input \u001b[0;32mIn [64]\u001b[0m, in \u001b[0;36m<dictcomp>\u001b[0;34m(.0)\u001b[0m\n\u001b[0;32m----> 1\u001b[0m portfolio_prices \u001b[38;5;241m=\u001b[39m { name: \u001b[43mprices\u001b[49m\u001b[43m[\u001b[49m\u001b[43mname\u001b[49m\u001b[43m]\u001b[49m \u001b[38;5;28;01mfor\u001b[39;00m name \u001b[38;5;129;01min\u001b[39;00m names }\n\u001b[1;32m      2\u001b[0m portfolio_prices\n",
      "\u001b[0;31mKeyError\u001b[0m: 'GE'"
     ]
    }
   ],
   "source": [
    "portfolio_prices = { name: prices[name] for name in names }\n",
    "portfolio_prices"
   ]
  },
  {
   "cell_type": "code",
   "execution_count": 66,
   "id": "dafdf0b4",
   "metadata": {},
   "outputs": [
    {
     "data": {
      "text/plain": [
       "['name', 'date', 'time', 'shares', 'price']"
      ]
     },
     "execution_count": 66,
     "metadata": {},
     "output_type": "execute_result"
    }
   ],
   "source": [
    "#task 2.23\n",
    "import csv\n",
    "f = open('/home/fedor/practical-python/Work/Data/portfoliodate.csv')\n",
    "rows = csv.reader(f)\n",
    "headers = next(rows)\n",
    "headers"
   ]
  },
  {
   "cell_type": "code",
   "execution_count": 67,
   "id": "7e261390",
   "metadata": {},
   "outputs": [],
   "source": [
    "select = ['name', 'shares', 'price']"
   ]
  },
  {
   "cell_type": "code",
   "execution_count": 68,
   "id": "a465d201",
   "metadata": {},
   "outputs": [
    {
     "data": {
      "text/plain": [
       "[0, 3, 4]"
      ]
     },
     "execution_count": 68,
     "metadata": {},
     "output_type": "execute_result"
    }
   ],
   "source": [
    "indices = [ headers.index(colname) for colname in select ]\n",
    "indices"
   ]
  },
  {
   "cell_type": "code",
   "execution_count": 69,
   "id": "e1aea848",
   "metadata": {},
   "outputs": [
    {
     "data": {
      "text/plain": [
       "{'name': 'AA', 'shares': '100', 'price': '32.20'}"
      ]
     },
     "execution_count": 69,
     "metadata": {},
     "output_type": "execute_result"
    }
   ],
   "source": [
    "row = next(rows)\n",
    "record = { colname: row[index] for colname, index in zip(select, indices) }   # dict-comprehension\n",
    "record"
   ]
  },
  {
   "cell_type": "code",
   "execution_count": 70,
   "id": "971fb3a9",
   "metadata": {},
   "outputs": [
    {
     "data": {
      "text/plain": [
       "[{'name': 'IBM', 'shares': '50', 'price': '91.10'},\n",
       " {'name': 'CAT', 'shares': '150', 'price': '83.44'},\n",
       " {'name': 'MSFT', 'shares': '200', 'price': '51.23'},\n",
       " {'name': 'GE', 'shares': '95', 'price': '40.37'},\n",
       " {'name': 'MSFT', 'shares': '50', 'price': '65.10'},\n",
       " {'name': 'IBM', 'shares': '100', 'price': '70.44'}]"
      ]
     },
     "execution_count": 70,
     "metadata": {},
     "output_type": "execute_result"
    }
   ],
   "source": [
    "portfolio = [ { colname: row[index] for colname, index in zip(select, indices) } for row in rows ]\n",
    "portfolio"
   ]
  },
  {
   "cell_type": "code",
   "execution_count": 71,
   "id": "e7a1844d",
   "metadata": {},
   "outputs": [],
   "source": [
    "# 2.24\n",
    "types = [str, int, float]"
   ]
  },
  {
   "cell_type": "code",
   "execution_count": 73,
   "id": "33de2708",
   "metadata": {},
   "outputs": [
    {
     "data": {
      "text/plain": [
       "['AA', '100', '32.20']"
      ]
     },
     "execution_count": 73,
     "metadata": {},
     "output_type": "execute_result"
    }
   ],
   "source": [
    "import csv\n",
    "f = open('/home/fedor/practical-python/Work/Data/portfolio.csv')\n",
    "rows = csv.reader(f)\n",
    "headers = next(rows)\n",
    "row = next(rows)\n",
    "row"
   ]
  },
  {
   "cell_type": "code",
   "execution_count": 74,
   "id": "d4112f65",
   "metadata": {},
   "outputs": [
    {
     "ename": "TypeError",
     "evalue": "can't multiply sequence by non-int of type 'str'",
     "output_type": "error",
     "traceback": [
      "\u001b[0;31m---------------------------------------------------------------------------\u001b[0m",
      "\u001b[0;31mTypeError\u001b[0m                                 Traceback (most recent call last)",
      "Input \u001b[0;32mIn [74]\u001b[0m, in \u001b[0;36m<cell line: 1>\u001b[0;34m()\u001b[0m\n\u001b[0;32m----> 1\u001b[0m \u001b[43mrow\u001b[49m\u001b[43m[\u001b[49m\u001b[38;5;241;43m1\u001b[39;49m\u001b[43m]\u001b[49m\u001b[43m \u001b[49m\u001b[38;5;241;43m*\u001b[39;49m\u001b[43m \u001b[49m\u001b[43mrow\u001b[49m\u001b[43m[\u001b[49m\u001b[38;5;241;43m2\u001b[39;49m\u001b[43m]\u001b[49m\n",
      "\u001b[0;31mTypeError\u001b[0m: can't multiply sequence by non-int of type 'str'"
     ]
    }
   ],
   "source": [
    "row[1] * row[2]"
   ]
  },
  {
   "cell_type": "code",
   "execution_count": 75,
   "id": "db1668d3",
   "metadata": {},
   "outputs": [
    {
     "data": {
      "text/plain": [
       "int"
      ]
     },
     "execution_count": 75,
     "metadata": {},
     "output_type": "execute_result"
    }
   ],
   "source": [
    "types[1]"
   ]
  },
  {
   "cell_type": "code",
   "execution_count": 76,
   "id": "5bd4c9a0",
   "metadata": {},
   "outputs": [
    {
     "data": {
      "text/plain": [
       "'100'"
      ]
     },
     "execution_count": 76,
     "metadata": {},
     "output_type": "execute_result"
    }
   ],
   "source": [
    "row[1]"
   ]
  },
  {
   "cell_type": "code",
   "execution_count": 77,
   "id": "6ade17ba",
   "metadata": {},
   "outputs": [
    {
     "data": {
      "text/plain": [
       "100"
      ]
     },
     "execution_count": 77,
     "metadata": {},
     "output_type": "execute_result"
    }
   ],
   "source": [
    "types[1](row[1]) "
   ]
  },
  {
   "cell_type": "code",
   "execution_count": 78,
   "id": "f8a51aed",
   "metadata": {},
   "outputs": [
    {
     "data": {
      "text/plain": [
       "32.2"
      ]
     },
     "execution_count": 78,
     "metadata": {},
     "output_type": "execute_result"
    }
   ],
   "source": [
    "types[2](row[2])"
   ]
  },
  {
   "cell_type": "code",
   "execution_count": 79,
   "id": "82a7a8e6",
   "metadata": {},
   "outputs": [
    {
     "data": {
      "text/plain": [
       "3220.0000000000005"
      ]
     },
     "execution_count": 79,
     "metadata": {},
     "output_type": "execute_result"
    }
   ],
   "source": [
    "types[1](row[1])*types[2](row[2])"
   ]
  },
  {
   "cell_type": "code",
   "execution_count": 80,
   "id": "dc5388ec",
   "metadata": {},
   "outputs": [
    {
     "data": {
      "text/plain": [
       "[(str, 'AA'), (int, '100'), (float, '32.20')]"
      ]
     },
     "execution_count": 80,
     "metadata": {},
     "output_type": "execute_result"
    }
   ],
   "source": [
    "r = list(zip(types, row))\n",
    "r"
   ]
  },
  {
   "cell_type": "code",
   "execution_count": 81,
   "id": "4a36778d",
   "metadata": {},
   "outputs": [
    {
     "data": {
      "text/plain": [
       "['AA', 100, 32.2]"
      ]
     },
     "execution_count": 81,
     "metadata": {},
     "output_type": "execute_result"
    }
   ],
   "source": [
    "converted = []\n",
    "for func, val in zip(types, row):\n",
    "        converted.append(func(val))\n",
    "\n",
    "converted"
   ]
  },
  {
   "cell_type": "code",
   "execution_count": 82,
   "id": "067ab956",
   "metadata": {},
   "outputs": [
    {
     "data": {
      "text/plain": [
       "3220.0000000000005"
      ]
     },
     "execution_count": 82,
     "metadata": {},
     "output_type": "execute_result"
    }
   ],
   "source": [
    "converted[1] * converted[2]"
   ]
  },
  {
   "cell_type": "code",
   "execution_count": 83,
   "id": "def7bc87",
   "metadata": {},
   "outputs": [
    {
     "data": {
      "text/plain": [
       "['AA', 100, 32.2]"
      ]
     },
     "execution_count": 83,
     "metadata": {},
     "output_type": "execute_result"
    }
   ],
   "source": [
    "converted = [func(val) for func, val in zip(types, row)]\n",
    "converted"
   ]
  },
  {
   "cell_type": "code",
   "execution_count": 84,
   "id": "64797839",
   "metadata": {},
   "outputs": [
    {
     "data": {
      "text/plain": [
       "['name', 'shares', 'price']"
      ]
     },
     "execution_count": 84,
     "metadata": {},
     "output_type": "execute_result"
    }
   ],
   "source": [
    "#task 2.25\n",
    "headers"
   ]
  },
  {
   "cell_type": "code",
   "execution_count": 85,
   "id": "de071319",
   "metadata": {},
   "outputs": [
    {
     "data": {
      "text/plain": [
       "['AA', 100, 32.2]"
      ]
     },
     "execution_count": 85,
     "metadata": {},
     "output_type": "execute_result"
    }
   ],
   "source": [
    "converted"
   ]
  },
  {
   "cell_type": "code",
   "execution_count": 86,
   "id": "ca11d538",
   "metadata": {},
   "outputs": [
    {
     "data": {
      "text/plain": [
       "{'name': 'AA', 'shares': 100, 'price': 32.2}"
      ]
     },
     "execution_count": 86,
     "metadata": {},
     "output_type": "execute_result"
    }
   ],
   "source": [
    "dict(zip(headers, converted))"
   ]
  },
  {
   "cell_type": "code",
   "execution_count": 87,
   "id": "d8226e46",
   "metadata": {},
   "outputs": [
    {
     "data": {
      "text/plain": [
       "{'name': 'AA', 'shares': 100, 'price': 32.2}"
      ]
     },
     "execution_count": 87,
     "metadata": {},
     "output_type": "execute_result"
    }
   ],
   "source": [
    "{ name: func(val) for name, func, val in zip(headers, types, row) }"
   ]
  },
  {
   "cell_type": "code",
   "execution_count": 90,
   "id": "7e570739",
   "metadata": {},
   "outputs": [
    {
     "data": {
      "text/plain": [
       "['name', 'price', 'date', 'time', 'change', 'open', 'high', 'low', 'volume']"
      ]
     },
     "execution_count": 90,
     "metadata": {},
     "output_type": "execute_result"
    }
   ],
   "source": [
    "#task 2.26\n",
    "f = open('/home/fedor/practical-python/Work/Data/dowstocks.csv')\n",
    "rows = csv.reader(f)\n",
    "headers = next(rows)\n",
    "row = next(rows)\n",
    "headers"
   ]
  },
  {
   "cell_type": "code",
   "execution_count": 91,
   "id": "5edfa042",
   "metadata": {},
   "outputs": [
    {
     "data": {
      "text/plain": [
       "['AA',\n",
       " '39.48',\n",
       " '6/11/2007',\n",
       " '9:36am',\n",
       " '-0.18',\n",
       " '39.67',\n",
       " '39.69',\n",
       " '39.45',\n",
       " '181800']"
      ]
     },
     "execution_count": 91,
     "metadata": {},
     "output_type": "execute_result"
    }
   ],
   "source": [
    "row"
   ]
  },
  {
   "cell_type": "code",
   "execution_count": 92,
   "id": "b13214b9",
   "metadata": {},
   "outputs": [
    {
     "data": {
      "text/plain": [
       "{'name': 'AA',\n",
       " 'price': 39.48,\n",
       " 'date': '6/11/2007',\n",
       " 'time': '9:36am',\n",
       " 'change': -0.18,\n",
       " 'open': 39.67,\n",
       " 'high': 39.69,\n",
       " 'low': 39.45,\n",
       " 'volume': 181800}"
      ]
     },
     "execution_count": 92,
     "metadata": {},
     "output_type": "execute_result"
    }
   ],
   "source": [
    "types = [str, float, str, str, float, float, float, float, int]\n",
    "converted = [func(val) for func, val in zip(types, row)]\n",
    "record = dict(zip(headers, converted))\n",
    "record"
   ]
  },
  {
   "cell_type": "code",
   "execution_count": 93,
   "id": "c8088021",
   "metadata": {},
   "outputs": [
    {
     "data": {
      "text/plain": [
       "'AA'"
      ]
     },
     "execution_count": 93,
     "metadata": {},
     "output_type": "execute_result"
    }
   ],
   "source": [
    "record['name']"
   ]
  },
  {
   "cell_type": "code",
   "execution_count": 94,
   "id": "ee980742",
   "metadata": {},
   "outputs": [
    {
     "data": {
      "text/plain": [
       "39.48"
      ]
     },
     "execution_count": 94,
     "metadata": {},
     "output_type": "execute_result"
    }
   ],
   "source": [
    "record['price']"
   ]
  },
  {
   "cell_type": "code",
   "execution_count": null,
   "id": "73ab8727",
   "metadata": {},
   "outputs": [],
   "source": []
  }
 ],
 "metadata": {
  "kernelspec": {
   "display_name": "Python 3 (ipykernel)",
   "language": "python",
   "name": "python3"
  },
  "language_info": {
   "codemirror_mode": {
    "name": "ipython",
    "version": 3
   },
   "file_extension": ".py",
   "mimetype": "text/x-python",
   "name": "python",
   "nbconvert_exporter": "python",
   "pygments_lexer": "ipython3",
   "version": "3.9.12"
  }
 },
 "nbformat": 4,
 "nbformat_minor": 5
}
