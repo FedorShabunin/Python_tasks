{
 "cells": [
  {
   "cell_type": "code",
   "execution_count": 8,
   "id": "543f9837",
   "metadata": {},
   "outputs": [
    {
     "name": "stdout",
     "output_type": "stream",
     "text": [
      "      Name     Shares      Price     Change\n",
      "---------- ---------- ---------- ---------- \n",
      "        AA        100       9.22     -22.98\n",
      "       IBM         50     106.28      15.18\n",
      "       CAT        150      35.46     -47.98\n",
      "      MSFT        200      20.89     -30.34\n",
      "        GE         95      13.48     -26.89\n",
      "      MSFT         50      20.89     -44.21\n",
      "       IBM        100     106.28      35.84\n"
     ]
    }
   ],
   "source": [
    "#task 3.1\n",
    "import csv\n",
    "\n",
    "def read_portfolio(filename):\n",
    "   \n",
    "    portfolio = []\n",
    "    with open(filename) as f:\n",
    "        rows = csv.reader(f)\n",
    "        headers = next(rows)\n",
    "\n",
    "        for row in rows:\n",
    "            record = dict(zip(headers, row))\n",
    "            stock = {\n",
    "                'name' : record['name'],\n",
    "                'shares' : int(record['shares']),\n",
    "                'price' : float(record['price'])\n",
    "            }\n",
    "            portfolio.append(stock)\n",
    "\n",
    "    return portfolio\n",
    "\n",
    "def read_prices(filename):\n",
    "    \n",
    "    prices = {}\n",
    "    with open(filename) as f:\n",
    "        rows = csv.reader(f)\n",
    "        for row in rows:\n",
    "            try:\n",
    "                prices[row[0]] = float(row[1])\n",
    "            except IndexError:\n",
    "                pass\n",
    "\n",
    "    return prices\n",
    "\n",
    "def make_report_data(portfolio,prices):\n",
    "    \n",
    "    rows = []\n",
    "    for stock in portfolio:\n",
    "        current_price = prices[stock['name']]\n",
    "        change = current_price - stock['price']\n",
    "        summary = (stock['name'], stock['shares'], current_price, change)\n",
    "        rows.append(summary)\n",
    "    return rows\n",
    "\n",
    "def print_report(reportdata):\n",
    "    \n",
    "    headers = ('Name','Shares','Price','Change')\n",
    "    print('%10s %10s %10s %10s' % headers)\n",
    "    print(('-'*10 + ' ')*len(headers))\n",
    "    for row in reportdata:\n",
    "        print('%10s %10d %10.2f %10.2f' % row)\n",
    "\n",
    "portfolio_report('/home/fedor/practical-python/Work/Data/portfolio.csv',\n",
    "                 '/home/fedor/practical-python/Work/Data/prices.csv')"
   ]
  },
  {
   "cell_type": "code",
   "execution_count": 9,
   "id": "af4dbaee",
   "metadata": {},
   "outputs": [
    {
     "name": "stdout",
     "output_type": "stream",
     "text": [
      "      Name     Shares      Price     Change\n",
      "---------- ---------- ---------- ---------- \n",
      "        AA        100       9.22     -22.98\n",
      "       IBM         50     106.28      15.18\n",
      "       CAT        150      35.46     -47.98\n",
      "      MSFT        200      20.89     -30.34\n",
      "        GE         95      13.48     -26.89\n",
      "      MSFT         50      20.89     -44.21\n",
      "       IBM        100     106.28      35.84\n"
     ]
    }
   ],
   "source": [
    "#task 3.2\n",
    "import csv\n",
    "\n",
    "def read_portfolio(filename):\n",
    "    \n",
    "    portfolio = []\n",
    "    with open(filename) as f:\n",
    "        rows = csv.reader(f)\n",
    "        headers = next(rows)\n",
    "\n",
    "        for row in rows:\n",
    "            record = dict(zip(headers, row))\n",
    "            stock = {\n",
    "                'name' : record['name'],\n",
    "                'shares' : int(record['shares']),\n",
    "                'price' : float(record['price'])\n",
    "            }\n",
    "            portfolio.append(stock)\n",
    "\n",
    "    return portfolio\n",
    "\n",
    "def read_prices(filename):\n",
    "    \n",
    "    prices = {}\n",
    "    with open(filename) as f:\n",
    "        rows = csv.reader(f)\n",
    "        for row in rows:\n",
    "            try:\n",
    "                prices[row[0]] = float(row[1])\n",
    "            except IndexError:\n",
    "                pass\n",
    "\n",
    "    return prices\n",
    "\n",
    "def make_report_data(portfolio,prices):\n",
    "    \n",
    "    rows = []\n",
    "    for stock in portfolio:\n",
    "        current_price = prices[stock['name']]\n",
    "        change = current_price - stock['price']\n",
    "        summary = (stock['name'], stock['shares'], current_price, change)\n",
    "        rows.append(summary)\n",
    "    return rows\n",
    "\n",
    "def print_report(reportdata):\n",
    "    \n",
    "    headers = ('Name','Shares','Price','Change')\n",
    "    print('%10s %10s %10s %10s' % headers)\n",
    "    print(('-'*10 + ' ')*len(headers))\n",
    "    for row in reportdata:\n",
    "        print('%10s %10d %10.2f %10.2f' % row)\n",
    "\n",
    "def portfolio_report(portfoliofile,pricefile):        \n",
    "    \n",
    "    portfolio = read_portfolio(portfoliofile)\n",
    "    prices = read_prices(pricefile)\n",
    "\n",
    "    report = make_report_data(portfolio,prices)\n",
    "\n",
    "    print_report(report)\n",
    "\n",
    "portfolio_report('/home/fedor/practical-python/Work/Data/portfolio.csv',\n",
    "                 '/home/fedor/practical-python/Work/Data/prices.csv')"
   ]
  },
  {
   "cell_type": "code",
   "execution_count": 10,
   "id": "0391f831",
   "metadata": {},
   "outputs": [],
   "source": [
    "#task 3.3\n",
    "import csv\n",
    "\n",
    "def parse_csv(filename):\n",
    "    \n",
    "    with open(filename) as f:\n",
    "        rows = csv.reader(f)\n",
    "\n",
    "        headers = next(rows)\n",
    "        records = []\n",
    "        for row in rows:\n",
    "            if not row:    \n",
    "                continue\n",
    "            record = dict(zip(headers, row))\n",
    "            records.append(record)\n",
    "\n",
    "    return records"
   ]
  },
  {
   "cell_type": "code",
   "execution_count": 11,
   "id": "9fc3ec1f",
   "metadata": {},
   "outputs": [
    {
     "data": {
      "text/plain": [
       "[{'name': 'AA', 'shares': '100', 'price': '32.20'},\n",
       " {'name': 'IBM', 'shares': '50', 'price': '91.10'},\n",
       " {'name': 'CAT', 'shares': '150', 'price': '83.44'},\n",
       " {'name': 'MSFT', 'shares': '200', 'price': '51.23'},\n",
       " {'name': 'GE', 'shares': '95', 'price': '40.37'},\n",
       " {'name': 'MSFT', 'shares': '50', 'price': '65.10'},\n",
       " {'name': 'IBM', 'shares': '100', 'price': '70.44'}]"
      ]
     },
     "execution_count": 11,
     "metadata": {},
     "output_type": "execute_result"
    }
   ],
   "source": [
    "portfolio = parse_csv('/home/fedor/practical-python/Work/Data/portfolio.csv')\n",
    "portfolio"
   ]
  },
  {
   "cell_type": "code",
   "execution_count": 12,
   "id": "8939df48",
   "metadata": {},
   "outputs": [],
   "source": [
    "#task 3.4\n",
    "import csv\n",
    "\n",
    "def parse_csv(filename, select=None):\n",
    "    \n",
    "    with open(filename) as f:\n",
    "        rows = csv.reader(f)\n",
    "\n",
    "        headers = next(rows)\n",
    "\n",
    "        if select:\n",
    "            indices = [headers.index(colname) for colname in select]\n",
    "            headers = select\n",
    "        else:\n",
    "            indices = []\n",
    "\n",
    "        records = []\n",
    "        for row in rows:\n",
    "            if not row:    \n",
    "                continue\n",
    "            \n",
    "            if indices:\n",
    "                row = [ row[index] for index in indices ]\n",
    "            \n",
    "            record = dict(zip(headers, row))\n",
    "            records.append(record)\n",
    "\n",
    "    return records"
   ]
  },
  {
   "cell_type": "code",
   "execution_count": 13,
   "id": "fd5a76ce",
   "metadata": {},
   "outputs": [
    {
     "data": {
      "text/plain": [
       "[{'name': 'AA', 'shares': '100', 'price': '32.20'},\n",
       " {'name': 'IBM', 'shares': '50', 'price': '91.10'},\n",
       " {'name': 'CAT', 'shares': '150', 'price': '83.44'},\n",
       " {'name': 'MSFT', 'shares': '200', 'price': '51.23'},\n",
       " {'name': 'GE', 'shares': '95', 'price': '40.37'},\n",
       " {'name': 'MSFT', 'shares': '50', 'price': '65.10'},\n",
       " {'name': 'IBM', 'shares': '100', 'price': '70.44'}]"
      ]
     },
     "execution_count": 13,
     "metadata": {},
     "output_type": "execute_result"
    }
   ],
   "source": [
    "portfolio = parse_csv('/home/fedor/practical-python/Work/Data/portfolio.csv')\n",
    "portfolio"
   ]
  },
  {
   "cell_type": "code",
   "execution_count": 14,
   "id": "8302c8c8",
   "metadata": {},
   "outputs": [
    {
     "data": {
      "text/plain": [
       "[{'name': 'AA', 'shares': '100'},\n",
       " {'name': 'IBM', 'shares': '50'},\n",
       " {'name': 'CAT', 'shares': '150'},\n",
       " {'name': 'MSFT', 'shares': '200'},\n",
       " {'name': 'GE', 'shares': '95'},\n",
       " {'name': 'MSFT', 'shares': '50'},\n",
       " {'name': 'IBM', 'shares': '100'}]"
      ]
     },
     "execution_count": 14,
     "metadata": {},
     "output_type": "execute_result"
    }
   ],
   "source": [
    "shares_held = parse_csv('/home/fedor/practical-python/Work/Data/portfolio.csv', select=['name','shares'])\n",
    "shares_held"
   ]
  },
  {
   "cell_type": "code",
   "execution_count": 15,
   "id": "fcd3e9f5",
   "metadata": {},
   "outputs": [],
   "source": [
    "headers = ['name', 'date', 'time', 'shares', 'price']"
   ]
  },
  {
   "cell_type": "code",
   "execution_count": 16,
   "id": "711db303",
   "metadata": {},
   "outputs": [],
   "source": [
    "select = ['name', 'shares']"
   ]
  },
  {
   "cell_type": "code",
   "execution_count": 17,
   "id": "6d19d70d",
   "metadata": {},
   "outputs": [
    {
     "data": {
      "text/plain": [
       "[0, 3]"
      ]
     },
     "execution_count": 17,
     "metadata": {},
     "output_type": "execute_result"
    }
   ],
   "source": [
    "indices = [headers.index(colname) for colname in select ]\n",
    "indices"
   ]
  },
  {
   "cell_type": "code",
   "execution_count": 18,
   "id": "423706a9",
   "metadata": {},
   "outputs": [
    {
     "data": {
      "text/plain": [
       "['AA', '100']"
      ]
     },
     "execution_count": 18,
     "metadata": {},
     "output_type": "execute_result"
    }
   ],
   "source": [
    "row = ['AA', '6/11/2007', '9:50am', '100', '32.20' ]\n",
    "row = [ row[index] for index in indices ]\n",
    "row"
   ]
  },
  {
   "cell_type": "code",
   "execution_count": 46,
   "id": "1bb70a46",
   "metadata": {},
   "outputs": [],
   "source": [
    "#task 3.5\n",
    "import csv\n",
    "\n",
    "def parse_csv(filename, select=None, types=None):\n",
    "    \n",
    "    with open(filename) as f:\n",
    "        rows = csv.reader(f)\n",
    "\n",
    "        headers = next(rows)\n",
    "\n",
    "        if select:\n",
    "            indices = [headers.index(colname) for colname in select]\n",
    "            headers = select\n",
    "        else:\n",
    "            indices = []\n",
    "\n",
    "        records = []\n",
    "        for row in rows:\n",
    "            if not row:    \n",
    "                continue\n",
    "            \n",
    "            if select:\n",
    "                row = [ row[index] for index in indices ]\n",
    "            \n",
    "            if types:\n",
    "                row = [func(val) for func, val in zip(types, row)]\n",
    "                \n",
    "            record = dict(zip(headers, row))\n",
    "            records.append(record)\n",
    "            \n",
    "            \n",
    "    return records"
   ]
  },
  {
   "cell_type": "code",
   "execution_count": 47,
   "id": "614364f2",
   "metadata": {},
   "outputs": [
    {
     "data": {
      "text/plain": [
       "[{'name': 'AA', 'shares': 100, 'price': 32.2},\n",
       " {'name': 'IBM', 'shares': 50, 'price': 91.1},\n",
       " {'name': 'CAT', 'shares': 150, 'price': 83.44},\n",
       " {'name': 'MSFT', 'shares': 200, 'price': 51.23},\n",
       " {'name': 'GE', 'shares': 95, 'price': 40.37},\n",
       " {'name': 'MSFT', 'shares': 50, 'price': 65.1},\n",
       " {'name': 'IBM', 'shares': 100, 'price': 70.44}]"
      ]
     },
     "execution_count": 47,
     "metadata": {},
     "output_type": "execute_result"
    }
   ],
   "source": [
    "portfolio = parse_csv('/home/fedor/practical-python/Work/Data/portfolio.csv', types=[str, int, float])\n",
    "portfolio"
   ]
  },
  {
   "cell_type": "code",
   "execution_count": 48,
   "id": "dd222a1d",
   "metadata": {},
   "outputs": [
    {
     "data": {
      "text/plain": [
       "[{'name': 'AA', 'shares': 100},\n",
       " {'name': 'IBM', 'shares': 50},\n",
       " {'name': 'CAT', 'shares': 150},\n",
       " {'name': 'MSFT', 'shares': 200},\n",
       " {'name': 'GE', 'shares': 95},\n",
       " {'name': 'MSFT', 'shares': 50},\n",
       " {'name': 'IBM', 'shares': 100}]"
      ]
     },
     "execution_count": 48,
     "metadata": {},
     "output_type": "execute_result"
    }
   ],
   "source": [
    "shares_held = parse_csv('/home/fedor/practical-python/Work/Data/portfolio.csv', select=['name', 'shares'], types=[str, int])\n",
    "shares_held"
   ]
  },
  {
   "cell_type": "code",
   "execution_count": 68,
   "id": "e5dce52d",
   "metadata": {},
   "outputs": [],
   "source": [
    "#task 3.6\n",
    "import csv\n",
    "\n",
    "def parse_csv(filename, select=None, types=None, has_headers=True):\n",
    "    \n",
    "    with open(filename) as f:\n",
    "        rows = csv.reader(f)\n",
    "\n",
    "        headers = next(rows) if has_headers else []\n",
    "\n",
    "        if select:\n",
    "            indices = [ headers.index(colname) for colname in select ]\n",
    "            headers = select\n",
    "\n",
    "        records = []\n",
    "        for row in rows:\n",
    "            if not row:     \n",
    "                continue\n",
    "\n",
    "            if select:\n",
    "                row = [ row[index] for index in indices]\n",
    "\n",
    "            if types:\n",
    "                row = [func(val) for func, val in zip(types, row)]\n",
    "\n",
    "            if headers:\n",
    "                record = dict(zip(headers, row))\n",
    "            else:\n",
    "                record = tuple(row)\n",
    "            records.append(record)\n",
    "\n",
    "        return records"
   ]
  },
  {
   "cell_type": "code",
   "execution_count": 69,
   "id": "cf7400fd",
   "metadata": {},
   "outputs": [
    {
     "data": {
      "text/plain": [
       "[('AA', 9.22),\n",
       " ('AXP', 24.85),\n",
       " ('BA', 44.85),\n",
       " ('BAC', 11.27),\n",
       " ('C', 3.72),\n",
       " ('CAT', 35.46),\n",
       " ('CVX', 66.67),\n",
       " ('DD', 28.47),\n",
       " ('DIS', 24.22),\n",
       " ('GE', 13.48),\n",
       " ('GM', 0.75),\n",
       " ('HD', 23.16),\n",
       " ('HPQ', 34.35),\n",
       " ('IBM', 106.28),\n",
       " ('INTC', 15.72),\n",
       " ('JNJ', 55.16),\n",
       " ('JPM', 36.9),\n",
       " ('KFT', 26.11),\n",
       " ('KO', 49.16),\n",
       " ('MCD', 58.99),\n",
       " ('MMM', 57.1),\n",
       " ('MRK', 27.58),\n",
       " ('MSFT', 20.89),\n",
       " ('PFE', 15.19),\n",
       " ('PG', 51.94),\n",
       " ('T', 24.79),\n",
       " ('UTX', 52.61),\n",
       " ('VZ', 29.26),\n",
       " ('WMT', 49.74),\n",
       " ('XOM', 69.35)]"
      ]
     },
     "execution_count": 69,
     "metadata": {},
     "output_type": "execute_result"
    }
   ],
   "source": [
    "prices = parse_csv('/home/fedor/practical-python/Work/Data/prices.csv', types=[str,float], has_headers=False)\n",
    "prices"
   ]
  },
  {
   "cell_type": "code",
   "execution_count": 42,
   "id": "7a1d7603",
   "metadata": {},
   "outputs": [],
   "source": [
    "#task 3.7\n",
    "import csv\n",
    "\n",
    "def parse_csv(filename, select=None, types=None, has_headers=True, delimiter=','):\n",
    "    \n",
    "    with open(filename) as f:\n",
    "        rows = csv.reader(f, delimiter=delimiter)\n",
    "\n",
    "        headers = next(rows) if has_headers else []\n",
    "\n",
    "        if select:\n",
    "            indices = [ headers.index(colname) for colname in select ]\n",
    "            headers = select\n",
    "\n",
    "        records = []\n",
    "        for row in rows:\n",
    "            if not row:     \n",
    "                continue\n",
    "\n",
    "            if select:\n",
    "                row = [ row[index] for index in indices]\n",
    "\n",
    "            if types:\n",
    "                row = [func(val) for func, val in zip(types, row)]\n",
    "\n",
    "            if headers:\n",
    "                record = dict(zip(headers, row))\n",
    "            else:\n",
    "                record = tuple(row)\n",
    "            records.append(record)\n",
    "\n",
    "        return records"
   ]
  },
  {
   "cell_type": "code",
   "execution_count": 43,
   "id": "0c786d30",
   "metadata": {},
   "outputs": [
    {
     "data": {
      "text/plain": [
       "[{'name': 'AA', 'shares': 100, 'price': 32.2},\n",
       " {'name': 'IBM', 'shares': 50, 'price': 91.1},\n",
       " {'name': 'CAT', 'shares': 150, 'price': 83.44},\n",
       " {'name': 'MSFT', 'shares': 200, 'price': 51.23},\n",
       " {'name': 'GE', 'shares': 95, 'price': 40.37},\n",
       " {'name': 'MSFT', 'shares': 50, 'price': 65.1},\n",
       " {'name': 'IBM', 'shares': 100, 'price': 70.44}]"
      ]
     },
     "execution_count": 43,
     "metadata": {},
     "output_type": "execute_result"
    }
   ],
   "source": [
    "portfolio = parse_csv('/home/fedor/practical-python/Work/Data/portfolio.dat', types=[str, int, float], delimiter=' ')\n",
    "portfolio"
   ]
  },
  {
   "cell_type": "code",
   "execution_count": 3,
   "id": "e3219e92",
   "metadata": {},
   "outputs": [],
   "source": [
    "#task 3.8\n",
    "import csv\n",
    "\n",
    "def parse_csv(filename, select=None, types=None, has_headers=True, delimiter=','):\n",
    "    \n",
    "    if select and not has_headers:\n",
    "        raise RuntimeError('select requires column headers')\n",
    "        \n",
    "    with open(filename) as f:\n",
    "        rows = csv.reader(f, delimiter=delimiter)\n",
    "\n",
    "        headers = next(rows) if has_headers else []\n",
    "\n",
    "        if select:\n",
    "            indices = [ headers.index(colname) for colname in select ]\n",
    "            headers = select\n",
    "\n",
    "        records = []\n",
    "        for row in rows:\n",
    "            if not row:     \n",
    "                continue\n",
    "\n",
    "            if select:\n",
    "                row = [ row[index] for index in indices]\n",
    "\n",
    "            if types:\n",
    "                row = [func(val) for func, val in zip(types, row)]\n",
    "\n",
    "            if headers:\n",
    "                record = dict(zip(headers, row))\n",
    "            else:\n",
    "                record = tuple(row)\n",
    "            records.append(record)\n",
    "\n",
    "        return records"
   ]
  },
  {
   "cell_type": "code",
   "execution_count": 4,
   "id": "84d82375",
   "metadata": {
    "scrolled": true
   },
   "outputs": [
    {
     "ename": "RuntimeError",
     "evalue": "select requires column headers",
     "output_type": "error",
     "traceback": [
      "\u001b[0;31m---------------------------------------------------------------------------\u001b[0m",
      "\u001b[0;31mRuntimeError\u001b[0m                              Traceback (most recent call last)",
      "Input \u001b[0;32mIn [4]\u001b[0m, in \u001b[0;36m<cell line: 1>\u001b[0;34m()\u001b[0m\n\u001b[0;32m----> 1\u001b[0m \u001b[43mparse_csv\u001b[49m\u001b[43m(\u001b[49m\u001b[38;5;124;43m'\u001b[39;49m\u001b[38;5;124;43mhome/fedor/practical-python/Work/Data/prices.csv\u001b[39;49m\u001b[38;5;124;43m'\u001b[39;49m\u001b[43m,\u001b[49m\u001b[43m \u001b[49m\u001b[43mselect\u001b[49m\u001b[38;5;241;43m=\u001b[39;49m\u001b[43m[\u001b[49m\u001b[38;5;124;43m'\u001b[39;49m\u001b[38;5;124;43mname\u001b[39;49m\u001b[38;5;124;43m'\u001b[39;49m\u001b[43m,\u001b[49m\u001b[38;5;124;43m'\u001b[39;49m\u001b[38;5;124;43mprice\u001b[39;49m\u001b[38;5;124;43m'\u001b[39;49m\u001b[43m]\u001b[49m\u001b[43m,\u001b[49m\u001b[43m \u001b[49m\u001b[43mhas_headers\u001b[49m\u001b[38;5;241;43m=\u001b[39;49m\u001b[38;5;28;43;01mFalse\u001b[39;49;00m\u001b[43m)\u001b[49m\n",
      "Input \u001b[0;32mIn [3]\u001b[0m, in \u001b[0;36mparse_csv\u001b[0;34m(filename, select, types, has_headers, delimiter)\u001b[0m\n\u001b[1;32m      4\u001b[0m \u001b[38;5;28;01mdef\u001b[39;00m \u001b[38;5;21mparse_csv\u001b[39m(filename, select\u001b[38;5;241m=\u001b[39m\u001b[38;5;28;01mNone\u001b[39;00m, types\u001b[38;5;241m=\u001b[39m\u001b[38;5;28;01mNone\u001b[39;00m, has_headers\u001b[38;5;241m=\u001b[39m\u001b[38;5;28;01mTrue\u001b[39;00m, delimiter\u001b[38;5;241m=\u001b[39m\u001b[38;5;124m'\u001b[39m\u001b[38;5;124m,\u001b[39m\u001b[38;5;124m'\u001b[39m):\n\u001b[1;32m      6\u001b[0m     \u001b[38;5;28;01mif\u001b[39;00m select \u001b[38;5;129;01mand\u001b[39;00m \u001b[38;5;129;01mnot\u001b[39;00m has_headers:\n\u001b[0;32m----> 7\u001b[0m         \u001b[38;5;28;01mraise\u001b[39;00m \u001b[38;5;167;01mRuntimeError\u001b[39;00m(\u001b[38;5;124m'\u001b[39m\u001b[38;5;124mselect requires column headers\u001b[39m\u001b[38;5;124m'\u001b[39m)\n\u001b[1;32m      9\u001b[0m     \u001b[38;5;28;01mwith\u001b[39;00m \u001b[38;5;28mopen\u001b[39m(filename) \u001b[38;5;28;01mas\u001b[39;00m f:\n\u001b[1;32m     10\u001b[0m         rows \u001b[38;5;241m=\u001b[39m csv\u001b[38;5;241m.\u001b[39mreader(f, delimiter\u001b[38;5;241m=\u001b[39mdelimiter)\n",
      "\u001b[0;31mRuntimeError\u001b[0m: select requires column headers"
     ]
    }
   ],
   "source": [
    "parse_csv('home/fedor/practical-python/Work/Data/prices.csv', select=['name','price'], has_headers=False)"
   ]
  },
  {
   "cell_type": "code",
   "execution_count": 75,
   "id": "76dc412e",
   "metadata": {},
   "outputs": [
    {
     "ename": "ValueError",
     "evalue": "invalid literal for int() with base 10: ''",
     "output_type": "error",
     "traceback": [
      "\u001b[0;31m---------------------------------------------------------------------------\u001b[0m",
      "\u001b[0;31mValueError\u001b[0m                                Traceback (most recent call last)",
      "Input \u001b[0;32mIn [75]\u001b[0m, in \u001b[0;36m<cell line: 2>\u001b[0;34m()\u001b[0m\n\u001b[1;32m      1\u001b[0m \u001b[38;5;66;03m#task 3.9\u001b[39;00m\n\u001b[0;32m----> 2\u001b[0m portfolio \u001b[38;5;241m=\u001b[39m \u001b[43mparse_csv\u001b[49m\u001b[43m(\u001b[49m\u001b[38;5;124;43m'\u001b[39;49m\u001b[38;5;124;43m/home/fedor/practical-python/Work/Data/missing.csv\u001b[39;49m\u001b[38;5;124;43m'\u001b[39;49m\u001b[43m,\u001b[49m\u001b[43m \u001b[49m\u001b[43mtypes\u001b[49m\u001b[38;5;241;43m=\u001b[39;49m\u001b[43m[\u001b[49m\u001b[38;5;28;43mstr\u001b[39;49m\u001b[43m,\u001b[49m\u001b[43m \u001b[49m\u001b[38;5;28;43mint\u001b[39;49m\u001b[43m,\u001b[49m\u001b[43m \u001b[49m\u001b[38;5;28;43mfloat\u001b[39;49m\u001b[43m]\u001b[49m\u001b[43m)\u001b[49m\n",
      "Input \u001b[0;32mIn [73]\u001b[0m, in \u001b[0;36mparse_csv\u001b[0;34m(filename, select, types, has_headers, delimiter)\u001b[0m\n\u001b[1;32m     24\u001b[0m     row \u001b[38;5;241m=\u001b[39m [ row[index] \u001b[38;5;28;01mfor\u001b[39;00m index \u001b[38;5;129;01min\u001b[39;00m indices]\n\u001b[1;32m     26\u001b[0m \u001b[38;5;28;01mif\u001b[39;00m types:\n\u001b[0;32m---> 27\u001b[0m     row \u001b[38;5;241m=\u001b[39m [func(val) \u001b[38;5;28;01mfor\u001b[39;00m func, val \u001b[38;5;129;01min\u001b[39;00m \u001b[38;5;28mzip\u001b[39m(types, row)]\n\u001b[1;32m     29\u001b[0m \u001b[38;5;28;01mif\u001b[39;00m headers:\n\u001b[1;32m     30\u001b[0m     record \u001b[38;5;241m=\u001b[39m \u001b[38;5;28mdict\u001b[39m(\u001b[38;5;28mzip\u001b[39m(headers, row))\n",
      "Input \u001b[0;32mIn [73]\u001b[0m, in \u001b[0;36m<listcomp>\u001b[0;34m(.0)\u001b[0m\n\u001b[1;32m     24\u001b[0m     row \u001b[38;5;241m=\u001b[39m [ row[index] \u001b[38;5;28;01mfor\u001b[39;00m index \u001b[38;5;129;01min\u001b[39;00m indices]\n\u001b[1;32m     26\u001b[0m \u001b[38;5;28;01mif\u001b[39;00m types:\n\u001b[0;32m---> 27\u001b[0m     row \u001b[38;5;241m=\u001b[39m [\u001b[43mfunc\u001b[49m\u001b[43m(\u001b[49m\u001b[43mval\u001b[49m\u001b[43m)\u001b[49m \u001b[38;5;28;01mfor\u001b[39;00m func, val \u001b[38;5;129;01min\u001b[39;00m \u001b[38;5;28mzip\u001b[39m(types, row)]\n\u001b[1;32m     29\u001b[0m \u001b[38;5;28;01mif\u001b[39;00m headers:\n\u001b[1;32m     30\u001b[0m     record \u001b[38;5;241m=\u001b[39m \u001b[38;5;28mdict\u001b[39m(\u001b[38;5;28mzip\u001b[39m(headers, row))\n",
      "\u001b[0;31mValueError\u001b[0m: invalid literal for int() with base 10: ''"
     ]
    }
   ],
   "source": [
    "#task 3.9\n",
    "portfolio = parse_csv('/home/fedor/practical-python/Work/Data/missing.csv', types=[str, int, float])"
   ]
  },
  {
   "cell_type": "code",
   "execution_count": 77,
   "id": "b6d4cefb",
   "metadata": {},
   "outputs": [],
   "source": [
    "import csv\n",
    "\n",
    "def parse_csv(filename, select=None, types=None, has_headers=True, delimiter=',', silence_errors=False):\n",
    "    \n",
    "    if select and not has_headers:\n",
    "        raise RuntimeError('select requires column headers')\n",
    "\n",
    "    with open(filename) as f:\n",
    "        rows = csv.reader(f, delimiter=delimiter)\n",
    "\n",
    "        headers = next(rows) if has_headers else []\n",
    "\n",
    "        if select:\n",
    "            indices = [ headers.index(colname) for colname in select ]\n",
    "            headers = select\n",
    "\n",
    "        records = []\n",
    "        for rowno, row in enumerate(rows, 1):\n",
    "            if not row:     \n",
    "                continue\n",
    "\n",
    "            if select:\n",
    "                row = [ row[index] for index in indices]\n",
    "\n",
    "            if types:\n",
    "                try:\n",
    "                    row = [func(val) for func, val in zip(types, row)]\n",
    "                except ValueError as e:\n",
    "                    if not silence_errors:\n",
    "                        print(f\"Row {rowno}: Couldn't convert {row}\")\n",
    "                        print(f\"Row {rowno}: Reason {e}\")\n",
    "                    continue\n",
    "\n",
    "            if headers:\n",
    "                record = dict(zip(headers, row))\n",
    "            else:\n",
    "                record = tuple(row)\n",
    "            records.append(record)\n",
    "\n",
    "        return records"
   ]
  },
  {
   "cell_type": "code",
   "execution_count": 78,
   "id": "32c72650",
   "metadata": {},
   "outputs": [
    {
     "name": "stdout",
     "output_type": "stream",
     "text": [
      "Row 4: Couldn't convert ['MSFT', '', '51.23']\n",
      "Row 4: Reason invalid literal for int() with base 10: ''\n",
      "Row 7: Couldn't convert ['IBM', '', '70.44']\n",
      "Row 7: Reason invalid literal for int() with base 10: ''\n"
     ]
    }
   ],
   "source": [
    "portfolio = parse_csv('/home/fedor/practical-python/Work/Data/missing.csv', types=[str, int, float])"
   ]
  },
  {
   "cell_type": "code",
   "execution_count": 79,
   "id": "58e02825",
   "metadata": {},
   "outputs": [
    {
     "data": {
      "text/plain": [
       "[{'name': 'AA', 'shares': 100, 'price': 32.2},\n",
       " {'name': 'IBM', 'shares': 50, 'price': 91.1},\n",
       " {'name': 'CAT', 'shares': 150, 'price': 83.44},\n",
       " {'name': 'GE', 'shares': 95, 'price': 40.37},\n",
       " {'name': 'MSFT', 'shares': 50, 'price': 65.1}]"
      ]
     },
     "execution_count": 79,
     "metadata": {},
     "output_type": "execute_result"
    }
   ],
   "source": [
    "portfolio"
   ]
  },
  {
   "cell_type": "code",
   "execution_count": 50,
   "id": "3d41aa21",
   "metadata": {},
   "outputs": [],
   "source": [
    "#task 3.10\n",
    "\n",
    "import csv\n",
    "\n",
    "def parse_csv(filename, select=None, types=None, has_headers=True, delimiter=',', silence_errors=False):\n",
    "    \n",
    "    if select and not has_headers:\n",
    "        raise RuntimeError('select requires column headers')\n",
    "\n",
    "    with open(filename) as f:\n",
    "        rows = csv.reader(f, delimiter=delimiter)\n",
    "\n",
    "        headers = next(rows) if has_headers else []\n",
    "\n",
    "        if select:\n",
    "            indices = [ headers.index(colname) for colname in select ]\n",
    "            headers = select\n",
    "\n",
    "        records = []\n",
    "        for rowno, row in enumerate(rows, 1):\n",
    "            if not row:     \n",
    "                continue\n",
    "\n",
    "            if select:\n",
    "                row = [ row[index] for index in indices]\n",
    "\n",
    "            if types:\n",
    "                try:\n",
    "                    row = [func(val) for func, val in zip(types, row)]\n",
    "                except ValueError as e:\n",
    "                    if not silence_errors:\n",
    "                        print(f\"Row {rowno}: Couldn't convert {row}\")\n",
    "                        print(f\"Row {rowno}: Reason {e}\")\n",
    "                    continue\n",
    "\n",
    "            if headers:\n",
    "                record = dict(zip(headers, row))\n",
    "            else:\n",
    "                record = tuple(row)\n",
    "            records.append(record)\n",
    "\n",
    "        return records"
   ]
  },
  {
   "cell_type": "code",
   "execution_count": 51,
   "id": "e7d1c9e1",
   "metadata": {},
   "outputs": [
    {
     "data": {
      "text/plain": [
       "[{'name': 'AA', 'shares': 100, 'price': 32.2},\n",
       " {'name': 'IBM', 'shares': 50, 'price': 91.1},\n",
       " {'name': 'CAT', 'shares': 150, 'price': 83.44},\n",
       " {'name': 'GE', 'shares': 95, 'price': 40.37},\n",
       " {'name': 'MSFT', 'shares': 50, 'price': 65.1}]"
      ]
     },
     "execution_count": 51,
     "metadata": {},
     "output_type": "execute_result"
    }
   ],
   "source": [
    "portfolio = parse_csv('/home/fedor/practical-python/Work/Data/missing.csv', types=[str,int,float], silence_errors=True)\n",
    "portfolio"
   ]
  },
  {
   "cell_type": "code",
   "execution_count": 1,
   "id": "7a576147",
   "metadata": {},
   "outputs": [
    {
     "name": "stdout",
     "output_type": "stream",
     "text": [
      "1 60.0\n",
      "2 36.0\n",
      "3 21.6\n",
      "4 12.96\n",
      "5 7.776\n",
      "6 4.6656\n",
      "7 2.7994\n",
      "8 1.6796\n",
      "9 1.0078\n",
      "10 0.6047\n"
     ]
    }
   ],
   "source": [
    "#task 3.11\n",
    "import bounce"
   ]
  },
  {
   "cell_type": "code",
   "execution_count": 2,
   "id": "1e610f20",
   "metadata": {},
   "outputs": [
    {
     "name": "stdout",
     "output_type": "stream",
     "text": [
      "Total paid 966279.5999999957\n"
     ]
    }
   ],
   "source": [
    "import mortgage"
   ]
  },
  {
   "cell_type": "code",
   "execution_count": 3,
   "id": "d7c4526a",
   "metadata": {},
   "outputs": [],
   "source": [
    "import report"
   ]
  },
  {
   "cell_type": "code",
   "execution_count": 4,
   "id": "ad8f8b04",
   "metadata": {},
   "outputs": [],
   "source": [
    "import fileparse"
   ]
  },
  {
   "cell_type": "code",
   "execution_count": 5,
   "id": "8483f476",
   "metadata": {},
   "outputs": [
    {
     "name": "stdout",
     "output_type": "stream",
     "text": [
      "Help on module fileparse:\n",
      "\n",
      "NAME\n",
      "    fileparse - # fileparse.py\n",
      "\n",
      "FUNCTIONS\n",
      "    parse_csv(filename, select=None, types=None, has_headers=True, delimiter=',', silence_errors=False)\n",
      "        Parse a CSV file into a list of records with type conversion.\n",
      "\n",
      "FILE\n",
      "    /home/fedor/Documents/Python tasks/fileparse.py\n",
      "\n",
      "\n"
     ]
    }
   ],
   "source": [
    "help(fileparse)"
   ]
  },
  {
   "cell_type": "code",
   "execution_count": 6,
   "id": "11d65ed1",
   "metadata": {},
   "outputs": [
    {
     "data": {
      "text/plain": [
       "['__builtins__',\n",
       " '__cached__',\n",
       " '__doc__',\n",
       " '__file__',\n",
       " '__loader__',\n",
       " '__name__',\n",
       " '__package__',\n",
       " '__spec__',\n",
       " 'csv',\n",
       " 'parse_csv']"
      ]
     },
     "execution_count": 6,
     "metadata": {},
     "output_type": "execute_result"
    }
   ],
   "source": [
    "dir(fileparse)"
   ]
  },
  {
   "cell_type": "code",
   "execution_count": 7,
   "id": "8b26f61f",
   "metadata": {},
   "outputs": [
    {
     "data": {
      "text/plain": [
       "[{'name': 'AA', 'shares': 100, 'price': 32.2},\n",
       " {'name': 'IBM', 'shares': 50, 'price': 91.1},\n",
       " {'name': 'CAT', 'shares': 150, 'price': 83.44},\n",
       " {'name': 'MSFT', 'shares': 200, 'price': 51.23},\n",
       " {'name': 'GE', 'shares': 95, 'price': 40.37},\n",
       " {'name': 'MSFT', 'shares': 50, 'price': 65.1},\n",
       " {'name': 'IBM', 'shares': 100, 'price': 70.44}]"
      ]
     },
     "execution_count": 7,
     "metadata": {},
     "output_type": "execute_result"
    }
   ],
   "source": [
    "portfolio = fileparse.parse_csv('/home/fedor/Documents/Python tasks/portfolio.csv',select=['name','shares','price'], types=[str,int,float])\n",
    "portfolio"
   ]
  },
  {
   "cell_type": "code",
   "execution_count": 8,
   "id": "46ee2975",
   "metadata": {},
   "outputs": [
    {
     "data": {
      "text/plain": [
       "[('AA', 9.22),\n",
       " ('AXP', 24.85),\n",
       " ('BA', 44.85),\n",
       " ('BAC', 11.27),\n",
       " ('C', 3.72),\n",
       " ('CAT', 35.46),\n",
       " ('CVX', 66.67),\n",
       " ('DD', 28.47),\n",
       " ('DIS', 24.22),\n",
       " ('GE', 13.48),\n",
       " ('GM', 0.75),\n",
       " ('HD', 23.16),\n",
       " ('HPQ', 34.35),\n",
       " ('IBM', 106.28),\n",
       " ('INTC', 15.72),\n",
       " ('JNJ', 55.16),\n",
       " ('JPM', 36.9),\n",
       " ('KFT', 26.11),\n",
       " ('KO', 49.16),\n",
       " ('MCD', 58.99),\n",
       " ('MMM', 57.1),\n",
       " ('MRK', 27.58),\n",
       " ('MSFT', 20.89),\n",
       " ('PFE', 15.19),\n",
       " ('PG', 51.94),\n",
       " ('T', 24.79),\n",
       " ('UTX', 52.61),\n",
       " ('VZ', 29.26),\n",
       " ('WMT', 49.74),\n",
       " ('XOM', 69.35)]"
      ]
     },
     "execution_count": 8,
     "metadata": {},
     "output_type": "execute_result"
    }
   ],
   "source": [
    "pricelist = fileparse.parse_csv('/home/fedor/practical-python/Work/Data/prices.csv',types=[str,float], has_headers=False)\n",
    "pricelist"
   ]
  },
  {
   "cell_type": "code",
   "execution_count": 9,
   "id": "a5a04eb4",
   "metadata": {},
   "outputs": [
    {
     "data": {
      "text/plain": [
       "{'AA': 9.22,\n",
       " 'AXP': 24.85,\n",
       " 'BA': 44.85,\n",
       " 'BAC': 11.27,\n",
       " 'C': 3.72,\n",
       " 'CAT': 35.46,\n",
       " 'CVX': 66.67,\n",
       " 'DD': 28.47,\n",
       " 'DIS': 24.22,\n",
       " 'GE': 13.48,\n",
       " 'GM': 0.75,\n",
       " 'HD': 23.16,\n",
       " 'HPQ': 34.35,\n",
       " 'IBM': 106.28,\n",
       " 'INTC': 15.72,\n",
       " 'JNJ': 55.16,\n",
       " 'JPM': 36.9,\n",
       " 'KFT': 26.11,\n",
       " 'KO': 49.16,\n",
       " 'MCD': 58.99,\n",
       " 'MMM': 57.1,\n",
       " 'MRK': 27.58,\n",
       " 'MSFT': 20.89,\n",
       " 'PFE': 15.19,\n",
       " 'PG': 51.94,\n",
       " 'T': 24.79,\n",
       " 'UTX': 52.61,\n",
       " 'VZ': 29.26,\n",
       " 'WMT': 49.74,\n",
       " 'XOM': 69.35}"
      ]
     },
     "execution_count": 9,
     "metadata": {},
     "output_type": "execute_result"
    }
   ],
   "source": [
    "prices = dict(pricelist)\n",
    "prices"
   ]
  },
  {
   "cell_type": "code",
   "execution_count": 10,
   "id": "e5879394",
   "metadata": {},
   "outputs": [
    {
     "data": {
      "text/plain": [
       "106.28"
      ]
     },
     "execution_count": 10,
     "metadata": {},
     "output_type": "execute_result"
    }
   ],
   "source": [
    "prices['IBM']"
   ]
  },
  {
   "cell_type": "code",
   "execution_count": 11,
   "id": "e99f28c1",
   "metadata": {},
   "outputs": [
    {
     "data": {
      "text/plain": [
       "[{'name': 'AA', 'shares': 100, 'price': 32.2},\n",
       " {'name': 'IBM', 'shares': 50, 'price': 91.1},\n",
       " {'name': 'CAT', 'shares': 150, 'price': 83.44},\n",
       " {'name': 'MSFT', 'shares': 200, 'price': 51.23},\n",
       " {'name': 'GE', 'shares': 95, 'price': 40.37},\n",
       " {'name': 'MSFT', 'shares': 50, 'price': 65.1},\n",
       " {'name': 'IBM', 'shares': 100, 'price': 70.44}]"
      ]
     },
     "execution_count": 11,
     "metadata": {},
     "output_type": "execute_result"
    }
   ],
   "source": [
    "from fileparse import parse_csv\n",
    "portfolio = parse_csv('/home/fedor/practical-python/Work/Data/portfolio.csv', select=['name','shares','price'], types=[str,int,float])\n",
    "portfolio"
   ]
  },
  {
   "cell_type": "code",
   "execution_count": 12,
   "id": "0c008f75",
   "metadata": {},
   "outputs": [
    {
     "name": "stdout",
     "output_type": "stream",
     "text": [
      "      Name     Shares      Price     Change\n",
      "---------- ---------- ---------- ---------- \n",
      "        AA        100       9.22     -22.98\n",
      "       IBM         50     106.28      15.18\n",
      "       CAT        150      35.46     -47.98\n",
      "      MSFT        200      20.89     -30.34\n",
      "        GE         95      13.48     -26.89\n",
      "      MSFT         50      20.89     -44.21\n",
      "       IBM        100     106.28      35.84\n"
     ]
    }
   ],
   "source": [
    "#task 3.12\n",
    "\n",
    "import fileparse\n",
    "\n",
    "def read_portfolio(filename):\n",
    "    \n",
    "    return fileparse.parse_csv(filename, select=['name','shares','price'], types=[str,int,float])\n",
    "\n",
    "def read_prices(filename):\n",
    "   \n",
    "    return dict(fileparse.parse_csv(filename,types=[str,float], has_headers=False))\n",
    "\n",
    "def make_report_data(portfolio,prices):\n",
    "    \n",
    "    rows = []\n",
    "    for stock in portfolio:\n",
    "        current_price = prices[stock['name']]\n",
    "        change = current_price - stock['price']\n",
    "        summary = (stock['name'], stock['shares'], current_price, change)\n",
    "        rows.append(summary)\n",
    "    return rows\n",
    "\n",
    "def print_report(reportdata):\n",
    "    \n",
    "    headers = ('Name','Shares','Price','Change')\n",
    "    print('%10s %10s %10s %10s' % headers)\n",
    "    print(('-'*10 + ' ')*len(headers))\n",
    "    for row in reportdata:\n",
    "        print('%10s %10d %10.2f %10.2f' % row)\n",
    "\n",
    "def portfolio_report(portfoliofile,pricefile):        \n",
    "    \n",
    "    portfolio = read_portfolio(portfoliofile)\n",
    "    prices = read_prices(pricefile)\n",
    "\n",
    "    report = make_report_data(portfolio, prices)\n",
    "\n",
    "    print_report(report)\n",
    "\n",
    "portfolio_report('/home/fedor/practical-python/Work/Data/portfolio.csv',\n",
    "                 '/home/fedor/practical-python/Work/Data/prices.csv')"
   ]
  },
  {
   "cell_type": "code",
   "execution_count": 5,
   "id": "5c9998d7",
   "metadata": {},
   "outputs": [
    {
     "name": "stdout",
     "output_type": "stream",
     "text": [
      "Enter a filename:/home/fedor/practical-python/Work/Data/portfolio.csv\n"
     ]
    },
    {
     "ename": "TypeError",
     "evalue": "'Stock' object is not subscriptable",
     "output_type": "error",
     "traceback": [
      "\u001b[0;31m---------------------------------------------------------------------------\u001b[0m",
      "\u001b[0;31mTypeError\u001b[0m                                 Traceback (most recent call last)",
      "Input \u001b[0;32mIn [5]\u001b[0m, in \u001b[0;36m<cell line: 16>\u001b[0;34m()\u001b[0m\n\u001b[1;32m     13\u001b[0m \u001b[38;5;28;01melse\u001b[39;00m:\n\u001b[1;32m     14\u001b[0m     filename \u001b[38;5;241m=\u001b[39m \u001b[38;5;28minput\u001b[39m(\u001b[38;5;124m'\u001b[39m\u001b[38;5;124mEnter a filename:\u001b[39m\u001b[38;5;124m'\u001b[39m)\n\u001b[0;32m---> 16\u001b[0m cost \u001b[38;5;241m=\u001b[39m \u001b[43mportfolio_cost\u001b[49m\u001b[43m(\u001b[49m\u001b[43mfilename\u001b[49m\u001b[43m)\u001b[49m\n\u001b[1;32m     17\u001b[0m \u001b[38;5;28mprint\u001b[39m(\u001b[38;5;124m'\u001b[39m\u001b[38;5;124mTotal cost:\u001b[39m\u001b[38;5;124m'\u001b[39m, cost)\n",
      "Input \u001b[0;32mIn [5]\u001b[0m, in \u001b[0;36mportfolio_cost\u001b[0;34m(filename)\u001b[0m\n\u001b[1;32m      5\u001b[0m \u001b[38;5;28;01mdef\u001b[39;00m \u001b[38;5;21mportfolio_cost\u001b[39m(filename):\n\u001b[1;32m      7\u001b[0m     portfolio \u001b[38;5;241m=\u001b[39m report\u001b[38;5;241m.\u001b[39mread_portfolio(filename)\n\u001b[0;32m----> 8\u001b[0m     \u001b[38;5;28;01mreturn\u001b[39;00m \u001b[38;5;28msum\u001b[39m([s[\u001b[38;5;124m'\u001b[39m\u001b[38;5;124mshares\u001b[39m\u001b[38;5;124m'\u001b[39m]\u001b[38;5;241m*\u001b[39ms[\u001b[38;5;124m'\u001b[39m\u001b[38;5;124mprice\u001b[39m\u001b[38;5;124m'\u001b[39m] \u001b[38;5;28;01mfor\u001b[39;00m s \u001b[38;5;129;01min\u001b[39;00m portfolio])\n",
      "Input \u001b[0;32mIn [5]\u001b[0m, in \u001b[0;36m<listcomp>\u001b[0;34m(.0)\u001b[0m\n\u001b[1;32m      5\u001b[0m \u001b[38;5;28;01mdef\u001b[39;00m \u001b[38;5;21mportfolio_cost\u001b[39m(filename):\n\u001b[1;32m      7\u001b[0m     portfolio \u001b[38;5;241m=\u001b[39m report\u001b[38;5;241m.\u001b[39mread_portfolio(filename)\n\u001b[0;32m----> 8\u001b[0m     \u001b[38;5;28;01mreturn\u001b[39;00m \u001b[38;5;28msum\u001b[39m([\u001b[43ms\u001b[49m\u001b[43m[\u001b[49m\u001b[38;5;124;43m'\u001b[39;49m\u001b[38;5;124;43mshares\u001b[39;49m\u001b[38;5;124;43m'\u001b[39;49m\u001b[43m]\u001b[49m\u001b[38;5;241m*\u001b[39ms[\u001b[38;5;124m'\u001b[39m\u001b[38;5;124mprice\u001b[39m\u001b[38;5;124m'\u001b[39m] \u001b[38;5;28;01mfor\u001b[39;00m s \u001b[38;5;129;01min\u001b[39;00m portfolio])\n",
      "\u001b[0;31mTypeError\u001b[0m: 'Stock' object is not subscriptable"
     ]
    }
   ],
   "source": [
    "#task 3.14\n",
    "# сделано в файле через командную строку\n",
    "import report\n",
    "\n",
    "def portfolio_cost(filename):\n",
    "    \n",
    "    portfolio = report.read_portfolio(filename)\n",
    "    return sum([s['shares']*s['price'] for s in portfolio])\n",
    "\n",
    "import sys\n",
    "if len(sys.argv) == 2:\n",
    "    filename = sys.argv[1]\n",
    "else:\n",
    "    filename = input('Enter a filename:')\n",
    "\n",
    "cost = portfolio_cost(filename)\n",
    "print('Total cost:', cost)"
   ]
  },
  {
   "cell_type": "code",
   "execution_count": 21,
   "id": "ec25baf2",
   "metadata": {
    "scrolled": true
   },
   "outputs": [],
   "source": [
    "#task 3.16\n",
    "# сделано в файле через коммандную строку\n",
    "# report.ry\n",
    "import fileparse\n",
    "\n",
    "def read_portfolio(filename):\n",
    "   \n",
    "    return fileparse.parse_csv(filename, select=['name','shares','price'], types=[str,int,float])\n",
    "\n",
    "def read_prices(filename):\n",
    "    \n",
    "    return dict(fileparse.parse_csv(filename,types=[str,float], has_headers=False))\n",
    "\n",
    "def make_report_data(portfolio,prices):\n",
    "    \n",
    "    rows = []\n",
    "    for stock in portfolio:\n",
    "        current_price = prices[stock['name']]\n",
    "        change = current_price - stock['price']\n",
    "        summary = (stock['name'], stock['shares'], current_price, change)\n",
    "        rows.append(summary)\n",
    "    return rows\n",
    "\n",
    "def print_report(reportdata):\n",
    "    \n",
    "    headers = ('Name','Shares','Price','Change')\n",
    "    print('%10s %10s %10s %10s' % headers)\n",
    "    print(('-'*10 + ' ')*len(headers))\n",
    "    for row in reportdata:\n",
    "        print('%10s %10d %10.2f %10.2f' % row)\n",
    "\n",
    "def portfolio_report(portfoliofile, pricefile):        \n",
    "    \n",
    "    portfolio = read_portfolio(portfoliofile)\n",
    "    prices = read_prices(pricefile)\n",
    "\n",
    "    report = make_report_data(portfolio, prices)\n",
    "\n",
    "    print_report(report)\n",
    "\n",
    "def main(args):\n",
    "    if len(args) != 3:\n",
    "        raise SystemExit('Usage: %s portfile pricefile' % args[0])\n",
    "    portfolio_report(args[1], args[2])\n",
    "\n",
    "if __name__ == '__main__':\n",
    "    import sys\n",
    "    main(sys.argv)\n",
    "    \n"
   ]
  },
  {
   "cell_type": "code",
   "execution_count": 22,
   "id": "69978a07",
   "metadata": {},
   "outputs": [],
   "source": [
    "# pcost.py\n",
    "import report\n",
    "\n",
    "def portfolio_cost(filename):\n",
    "    \n",
    "    portfolio = report.read_portfolio(filename)\n",
    "    return sum([s['shares'] * s['price'] for s in portfolio])\n",
    "\n",
    "def main(args):\n",
    "    if len(args) != 2:\n",
    "        raise SystemExit('Usage: %s portfoliofile' % args[0])\n",
    "    filename = args[1]\n",
    "    print('Total cost:', portfolio_cost(filename))\n",
    "\n",
    "if __name__ == '__main__':\n",
    "    import sys\n",
    "    main(sys.argv)"
   ]
  },
  {
   "cell_type": "code",
   "execution_count": 2,
   "id": "2281e738",
   "metadata": {},
   "outputs": [],
   "source": [
    "#task 3.17\n",
    "import csv\n",
    "\n",
    "def parse_csv(lines, select=None, types=None, has_headers=True, delimiter=',', silence_errors=False):\n",
    "   \n",
    "    if select and not has_headers:\n",
    "        raise RuntimeError('select requires column headers')\n",
    "\n",
    "    rows = csv.reader(lines, delimiter=delimiter)\n",
    "\n",
    "    headers = next(rows) if has_headers else []\n",
    "\n",
    "    if select:\n",
    "        indices = [ headers.index(colname) for colname in select ]\n",
    "        headers = select\n",
    "\n",
    "    records = []\n",
    "    for rowno, row in enumerate(rows, 1):\n",
    "        if not row:     \n",
    "            continue\n",
    "\n",
    "        if select:\n",
    "            row = [ row[index] for index in indices]\n",
    "\n",
    "        if types:\n",
    "            try:\n",
    "                row = [func(val) for func, val in zip(types, row)]\n",
    "            except ValueError as e:\n",
    "                if not silence_errors:\n",
    "                    print(f\"Row {rowno}: Couldn't convert {row}\")\n",
    "                    print(f\"Row {rowno}: Reason {e}\")\n",
    "                continue\n",
    "\n",
    "        if headers:\n",
    "            record = dict(zip(headers, row))\n",
    "        else:\n",
    "            record = tuple(row)\n",
    "        records.append(record)\n",
    "\n",
    "    return records"
   ]
  },
  {
   "cell_type": "code",
   "execution_count": 1,
   "id": "c041b24b",
   "metadata": {},
   "outputs": [
    {
     "ename": "FileNotFoundError",
     "evalue": "[Errno 2] No such file or directory: '-f'",
     "output_type": "error",
     "traceback": [
      "\u001b[0;31m---------------------------------------------------------------------------\u001b[0m",
      "\u001b[0;31mFileNotFoundError\u001b[0m                         Traceback (most recent call last)",
      "Input \u001b[0;32mIn [1]\u001b[0m, in \u001b[0;36m<cell line: 48>\u001b[0;34m()\u001b[0m\n\u001b[1;32m     48\u001b[0m \u001b[38;5;28;01mif\u001b[39;00m \u001b[38;5;18m__name__\u001b[39m \u001b[38;5;241m==\u001b[39m \u001b[38;5;124m'\u001b[39m\u001b[38;5;124m__main__\u001b[39m\u001b[38;5;124m'\u001b[39m:\n\u001b[1;32m     49\u001b[0m     \u001b[38;5;28;01mimport\u001b[39;00m \u001b[38;5;21;01msys\u001b[39;00m\n\u001b[0;32m---> 50\u001b[0m     \u001b[43mmain\u001b[49m\u001b[43m(\u001b[49m\u001b[43msys\u001b[49m\u001b[38;5;241;43m.\u001b[39;49m\u001b[43margv\u001b[49m\u001b[43m)\u001b[49m\n",
      "Input \u001b[0;32mIn [1]\u001b[0m, in \u001b[0;36mmain\u001b[0;34m(args)\u001b[0m\n\u001b[1;32m     44\u001b[0m \u001b[38;5;28;01mif\u001b[39;00m \u001b[38;5;28mlen\u001b[39m(args) \u001b[38;5;241m!=\u001b[39m \u001b[38;5;241m3\u001b[39m:\n\u001b[1;32m     45\u001b[0m     \u001b[38;5;28;01mraise\u001b[39;00m \u001b[38;5;167;01mSystemExit\u001b[39;00m(\u001b[38;5;124m'\u001b[39m\u001b[38;5;124mUsage: \u001b[39m\u001b[38;5;132;01m%s\u001b[39;00m\u001b[38;5;124m portfile pricefile\u001b[39m\u001b[38;5;124m'\u001b[39m \u001b[38;5;241m%\u001b[39m args[\u001b[38;5;241m0\u001b[39m])\n\u001b[0;32m---> 46\u001b[0m \u001b[43mportfolio_report\u001b[49m\u001b[43m(\u001b[49m\u001b[43margs\u001b[49m\u001b[43m[\u001b[49m\u001b[38;5;241;43m1\u001b[39;49m\u001b[43m]\u001b[49m\u001b[43m,\u001b[49m\u001b[43m \u001b[49m\u001b[43margs\u001b[49m\u001b[43m[\u001b[49m\u001b[38;5;241;43m2\u001b[39;49m\u001b[43m]\u001b[49m\u001b[43m)\u001b[49m\n",
      "Input \u001b[0;32mIn [1]\u001b[0m, in \u001b[0;36mportfolio_report\u001b[0;34m(portfoliofile, pricefile)\u001b[0m\n\u001b[1;32m     34\u001b[0m \u001b[38;5;28;01mdef\u001b[39;00m \u001b[38;5;21mportfolio_report\u001b[39m(portfoliofile, pricefile):        \n\u001b[0;32m---> 36\u001b[0m     portfolio \u001b[38;5;241m=\u001b[39m \u001b[43mread_portfolio\u001b[49m\u001b[43m(\u001b[49m\u001b[43mportfoliofile\u001b[49m\u001b[43m)\u001b[49m\n\u001b[1;32m     37\u001b[0m     prices \u001b[38;5;241m=\u001b[39m read_prices(pricefile)\n\u001b[1;32m     39\u001b[0m     report \u001b[38;5;241m=\u001b[39m make_report_data(portfolio, prices)\n",
      "Input \u001b[0;32mIn [1]\u001b[0m, in \u001b[0;36mread_portfolio\u001b[0;34m(filename)\u001b[0m\n\u001b[1;32m      6\u001b[0m \u001b[38;5;28;01mdef\u001b[39;00m \u001b[38;5;21mread_portfolio\u001b[39m(filename):\n\u001b[0;32m----> 8\u001b[0m     \u001b[38;5;28;01mwith\u001b[39;00m \u001b[38;5;28;43mopen\u001b[39;49m\u001b[43m(\u001b[49m\u001b[43mfilename\u001b[49m\u001b[43m)\u001b[49m \u001b[38;5;28;01mas\u001b[39;00m lines:\n\u001b[1;32m      9\u001b[0m         \u001b[38;5;28;01mreturn\u001b[39;00m fileparse\u001b[38;5;241m.\u001b[39mparse_csv(lines, select\u001b[38;5;241m=\u001b[39m[\u001b[38;5;124m'\u001b[39m\u001b[38;5;124mname\u001b[39m\u001b[38;5;124m'\u001b[39m,\u001b[38;5;124m'\u001b[39m\u001b[38;5;124mshares\u001b[39m\u001b[38;5;124m'\u001b[39m,\u001b[38;5;124m'\u001b[39m\u001b[38;5;124mprice\u001b[39m\u001b[38;5;124m'\u001b[39m], types\u001b[38;5;241m=\u001b[39m[\u001b[38;5;28mstr\u001b[39m,\u001b[38;5;28mint\u001b[39m,\u001b[38;5;28mfloat\u001b[39m])\n",
      "\u001b[0;31mFileNotFoundError\u001b[0m: [Errno 2] No such file or directory: '-f'"
     ]
    }
   ],
   "source": [
    "#task 3.18\n",
    "# report.py\n",
    "\n",
    "import fileparse\n",
    "\n",
    "def read_portfolio(filename):\n",
    "    \n",
    "    with open(filename) as lines:\n",
    "        return fileparse.parse_csv(lines, select=['name','shares','price'], types=[str,int,float])\n",
    "\n",
    "def read_prices(filename):\n",
    "    \n",
    "    with open(filename) as lines:\n",
    "        return dict(fileparse.parse_csv(lines, types=[str,float], has_headers=False))\n",
    "\n",
    "def make_report_data(portfolio,prices):\n",
    "    \n",
    "    rows = []\n",
    "    for stock in portfolio:\n",
    "        current_price = prices[stock['name']]\n",
    "        change = current_price - stock['price']\n",
    "        summary = (stock['name'], stock['shares'], current_price, change)\n",
    "        rows.append(summary)\n",
    "    return rows\n",
    "\n",
    "def print_report(reportdata):\n",
    "    \n",
    "    headers = ('Name','Shares','Price','Change')\n",
    "    print('%10s %10s %10s %10s' % headers)\n",
    "    print(('-'*10 + ' ')*len(headers))\n",
    "    for row in reportdata:\n",
    "        print('%10s %10d %10.2f %10.2f' % row)\n",
    "\n",
    "def portfolio_report(portfoliofile, pricefile):        \n",
    "    \n",
    "    portfolio = read_portfolio(portfoliofile)\n",
    "    prices = read_prices(pricefile)\n",
    "\n",
    "    report = make_report_data(portfolio, prices)\n",
    "\n",
    "    print_report(report)\n",
    "\n",
    "def main(args):\n",
    "    if len(args) != 3:\n",
    "        raise SystemExit('Usage: %s portfile pricefile' % args[0])\n",
    "    portfolio_report(args[1], args[2])\n",
    "\n",
    "if __name__ == '__main__':\n",
    "    import sys\n",
    "    main(sys.argv)"
   ]
  },
  {
   "cell_type": "code",
   "execution_count": null,
   "id": "f2eccdc7",
   "metadata": {},
   "outputs": [],
   "source": []
  }
 ],
 "metadata": {
  "kernelspec": {
   "display_name": "Python 3 (ipykernel)",
   "language": "python",
   "name": "python3"
  },
  "language_info": {
   "codemirror_mode": {
    "name": "ipython",
    "version": 3
   },
   "file_extension": ".py",
   "mimetype": "text/x-python",
   "name": "python",
   "nbconvert_exporter": "python",
   "pygments_lexer": "ipython3",
   "version": "3.9.12"
  }
 },
 "nbformat": 4,
 "nbformat_minor": 5
}
