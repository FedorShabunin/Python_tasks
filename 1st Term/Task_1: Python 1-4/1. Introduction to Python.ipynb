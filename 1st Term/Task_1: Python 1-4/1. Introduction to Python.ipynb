{
 "cells": [
  {
   "cell_type": "code",
   "execution_count": 5,
   "id": "b801db12",
   "metadata": {},
   "outputs": [
    {
     "data": {
      "text/plain": [
       "35708.25"
      ]
     },
     "execution_count": 5,
     "metadata": {},
     "output_type": "execute_result"
    }
   ],
   "source": [
    "#task 1.1\n",
    "(711.25 - 235.14) * 75"
   ]
  },
  {
   "cell_type": "code",
   "execution_count": 6,
   "id": "78c51428",
   "metadata": {},
   "outputs": [
    {
     "data": {
      "text/plain": [
       "28566.600000000002"
      ]
     },
     "execution_count": 6,
     "metadata": {},
     "output_type": "execute_result"
    }
   ],
   "source": [
    "_* 0.80"
   ]
  },
  {
   "cell_type": "code",
   "execution_count": 11,
   "id": "85d962ef",
   "metadata": {},
   "outputs": [
    {
     "name": "stdout",
     "output_type": "stream",
     "text": [
      "Help on built-in function abs in module builtins:\n",
      "\n",
      "abs(x, /)\n",
      "    Return the absolute value of the argument.\n",
      "\n"
     ]
    }
   ],
   "source": [
    "#task 1.2\n",
    "help(abs)"
   ]
  },
  {
   "cell_type": "code",
   "execution_count": 12,
   "id": "89a0510d",
   "metadata": {},
   "outputs": [
    {
     "name": "stdout",
     "output_type": "stream",
     "text": [
      "Help on built-in function round in module builtins:\n",
      "\n",
      "round(number, ndigits=None)\n",
      "    Round a number to a given precision in decimal digits.\n",
      "    \n",
      "    The return value is an integer if ndigits is omitted or None.  Otherwise\n",
      "    the return value has the same type as the number.  ndigits may be negative.\n",
      "\n"
     ]
    }
   ],
   "source": [
    "help(round)"
   ]
  },
  {
   "cell_type": "code",
   "execution_count": 13,
   "id": "606a9797",
   "metadata": {},
   "outputs": [
    {
     "data": {
      "text/plain": [
       "32"
      ]
     },
     "execution_count": 13,
     "metadata": {},
     "output_type": "execute_result"
    }
   ],
   "source": [
    "#task 1.3\n",
    "12 + 20"
   ]
  },
  {
   "cell_type": "code",
   "execution_count": 14,
   "id": "c7e14f98",
   "metadata": {},
   "outputs": [
    {
     "data": {
      "text/plain": [
       "18"
      ]
     },
     "execution_count": 14,
     "metadata": {},
     "output_type": "execute_result"
    }
   ],
   "source": [
    "(3 + 4\n",
    "         + 5 + 6)"
   ]
  },
  {
   "cell_type": "code",
   "execution_count": 15,
   "id": "69781b32",
   "metadata": {},
   "outputs": [
    {
     "name": "stdout",
     "output_type": "stream",
     "text": [
      "0\n",
      "1\n",
      "2\n",
      "3\n",
      "4\n"
     ]
    }
   ],
   "source": [
    "for i in range(5):\n",
    "        print(i)"
   ]
  },
  {
   "cell_type": "code",
   "execution_count": 4,
   "id": "a4b0e71a",
   "metadata": {},
   "outputs": [
    {
     "ename": "HTTPError",
     "evalue": "HTTP Error 404: ",
     "output_type": "error",
     "traceback": [
      "\u001b[0;31m---------------------------------------------------------------------------\u001b[0m",
      "\u001b[0;31mHTTPError\u001b[0m                                 Traceback (most recent call last)",
      "Input \u001b[0;32mIn [4]\u001b[0m, in \u001b[0;36m<cell line: 3>\u001b[0;34m()\u001b[0m\n\u001b[1;32m      1\u001b[0m \u001b[38;5;66;03m#task 1.4\u001b[39;00m\n\u001b[1;32m      2\u001b[0m \u001b[38;5;28;01mimport\u001b[39;00m \u001b[38;5;21;01murllib\u001b[39;00m\u001b[38;5;21;01m.\u001b[39;00m\u001b[38;5;21;01mrequest\u001b[39;00m\n\u001b[0;32m----> 3\u001b[0m u \u001b[38;5;241m=\u001b[39m \u001b[43murllib\u001b[49m\u001b[38;5;241;43m.\u001b[39;49m\u001b[43mrequest\u001b[49m\u001b[38;5;241;43m.\u001b[39;49m\u001b[43murlopen\u001b[49m\u001b[43m(\u001b[49m\u001b[38;5;124;43m'\u001b[39;49m\u001b[38;5;124;43mhttp://ctabustracker.com/bustime/map/getStopPredictions.jsp?stop=14791&route=22\u001b[39;49m\u001b[38;5;124;43m'\u001b[39;49m\u001b[43m)\u001b[49m\n\u001b[1;32m      4\u001b[0m \u001b[38;5;28;01mfrom\u001b[39;00m \u001b[38;5;21;01mxml\u001b[39;00m\u001b[38;5;21;01m.\u001b[39;00m\u001b[38;5;21;01metree\u001b[39;00m\u001b[38;5;21;01m.\u001b[39;00m\u001b[38;5;21;01mElementTree\u001b[39;00m \u001b[38;5;28;01mimport\u001b[39;00m parse\n\u001b[1;32m      5\u001b[0m doc \u001b[38;5;241m=\u001b[39m parse(u)\n",
      "File \u001b[0;32m~/anaconda3/lib/python3.9/urllib/request.py:214\u001b[0m, in \u001b[0;36murlopen\u001b[0;34m(url, data, timeout, cafile, capath, cadefault, context)\u001b[0m\n\u001b[1;32m    212\u001b[0m \u001b[38;5;28;01melse\u001b[39;00m:\n\u001b[1;32m    213\u001b[0m     opener \u001b[38;5;241m=\u001b[39m _opener\n\u001b[0;32m--> 214\u001b[0m \u001b[38;5;28;01mreturn\u001b[39;00m \u001b[43mopener\u001b[49m\u001b[38;5;241;43m.\u001b[39;49m\u001b[43mopen\u001b[49m\u001b[43m(\u001b[49m\u001b[43murl\u001b[49m\u001b[43m,\u001b[49m\u001b[43m \u001b[49m\u001b[43mdata\u001b[49m\u001b[43m,\u001b[49m\u001b[43m \u001b[49m\u001b[43mtimeout\u001b[49m\u001b[43m)\u001b[49m\n",
      "File \u001b[0;32m~/anaconda3/lib/python3.9/urllib/request.py:523\u001b[0m, in \u001b[0;36mOpenerDirector.open\u001b[0;34m(self, fullurl, data, timeout)\u001b[0m\n\u001b[1;32m    521\u001b[0m \u001b[38;5;28;01mfor\u001b[39;00m processor \u001b[38;5;129;01min\u001b[39;00m \u001b[38;5;28mself\u001b[39m\u001b[38;5;241m.\u001b[39mprocess_response\u001b[38;5;241m.\u001b[39mget(protocol, []):\n\u001b[1;32m    522\u001b[0m     meth \u001b[38;5;241m=\u001b[39m \u001b[38;5;28mgetattr\u001b[39m(processor, meth_name)\n\u001b[0;32m--> 523\u001b[0m     response \u001b[38;5;241m=\u001b[39m \u001b[43mmeth\u001b[49m\u001b[43m(\u001b[49m\u001b[43mreq\u001b[49m\u001b[43m,\u001b[49m\u001b[43m \u001b[49m\u001b[43mresponse\u001b[49m\u001b[43m)\u001b[49m\n\u001b[1;32m    525\u001b[0m \u001b[38;5;28;01mreturn\u001b[39;00m response\n",
      "File \u001b[0;32m~/anaconda3/lib/python3.9/urllib/request.py:632\u001b[0m, in \u001b[0;36mHTTPErrorProcessor.http_response\u001b[0;34m(self, request, response)\u001b[0m\n\u001b[1;32m    629\u001b[0m \u001b[38;5;66;03m# According to RFC 2616, \"2xx\" code indicates that the client's\u001b[39;00m\n\u001b[1;32m    630\u001b[0m \u001b[38;5;66;03m# request was successfully received, understood, and accepted.\u001b[39;00m\n\u001b[1;32m    631\u001b[0m \u001b[38;5;28;01mif\u001b[39;00m \u001b[38;5;129;01mnot\u001b[39;00m (\u001b[38;5;241m200\u001b[39m \u001b[38;5;241m<\u001b[39m\u001b[38;5;241m=\u001b[39m code \u001b[38;5;241m<\u001b[39m \u001b[38;5;241m300\u001b[39m):\n\u001b[0;32m--> 632\u001b[0m     response \u001b[38;5;241m=\u001b[39m \u001b[38;5;28;43mself\u001b[39;49m\u001b[38;5;241;43m.\u001b[39;49m\u001b[43mparent\u001b[49m\u001b[38;5;241;43m.\u001b[39;49m\u001b[43merror\u001b[49m\u001b[43m(\u001b[49m\n\u001b[1;32m    633\u001b[0m \u001b[43m        \u001b[49m\u001b[38;5;124;43m'\u001b[39;49m\u001b[38;5;124;43mhttp\u001b[39;49m\u001b[38;5;124;43m'\u001b[39;49m\u001b[43m,\u001b[49m\u001b[43m \u001b[49m\u001b[43mrequest\u001b[49m\u001b[43m,\u001b[49m\u001b[43m \u001b[49m\u001b[43mresponse\u001b[49m\u001b[43m,\u001b[49m\u001b[43m \u001b[49m\u001b[43mcode\u001b[49m\u001b[43m,\u001b[49m\u001b[43m \u001b[49m\u001b[43mmsg\u001b[49m\u001b[43m,\u001b[49m\u001b[43m \u001b[49m\u001b[43mhdrs\u001b[49m\u001b[43m)\u001b[49m\n\u001b[1;32m    635\u001b[0m \u001b[38;5;28;01mreturn\u001b[39;00m response\n",
      "File \u001b[0;32m~/anaconda3/lib/python3.9/urllib/request.py:555\u001b[0m, in \u001b[0;36mOpenerDirector.error\u001b[0;34m(self, proto, *args)\u001b[0m\n\u001b[1;32m    553\u001b[0m     http_err \u001b[38;5;241m=\u001b[39m \u001b[38;5;241m0\u001b[39m\n\u001b[1;32m    554\u001b[0m args \u001b[38;5;241m=\u001b[39m (\u001b[38;5;28mdict\u001b[39m, proto, meth_name) \u001b[38;5;241m+\u001b[39m args\n\u001b[0;32m--> 555\u001b[0m result \u001b[38;5;241m=\u001b[39m \u001b[38;5;28;43mself\u001b[39;49m\u001b[38;5;241;43m.\u001b[39;49m\u001b[43m_call_chain\u001b[49m\u001b[43m(\u001b[49m\u001b[38;5;241;43m*\u001b[39;49m\u001b[43margs\u001b[49m\u001b[43m)\u001b[49m\n\u001b[1;32m    556\u001b[0m \u001b[38;5;28;01mif\u001b[39;00m result:\n\u001b[1;32m    557\u001b[0m     \u001b[38;5;28;01mreturn\u001b[39;00m result\n",
      "File \u001b[0;32m~/anaconda3/lib/python3.9/urllib/request.py:494\u001b[0m, in \u001b[0;36mOpenerDirector._call_chain\u001b[0;34m(self, chain, kind, meth_name, *args)\u001b[0m\n\u001b[1;32m    492\u001b[0m \u001b[38;5;28;01mfor\u001b[39;00m handler \u001b[38;5;129;01min\u001b[39;00m handlers:\n\u001b[1;32m    493\u001b[0m     func \u001b[38;5;241m=\u001b[39m \u001b[38;5;28mgetattr\u001b[39m(handler, meth_name)\n\u001b[0;32m--> 494\u001b[0m     result \u001b[38;5;241m=\u001b[39m \u001b[43mfunc\u001b[49m\u001b[43m(\u001b[49m\u001b[38;5;241;43m*\u001b[39;49m\u001b[43margs\u001b[49m\u001b[43m)\u001b[49m\n\u001b[1;32m    495\u001b[0m     \u001b[38;5;28;01mif\u001b[39;00m result \u001b[38;5;129;01mis\u001b[39;00m \u001b[38;5;129;01mnot\u001b[39;00m \u001b[38;5;28;01mNone\u001b[39;00m:\n\u001b[1;32m    496\u001b[0m         \u001b[38;5;28;01mreturn\u001b[39;00m result\n",
      "File \u001b[0;32m~/anaconda3/lib/python3.9/urllib/request.py:747\u001b[0m, in \u001b[0;36mHTTPRedirectHandler.http_error_302\u001b[0;34m(self, req, fp, code, msg, headers)\u001b[0m\n\u001b[1;32m    744\u001b[0m fp\u001b[38;5;241m.\u001b[39mread()\n\u001b[1;32m    745\u001b[0m fp\u001b[38;5;241m.\u001b[39mclose()\n\u001b[0;32m--> 747\u001b[0m \u001b[38;5;28;01mreturn\u001b[39;00m \u001b[38;5;28;43mself\u001b[39;49m\u001b[38;5;241;43m.\u001b[39;49m\u001b[43mparent\u001b[49m\u001b[38;5;241;43m.\u001b[39;49m\u001b[43mopen\u001b[49m\u001b[43m(\u001b[49m\u001b[43mnew\u001b[49m\u001b[43m,\u001b[49m\u001b[43m \u001b[49m\u001b[43mtimeout\u001b[49m\u001b[38;5;241;43m=\u001b[39;49m\u001b[43mreq\u001b[49m\u001b[38;5;241;43m.\u001b[39;49m\u001b[43mtimeout\u001b[49m\u001b[43m)\u001b[49m\n",
      "File \u001b[0;32m~/anaconda3/lib/python3.9/urllib/request.py:523\u001b[0m, in \u001b[0;36mOpenerDirector.open\u001b[0;34m(self, fullurl, data, timeout)\u001b[0m\n\u001b[1;32m    521\u001b[0m \u001b[38;5;28;01mfor\u001b[39;00m processor \u001b[38;5;129;01min\u001b[39;00m \u001b[38;5;28mself\u001b[39m\u001b[38;5;241m.\u001b[39mprocess_response\u001b[38;5;241m.\u001b[39mget(protocol, []):\n\u001b[1;32m    522\u001b[0m     meth \u001b[38;5;241m=\u001b[39m \u001b[38;5;28mgetattr\u001b[39m(processor, meth_name)\n\u001b[0;32m--> 523\u001b[0m     response \u001b[38;5;241m=\u001b[39m \u001b[43mmeth\u001b[49m\u001b[43m(\u001b[49m\u001b[43mreq\u001b[49m\u001b[43m,\u001b[49m\u001b[43m \u001b[49m\u001b[43mresponse\u001b[49m\u001b[43m)\u001b[49m\n\u001b[1;32m    525\u001b[0m \u001b[38;5;28;01mreturn\u001b[39;00m response\n",
      "File \u001b[0;32m~/anaconda3/lib/python3.9/urllib/request.py:632\u001b[0m, in \u001b[0;36mHTTPErrorProcessor.http_response\u001b[0;34m(self, request, response)\u001b[0m\n\u001b[1;32m    629\u001b[0m \u001b[38;5;66;03m# According to RFC 2616, \"2xx\" code indicates that the client's\u001b[39;00m\n\u001b[1;32m    630\u001b[0m \u001b[38;5;66;03m# request was successfully received, understood, and accepted.\u001b[39;00m\n\u001b[1;32m    631\u001b[0m \u001b[38;5;28;01mif\u001b[39;00m \u001b[38;5;129;01mnot\u001b[39;00m (\u001b[38;5;241m200\u001b[39m \u001b[38;5;241m<\u001b[39m\u001b[38;5;241m=\u001b[39m code \u001b[38;5;241m<\u001b[39m \u001b[38;5;241m300\u001b[39m):\n\u001b[0;32m--> 632\u001b[0m     response \u001b[38;5;241m=\u001b[39m \u001b[38;5;28;43mself\u001b[39;49m\u001b[38;5;241;43m.\u001b[39;49m\u001b[43mparent\u001b[49m\u001b[38;5;241;43m.\u001b[39;49m\u001b[43merror\u001b[49m\u001b[43m(\u001b[49m\n\u001b[1;32m    633\u001b[0m \u001b[43m        \u001b[49m\u001b[38;5;124;43m'\u001b[39;49m\u001b[38;5;124;43mhttp\u001b[39;49m\u001b[38;5;124;43m'\u001b[39;49m\u001b[43m,\u001b[49m\u001b[43m \u001b[49m\u001b[43mrequest\u001b[49m\u001b[43m,\u001b[49m\u001b[43m \u001b[49m\u001b[43mresponse\u001b[49m\u001b[43m,\u001b[49m\u001b[43m \u001b[49m\u001b[43mcode\u001b[49m\u001b[43m,\u001b[49m\u001b[43m \u001b[49m\u001b[43mmsg\u001b[49m\u001b[43m,\u001b[49m\u001b[43m \u001b[49m\u001b[43mhdrs\u001b[49m\u001b[43m)\u001b[49m\n\u001b[1;32m    635\u001b[0m \u001b[38;5;28;01mreturn\u001b[39;00m response\n",
      "File \u001b[0;32m~/anaconda3/lib/python3.9/urllib/request.py:555\u001b[0m, in \u001b[0;36mOpenerDirector.error\u001b[0;34m(self, proto, *args)\u001b[0m\n\u001b[1;32m    553\u001b[0m     http_err \u001b[38;5;241m=\u001b[39m \u001b[38;5;241m0\u001b[39m\n\u001b[1;32m    554\u001b[0m args \u001b[38;5;241m=\u001b[39m (\u001b[38;5;28mdict\u001b[39m, proto, meth_name) \u001b[38;5;241m+\u001b[39m args\n\u001b[0;32m--> 555\u001b[0m result \u001b[38;5;241m=\u001b[39m \u001b[38;5;28;43mself\u001b[39;49m\u001b[38;5;241;43m.\u001b[39;49m\u001b[43m_call_chain\u001b[49m\u001b[43m(\u001b[49m\u001b[38;5;241;43m*\u001b[39;49m\u001b[43margs\u001b[49m\u001b[43m)\u001b[49m\n\u001b[1;32m    556\u001b[0m \u001b[38;5;28;01mif\u001b[39;00m result:\n\u001b[1;32m    557\u001b[0m     \u001b[38;5;28;01mreturn\u001b[39;00m result\n",
      "File \u001b[0;32m~/anaconda3/lib/python3.9/urllib/request.py:494\u001b[0m, in \u001b[0;36mOpenerDirector._call_chain\u001b[0;34m(self, chain, kind, meth_name, *args)\u001b[0m\n\u001b[1;32m    492\u001b[0m \u001b[38;5;28;01mfor\u001b[39;00m handler \u001b[38;5;129;01min\u001b[39;00m handlers:\n\u001b[1;32m    493\u001b[0m     func \u001b[38;5;241m=\u001b[39m \u001b[38;5;28mgetattr\u001b[39m(handler, meth_name)\n\u001b[0;32m--> 494\u001b[0m     result \u001b[38;5;241m=\u001b[39m \u001b[43mfunc\u001b[49m\u001b[43m(\u001b[49m\u001b[38;5;241;43m*\u001b[39;49m\u001b[43margs\u001b[49m\u001b[43m)\u001b[49m\n\u001b[1;32m    495\u001b[0m     \u001b[38;5;28;01mif\u001b[39;00m result \u001b[38;5;129;01mis\u001b[39;00m \u001b[38;5;129;01mnot\u001b[39;00m \u001b[38;5;28;01mNone\u001b[39;00m:\n\u001b[1;32m    496\u001b[0m         \u001b[38;5;28;01mreturn\u001b[39;00m result\n",
      "File \u001b[0;32m~/anaconda3/lib/python3.9/urllib/request.py:747\u001b[0m, in \u001b[0;36mHTTPRedirectHandler.http_error_302\u001b[0;34m(self, req, fp, code, msg, headers)\u001b[0m\n\u001b[1;32m    744\u001b[0m fp\u001b[38;5;241m.\u001b[39mread()\n\u001b[1;32m    745\u001b[0m fp\u001b[38;5;241m.\u001b[39mclose()\n\u001b[0;32m--> 747\u001b[0m \u001b[38;5;28;01mreturn\u001b[39;00m \u001b[38;5;28;43mself\u001b[39;49m\u001b[38;5;241;43m.\u001b[39;49m\u001b[43mparent\u001b[49m\u001b[38;5;241;43m.\u001b[39;49m\u001b[43mopen\u001b[49m\u001b[43m(\u001b[49m\u001b[43mnew\u001b[49m\u001b[43m,\u001b[49m\u001b[43m \u001b[49m\u001b[43mtimeout\u001b[49m\u001b[38;5;241;43m=\u001b[39;49m\u001b[43mreq\u001b[49m\u001b[38;5;241;43m.\u001b[39;49m\u001b[43mtimeout\u001b[49m\u001b[43m)\u001b[49m\n",
      "File \u001b[0;32m~/anaconda3/lib/python3.9/urllib/request.py:523\u001b[0m, in \u001b[0;36mOpenerDirector.open\u001b[0;34m(self, fullurl, data, timeout)\u001b[0m\n\u001b[1;32m    521\u001b[0m \u001b[38;5;28;01mfor\u001b[39;00m processor \u001b[38;5;129;01min\u001b[39;00m \u001b[38;5;28mself\u001b[39m\u001b[38;5;241m.\u001b[39mprocess_response\u001b[38;5;241m.\u001b[39mget(protocol, []):\n\u001b[1;32m    522\u001b[0m     meth \u001b[38;5;241m=\u001b[39m \u001b[38;5;28mgetattr\u001b[39m(processor, meth_name)\n\u001b[0;32m--> 523\u001b[0m     response \u001b[38;5;241m=\u001b[39m \u001b[43mmeth\u001b[49m\u001b[43m(\u001b[49m\u001b[43mreq\u001b[49m\u001b[43m,\u001b[49m\u001b[43m \u001b[49m\u001b[43mresponse\u001b[49m\u001b[43m)\u001b[49m\n\u001b[1;32m    525\u001b[0m \u001b[38;5;28;01mreturn\u001b[39;00m response\n",
      "File \u001b[0;32m~/anaconda3/lib/python3.9/urllib/request.py:632\u001b[0m, in \u001b[0;36mHTTPErrorProcessor.http_response\u001b[0;34m(self, request, response)\u001b[0m\n\u001b[1;32m    629\u001b[0m \u001b[38;5;66;03m# According to RFC 2616, \"2xx\" code indicates that the client's\u001b[39;00m\n\u001b[1;32m    630\u001b[0m \u001b[38;5;66;03m# request was successfully received, understood, and accepted.\u001b[39;00m\n\u001b[1;32m    631\u001b[0m \u001b[38;5;28;01mif\u001b[39;00m \u001b[38;5;129;01mnot\u001b[39;00m (\u001b[38;5;241m200\u001b[39m \u001b[38;5;241m<\u001b[39m\u001b[38;5;241m=\u001b[39m code \u001b[38;5;241m<\u001b[39m \u001b[38;5;241m300\u001b[39m):\n\u001b[0;32m--> 632\u001b[0m     response \u001b[38;5;241m=\u001b[39m \u001b[38;5;28;43mself\u001b[39;49m\u001b[38;5;241;43m.\u001b[39;49m\u001b[43mparent\u001b[49m\u001b[38;5;241;43m.\u001b[39;49m\u001b[43merror\u001b[49m\u001b[43m(\u001b[49m\n\u001b[1;32m    633\u001b[0m \u001b[43m        \u001b[49m\u001b[38;5;124;43m'\u001b[39;49m\u001b[38;5;124;43mhttp\u001b[39;49m\u001b[38;5;124;43m'\u001b[39;49m\u001b[43m,\u001b[49m\u001b[43m \u001b[49m\u001b[43mrequest\u001b[49m\u001b[43m,\u001b[49m\u001b[43m \u001b[49m\u001b[43mresponse\u001b[49m\u001b[43m,\u001b[49m\u001b[43m \u001b[49m\u001b[43mcode\u001b[49m\u001b[43m,\u001b[49m\u001b[43m \u001b[49m\u001b[43mmsg\u001b[49m\u001b[43m,\u001b[49m\u001b[43m \u001b[49m\u001b[43mhdrs\u001b[49m\u001b[43m)\u001b[49m\n\u001b[1;32m    635\u001b[0m \u001b[38;5;28;01mreturn\u001b[39;00m response\n",
      "File \u001b[0;32m~/anaconda3/lib/python3.9/urllib/request.py:561\u001b[0m, in \u001b[0;36mOpenerDirector.error\u001b[0;34m(self, proto, *args)\u001b[0m\n\u001b[1;32m    559\u001b[0m \u001b[38;5;28;01mif\u001b[39;00m http_err:\n\u001b[1;32m    560\u001b[0m     args \u001b[38;5;241m=\u001b[39m (\u001b[38;5;28mdict\u001b[39m, \u001b[38;5;124m'\u001b[39m\u001b[38;5;124mdefault\u001b[39m\u001b[38;5;124m'\u001b[39m, \u001b[38;5;124m'\u001b[39m\u001b[38;5;124mhttp_error_default\u001b[39m\u001b[38;5;124m'\u001b[39m) \u001b[38;5;241m+\u001b[39m orig_args\n\u001b[0;32m--> 561\u001b[0m     \u001b[38;5;28;01mreturn\u001b[39;00m \u001b[38;5;28;43mself\u001b[39;49m\u001b[38;5;241;43m.\u001b[39;49m\u001b[43m_call_chain\u001b[49m\u001b[43m(\u001b[49m\u001b[38;5;241;43m*\u001b[39;49m\u001b[43margs\u001b[49m\u001b[43m)\u001b[49m\n",
      "File \u001b[0;32m~/anaconda3/lib/python3.9/urllib/request.py:494\u001b[0m, in \u001b[0;36mOpenerDirector._call_chain\u001b[0;34m(self, chain, kind, meth_name, *args)\u001b[0m\n\u001b[1;32m    492\u001b[0m \u001b[38;5;28;01mfor\u001b[39;00m handler \u001b[38;5;129;01min\u001b[39;00m handlers:\n\u001b[1;32m    493\u001b[0m     func \u001b[38;5;241m=\u001b[39m \u001b[38;5;28mgetattr\u001b[39m(handler, meth_name)\n\u001b[0;32m--> 494\u001b[0m     result \u001b[38;5;241m=\u001b[39m \u001b[43mfunc\u001b[49m\u001b[43m(\u001b[49m\u001b[38;5;241;43m*\u001b[39;49m\u001b[43margs\u001b[49m\u001b[43m)\u001b[49m\n\u001b[1;32m    495\u001b[0m     \u001b[38;5;28;01mif\u001b[39;00m result \u001b[38;5;129;01mis\u001b[39;00m \u001b[38;5;129;01mnot\u001b[39;00m \u001b[38;5;28;01mNone\u001b[39;00m:\n\u001b[1;32m    496\u001b[0m         \u001b[38;5;28;01mreturn\u001b[39;00m result\n",
      "File \u001b[0;32m~/anaconda3/lib/python3.9/urllib/request.py:641\u001b[0m, in \u001b[0;36mHTTPDefaultErrorHandler.http_error_default\u001b[0;34m(self, req, fp, code, msg, hdrs)\u001b[0m\n\u001b[1;32m    640\u001b[0m \u001b[38;5;28;01mdef\u001b[39;00m \u001b[38;5;21mhttp_error_default\u001b[39m(\u001b[38;5;28mself\u001b[39m, req, fp, code, msg, hdrs):\n\u001b[0;32m--> 641\u001b[0m     \u001b[38;5;28;01mraise\u001b[39;00m HTTPError(req\u001b[38;5;241m.\u001b[39mfull_url, code, msg, hdrs, fp)\n",
      "\u001b[0;31mHTTPError\u001b[0m: HTTP Error 404: "
     ]
    }
   ],
   "source": [
    " #task 1.4\n",
    "import urllib.request\n",
    " u = urllib.request.urlopen('http://ctabustracker.com/bustime/map/getStopPredictions.jsp?stop=14791&route=22')\n",
    "from xml.etree.ElementTree import parse\n",
    " doc = parse(u)\n",
    "for pt in doc.findall('.//pt'):\n",
    "        print(pt.text)\n"
   ]
  },
  {
   "cell_type": "code",
   "execution_count": 24,
   "id": "dee856ec",
   "metadata": {},
   "outputs": [
    {
     "name": "stdout",
     "output_type": "stream",
     "text": [
      "1 60.0\n",
      "2 36.0\n",
      "3 21.6\n",
      "4 12.96\n",
      "5 7.776\n",
      "6 4.6656\n",
      "7 2.7994\n",
      "8 1.6796\n",
      "9 1.0078\n",
      "10 0.6047\n"
     ]
    }
   ],
   "source": [
    "#task 1.5\n",
    "height = 100 * 3 / 5\n",
    "number_of_bounces = 1\n",
    "while number_of_bounces < 11:\n",
    "    print(number_of_bounces, round(height, ndigits = 4))\n",
    "    height = 3 / 5 * height\n",
    "    round(height, ndigits = 4)\n",
    "    number_of_bounces = number_of_bounces + 1\n",
    "\n",
    "    "
   ]
  },
  {
   "cell_type": "code",
   "execution_count": 27,
   "id": "8c287544",
   "metadata": {},
   "outputs": [
    {
     "name": "stdout",
     "output_type": "stream",
     "text": [
      "1 1 0.00011\n",
      "2 2 0.00022\n",
      "3 4 0.00044\n",
      "4 8 0.00088\n",
      "5 16 0.00176\n",
      "6 32 0.00352\n",
      "7 64 0.00704\n",
      "8 128 0.01408\n",
      "9 256 0.02816\n",
      "10 512 0.05632\n",
      "11 1024 0.11264\n",
      "12 2048 0.22528\n",
      "13 4096 0.45056\n",
      "14 8192 0.90112\n",
      "15 16384 1.80224\n",
      "16 32768 3.60448\n",
      "17 65536 7.20896\n",
      "18 131072 14.41792\n",
      "19 262144 28.83584\n",
      "20 524288 57.67168\n",
      "21 1048576 115.34336\n",
      "22 2097152 230.68672\n",
      "Number of days 23\n",
      "Number of bills 4194304\n",
      "Final height 461.37344\n"
     ]
    }
   ],
   "source": [
    "#task 1.6\n",
    "bill_thickness = 0.11 * 0.001    # Meters (0.11 mm)\n",
    "sears_height   = 442             # Height (meters)\n",
    "num_bills      = 1\n",
    "day            = 1\n",
    "\n",
    "while num_bills * bill_thickness < sears_height:\n",
    "    print(day, num_bills, num_bills * bill_thickness)\n",
    "    day = day + 1\n",
    "    num_bills = num_bills * 2\n",
    "\n",
    "print('Number of days', day)\n",
    "print('Number of bills', num_bills)\n",
    "print('Final height', num_bills * bill_thickness)\n",
    "#ошибка в написании. Нужно day, а не days\n"
   ]
  },
  {
   "cell_type": "code",
   "execution_count": 28,
   "id": "0a2b1134",
   "metadata": {},
   "outputs": [
    {
     "name": "stdout",
     "output_type": "stream",
     "text": [
      "Total paid 966279.5999999957\n"
     ]
    }
   ],
   "source": [
    "#task 1.7\n",
    "principal = 500000.0\n",
    "rate = 0.05\n",
    "payment = 2684.11\n",
    "total_paid = 0.0\n",
    "\n",
    "while principal > 0:\n",
    "    principal = principal * (1+rate/12) - payment\n",
    "    total_paid = total_paid + payment\n",
    "\n",
    "print('Total paid', total_paid)"
   ]
  },
  {
   "cell_type": "code",
   "execution_count": 9,
   "id": "e6a3d4cb",
   "metadata": {},
   "outputs": [
    {
     "name": "stdout",
     "output_type": "stream",
     "text": [
      "Total paid 929965.62\n",
      "Months 342\n"
     ]
    }
   ],
   "source": [
    "#task 1.8\n",
    "principal = 500000.0\n",
    "rate = 0.05\n",
    "total_paid = 0.0\n",
    "month = 0\n",
    "while principal > 0:\n",
    "    \n",
    "    if month < 12:\n",
    "        payment = 2684.11 + (1000.00)\n",
    "    else:\n",
    "        payment = 2684.11\n",
    "        \n",
    "    principal = principal * (1+rate/12) - payment\n",
    "    total_paid = total_paid + payment\n",
    "    month = month + 1\n",
    "\n",
    "print('Total paid', round(total_paid, ndigits = 4))\n",
    "print('Months', month)"
   ]
  },
  {
   "cell_type": "code",
   "execution_count": 10,
   "id": "8acc7b9c",
   "metadata": {},
   "outputs": [
    {
     "name": "stdout",
     "output_type": "stream",
     "text": [
      "Total paid 880074.1\n",
      "Months 310\n"
     ]
    }
   ],
   "source": [
    "#task 1.9\n",
    "principal = 500000.0\n",
    "rate = 0.05\n",
    "total_paid = 0.0\n",
    "month = 0\n",
    "extra_payment_start_month = 61\n",
    "extra_payment_end_month = 108\n",
    "extra_payment = 1000\n",
    "\n",
    "while principal > 0:\n",
    "    \n",
    "    if month <= extra_payment_end_month and month >= extra_payment_start_month:\n",
    "        payment = 2684.11 + extra_payment\n",
    "    else:\n",
    "        payment = 2684.11\n",
    "        \n",
    "    principal = principal * (1+rate/12) - payment\n",
    "    total_paid = total_paid + payment\n",
    "    month = month + 1\n",
    "\n",
    "print('Total paid', round(total_paid, ndigits = 4))\n",
    "print('Months', month)"
   ]
  },
  {
   "cell_type": "code",
   "execution_count": 26,
   "id": "2cbcc2bf",
   "metadata": {},
   "outputs": [
    {
     "name": "stdout",
     "output_type": "stream",
     "text": [
      "1 2684.11 499399.22\n",
      "2 5368.22 498795.94\n",
      "3 8052.33 498190.15\n",
      "4 10736.44 497581.83\n",
      "5 13420.55 496970.98\n",
      "6 16104.66 496357.58\n",
      "7 18788.77 495741.63\n",
      "8 21472.88 495123.11\n",
      "9 24156.99 494502.01\n",
      "10 26841.1 493878.33\n",
      "11 29525.21 493252.04\n",
      "12 32209.32 492623.15\n",
      "13 34893.43 491991.64\n",
      "14 37577.54 491357.49\n",
      "15 40261.65 490720.7\n",
      "16 42945.76 490081.26\n",
      "17 45629.87 489439.16\n",
      "18 48313.98 488794.38\n",
      "19 50998.09 488146.91\n",
      "20 53682.2 487496.75\n",
      "21 56366.31 486843.87\n",
      "22 59050.42 486188.28\n",
      "23 61734.53 485529.96\n",
      "24 64418.64 484868.89\n",
      "25 67102.75 484205.06\n",
      "26 69786.86 483538.47\n",
      "27 72470.97 482869.11\n",
      "28 75155.08 482196.95\n",
      "29 77839.19 481522.0\n",
      "30 80523.3 480844.23\n",
      "31 83207.41 480163.64\n",
      "32 85891.52 479480.21\n",
      "33 88575.63 478793.93\n",
      "34 91259.74 478104.8\n",
      "35 93943.85 477412.79\n",
      "36 96627.96 476717.9\n",
      "37 99312.07 476020.11\n",
      "38 101996.18 475319.42\n",
      "39 104680.29 474615.81\n",
      "40 107364.4 473909.27\n",
      "41 110048.51 473199.78\n",
      "42 112732.62 472487.33\n",
      "43 115416.73 471771.92\n",
      "44 118100.84 471053.53\n",
      "45 120784.95 470332.14\n",
      "46 123469.06 469607.75\n",
      "47 126153.17 468880.34\n",
      "48 128837.28 468149.89\n",
      "49 131521.39 467416.41\n",
      "50 134205.5 466679.87\n",
      "51 136889.61 465940.26\n",
      "52 139573.72 465197.56\n",
      "53 142257.83 464451.78\n",
      "54 144941.94 463702.88\n",
      "55 147626.05 462950.87\n",
      "56 150310.16 462195.72\n",
      "57 152994.27 461437.43\n",
      "58 155678.38 460675.97\n",
      "59 158362.49 459911.34\n",
      "60 161046.6 459143.53\n",
      "61 163730.71 458372.52\n",
      "62 167414.82 456598.3\n",
      "63 171098.93 454816.68\n",
      "64 174783.04 453027.64\n",
      "65 178467.15 451231.14\n",
      "66 182151.26 449427.16\n",
      "67 185835.37 447615.67\n",
      "68 189519.48 445796.62\n",
      "69 193203.59 443970.0\n",
      "70 196887.7 442135.76\n",
      "71 200571.81 440293.88\n",
      "72 204255.92 438444.33\n",
      "73 207940.03 436587.07\n",
      "74 211624.14 434722.08\n",
      "75 215308.25 432849.31\n",
      "76 218992.36 430968.74\n",
      "77 222676.47 429080.33\n",
      "78 226360.58 427184.06\n",
      "79 230044.69 425279.88\n",
      "80 233728.8 423367.77\n",
      "81 237412.91 421447.69\n",
      "82 241097.02 419519.61\n",
      "83 244781.13 417583.5\n",
      "84 248465.24 415639.32\n",
      "85 252149.35 413687.04\n",
      "86 255833.46 411726.63\n",
      "87 259517.57 409758.05\n",
      "88 263201.68 407781.26\n",
      "89 266885.79 405796.24\n",
      "90 270569.9 403802.95\n",
      "91 274254.01 401801.35\n",
      "92 277938.12 399791.41\n",
      "93 281622.23 397773.1\n",
      "94 285306.34 395746.38\n",
      "95 288990.45 393711.21\n",
      "96 292674.56 391667.56\n",
      "97 296358.67 389615.4\n",
      "98 300042.78 387554.69\n",
      "99 303726.89 385485.39\n",
      "100 307411.0 383407.47\n",
      "101 311095.11 381320.89\n",
      "102 314779.22 379225.62\n",
      "103 318463.33 377121.62\n",
      "104 322147.44 375008.85\n",
      "105 325831.55 372887.27\n",
      "106 329515.66 370756.86\n",
      "107 333199.77 368617.57\n",
      "108 336883.88 366469.37\n",
      "109 340567.99 364312.21\n",
      "110 343252.1 363146.07\n",
      "111 345936.21 361975.07\n",
      "112 348620.32 360799.19\n",
      "113 351304.43 359618.41\n",
      "114 353988.54 358432.71\n",
      "115 356672.65 357242.07\n",
      "116 359356.76 356046.47\n",
      "117 362040.87 354845.88\n",
      "118 364724.98 353640.3\n",
      "119 367409.09 352429.69\n",
      "120 370093.2 351214.04\n",
      "121 372777.31 349993.32\n",
      "122 375461.42 348767.51\n",
      "123 378145.53 347536.6\n",
      "124 380829.64 346300.56\n",
      "125 383513.75 345059.37\n",
      "126 386197.86 343813.01\n",
      "127 388881.97 342561.45\n",
      "128 391566.08 341304.68\n",
      "129 394250.19 340042.67\n",
      "130 396934.3 338775.41\n",
      "131 399618.41 337502.86\n",
      "132 402302.52 336225.01\n",
      "133 404986.63 334941.84\n",
      "134 407670.74 333653.32\n",
      "135 410354.85 332359.43\n",
      "136 413038.96 331060.16\n",
      "137 415723.07 329755.46\n",
      "138 418407.18 328445.33\n",
      "139 421091.29 327129.75\n",
      "140 423775.4 325808.68\n",
      "141 426459.51 324482.1\n",
      "142 429143.62 323150.0\n",
      "143 431827.73 321812.35\n",
      "144 434511.84 320469.12\n",
      "145 437195.95 319120.3\n",
      "146 439880.06 317765.86\n",
      "147 442564.17 316405.77\n",
      "148 445248.28 315040.02\n",
      "149 447932.39 313668.58\n",
      "150 450616.5 312291.42\n",
      "151 453300.61 310908.53\n",
      "152 455984.72 309519.87\n",
      "153 458668.83 308125.42\n",
      "154 461352.94 306725.17\n",
      "155 464037.05 305319.08\n",
      "156 466721.16 303907.13\n",
      "157 469405.27 302489.3\n",
      "158 472089.38 301065.57\n",
      "159 474773.49 299635.9\n",
      "160 477457.6 298200.27\n",
      "161 480141.71 296758.66\n",
      "162 482825.82 295311.04\n",
      "163 485509.93 293857.4\n",
      "164 488194.04 292397.69\n",
      "165 490878.15 290931.91\n",
      "166 493562.26 289460.01\n",
      "167 496246.37 287981.99\n",
      "168 498930.48 286497.8\n",
      "169 501614.59 285007.43\n",
      "170 504298.7 283510.85\n",
      "171 506982.81 282008.04\n",
      "172 509666.92 280498.96\n",
      "173 512351.03 278983.6\n",
      "174 515035.14 277461.92\n",
      "175 517719.25 275933.9\n",
      "176 520403.36 274399.52\n",
      "177 523087.47 272858.74\n",
      "178 525771.58 271311.54\n",
      "179 528455.69 269757.89\n",
      "180 531139.8 268197.77\n",
      "181 533823.91 266631.15\n",
      "182 536508.02 265058.01\n",
      "183 539192.13 263478.31\n",
      "184 541876.24 261892.02\n",
      "185 544560.35 260299.13\n",
      "186 547244.46 258699.6\n",
      "187 549928.57 257093.4\n",
      "188 552612.68 255480.52\n",
      "189 555296.79 253860.91\n",
      "190 557980.9 252234.55\n",
      "191 560665.01 250601.42\n",
      "192 563349.12 248961.48\n",
      "193 566033.23 247314.71\n",
      "194 568717.34 245661.08\n",
      "195 571401.45 244000.56\n",
      "196 574085.56 242333.12\n",
      "197 576769.67 240658.73\n",
      "198 579453.78 238977.36\n",
      "199 582137.89 237288.99\n",
      "200 584822.0 235593.59\n",
      "201 587506.11 233891.12\n",
      "202 590190.22 232181.55\n",
      "203 592874.33 230464.86\n",
      "204 595558.44 228741.03\n",
      "205 598242.55 227010.0\n",
      "206 600926.66 225271.77\n",
      "207 603610.77 223526.29\n",
      "208 606294.88 221773.54\n",
      "209 608978.99 220013.49\n",
      "210 611663.1 218246.1\n",
      "211 614347.21 216471.35\n",
      "212 617031.32 214689.2\n",
      "213 619715.43 212899.63\n",
      "214 622399.54 211102.6\n",
      "215 625083.65 209298.09\n",
      "216 627767.76 207486.05\n",
      "217 630451.87 205666.47\n",
      "218 633135.98 203839.3\n",
      "219 635820.09 202004.52\n",
      "220 638504.2 200162.1\n",
      "221 641188.31 198311.99\n",
      "222 643872.42 196454.18\n",
      "223 646556.53 194588.63\n",
      "224 649240.64 192715.31\n",
      "225 651924.75 190834.18\n",
      "226 654608.86 188945.21\n",
      "227 657292.97 187048.37\n",
      "228 659977.08 185143.63\n",
      "229 662661.19 183230.95\n",
      "230 665345.3 181310.31\n",
      "231 668029.41 179381.66\n",
      "232 670713.52 177444.97\n",
      "233 673397.63 175500.21\n",
      "234 676081.74 173547.35\n",
      "235 678765.85 171586.36\n",
      "236 681449.96 169617.19\n",
      "237 684134.07 167639.82\n",
      "238 686818.18 165654.21\n",
      "239 689502.29 163660.33\n",
      "240 692186.4 161658.13\n",
      "241 694870.51 159647.6\n",
      "242 697554.62 157628.69\n",
      "243 700238.73 155601.36\n",
      "244 702922.84 153565.59\n",
      "245 705606.95 151521.34\n",
      "246 708291.06 149468.57\n",
      "247 710975.17 147407.24\n",
      "248 713659.28 145337.33\n",
      "249 716343.39 143258.79\n",
      "250 719027.5 141171.59\n",
      "251 721711.61 139075.7\n",
      "252 724395.72 136971.07\n",
      "253 727079.83 134857.67\n",
      "254 729763.94 132735.47\n",
      "255 732448.05 130604.43\n",
      "256 735132.16 128464.5\n",
      "257 737816.27 126315.66\n",
      "258 740500.38 124157.86\n",
      "259 743184.49 121991.08\n",
      "260 745868.6 119815.27\n",
      "261 748552.71 117630.39\n",
      "262 751236.82 115436.4\n",
      "263 753920.93 113233.28\n",
      "264 756605.04 111020.97\n",
      "265 759289.15 108799.45\n",
      "266 761973.26 106568.67\n",
      "267 764657.37 104328.6\n",
      "268 767341.48 102079.19\n",
      "269 770025.59 99820.41\n",
      "270 772709.7 97552.22\n",
      "271 775393.81 95274.58\n",
      "272 778077.92 92987.44\n",
      "273 780762.03 90690.78\n",
      "274 783446.14 88384.55\n",
      "275 786130.25 86068.71\n",
      "276 788814.36 83743.22\n",
      "277 791498.47 81408.04\n",
      "278 794182.58 79063.13\n",
      "279 796866.69 76708.45\n",
      "280 799550.8 74343.96\n",
      "281 802234.91 71969.61\n",
      "282 804919.02 69585.38\n",
      "283 807603.13 67191.2\n",
      "284 810287.24 64787.06\n",
      "285 812971.35 62372.89\n",
      "286 815655.46 59948.67\n",
      "287 818339.57 57514.35\n",
      "288 821023.68 55069.88\n",
      "289 823707.79 52615.23\n",
      "290 826391.9 50150.35\n",
      "291 829076.01 47675.2\n",
      "292 831760.12 45189.74\n",
      "293 834444.23 42693.92\n",
      "294 837128.34 40187.7\n",
      "295 839812.45 37671.04\n",
      "296 842496.56 35143.89\n",
      "297 845180.67 32606.21\n",
      "298 847864.78 30057.96\n",
      "299 850548.89 27499.09\n",
      "300 853233.0 24929.56\n",
      "301 855917.11 22349.32\n",
      "302 858601.22 19758.34\n",
      "303 861285.33 17156.55\n",
      "304 863969.44 14543.93\n",
      "305 866653.55 11920.42\n",
      "306 869337.66 9285.98\n",
      "307 872021.77 6640.56\n",
      "308 874705.88 3984.12\n",
      "309 877389.99 1316.61\n",
      "310 880074.1 -1362.02\n",
      "Total paid 880074.1\n",
      "Months 310\n"
     ]
    }
   ],
   "source": [
    "#task 1.10\n",
    "\n",
    "principal = 500000.0\n",
    "rate = 0.05\n",
    "total_paid = 0.0\n",
    "month = 0\n",
    "extra_payment_start_month = 61\n",
    "extra_payment_end_month = 108\n",
    "extra_payment = 1000\n",
    "\n",
    "while principal > 0:\n",
    "    \n",
    "    if month <= extra_payment_end_month and month >= extra_payment_start_month:\n",
    "        payment = 2684.11 + extra_payment\n",
    "    else:\n",
    "        payment = 2684.11\n",
    "        \n",
    "    principal = principal * (1+rate/12) - payment\n",
    "    \n",
    "    total_paid = total_paid + payment\n",
    "    month = month + 1\n",
    "    print(month, round(total_paid, ndigits = 4), round(principal, ndigits = 2))\n",
    "\n",
    "print('Total paid', round(total_paid, ndigits = 4))\n",
    "print('Months', month)"
   ]
  },
  {
   "cell_type": "code",
   "execution_count": 42,
   "id": "dc9e987b",
   "metadata": {},
   "outputs": [
    {
     "name": "stdout",
     "output_type": "stream",
     "text": [
      "1 2684.11 499399.22\n",
      "2 5368.22 498795.94\n",
      "3 8052.33 498190.15\n",
      "4 10736.44 497581.83\n",
      "5 13420.55 496970.98\n",
      "6 16104.66 496357.58\n",
      "7 18788.77 495741.63\n",
      "8 21472.88 495123.11\n",
      "9 24156.99 494502.01\n",
      "10 26841.1 493878.33\n",
      "11 29525.21 493252.04\n",
      "12 32209.32 492623.15\n",
      "13 34893.43 491991.64\n",
      "14 37577.54 491357.49\n",
      "15 40261.65 490720.7\n",
      "16 42945.76 490081.26\n",
      "17 45629.87 489439.16\n",
      "18 48313.98 488794.38\n",
      "19 50998.09 488146.91\n",
      "20 53682.2 487496.75\n",
      "21 56366.31 486843.87\n",
      "22 59050.42 486188.28\n",
      "23 61734.53 485529.96\n",
      "24 64418.64 484868.89\n",
      "25 67102.75 484205.06\n",
      "26 69786.86 483538.47\n",
      "27 72470.97 482869.11\n",
      "28 75155.08 482196.95\n",
      "29 77839.19 481522.0\n",
      "30 80523.3 480844.23\n",
      "31 83207.41 480163.64\n",
      "32 85891.52 479480.21\n",
      "33 88575.63 478793.93\n",
      "34 91259.74 478104.8\n",
      "35 93943.85 477412.79\n",
      "36 96627.96 476717.9\n",
      "37 99312.07 476020.11\n",
      "38 101996.18 475319.42\n",
      "39 104680.29 474615.81\n",
      "40 107364.4 473909.27\n",
      "41 110048.51 473199.78\n",
      "42 112732.62 472487.33\n",
      "43 115416.73 471771.92\n",
      "44 118100.84 471053.53\n",
      "45 120784.95 470332.14\n",
      "46 123469.06 469607.75\n",
      "47 126153.17 468880.34\n",
      "48 128837.28 468149.89\n",
      "49 131521.39 467416.41\n",
      "50 134205.5 466679.87\n",
      "51 136889.61 465940.26\n",
      "52 139573.72 465197.56\n",
      "53 142257.83 464451.78\n",
      "54 144941.94 463702.88\n",
      "55 147626.05 462950.87\n",
      "56 150310.16 462195.72\n",
      "57 152994.27 461437.43\n",
      "58 155678.38 460675.97\n",
      "59 158362.49 459911.34\n",
      "60 161046.6 459143.53\n",
      "61 163730.71 458372.52\n",
      "62 167414.82 456598.3\n",
      "63 171098.93 454816.68\n",
      "64 174783.04 453027.64\n",
      "65 178467.15 451231.14\n",
      "66 182151.26 449427.16\n",
      "67 185835.37 447615.67\n",
      "68 189519.48 445796.62\n",
      "69 193203.59 443970.0\n",
      "70 196887.7 442135.76\n",
      "71 200571.81 440293.88\n",
      "72 204255.92 438444.33\n",
      "73 207940.03 436587.07\n",
      "74 211624.14 434722.08\n",
      "75 215308.25 432849.31\n",
      "76 218992.36 430968.74\n",
      "77 222676.47 429080.33\n",
      "78 226360.58 427184.06\n",
      "79 230044.69 425279.88\n",
      "80 233728.8 423367.77\n",
      "81 237412.91 421447.69\n",
      "82 241097.02 419519.61\n",
      "83 244781.13 417583.5\n",
      "84 248465.24 415639.32\n",
      "85 252149.35 413687.04\n",
      "86 255833.46 411726.63\n",
      "87 259517.57 409758.05\n",
      "88 263201.68 407781.26\n",
      "89 266885.79 405796.24\n",
      "90 270569.9 403802.95\n",
      "91 274254.01 401801.35\n",
      "92 277938.12 399791.41\n",
      "93 281622.23 397773.1\n",
      "94 285306.34 395746.38\n",
      "95 288990.45 393711.21\n",
      "96 292674.56 391667.56\n",
      "97 296358.67 389615.4\n",
      "98 300042.78 387554.69\n",
      "99 303726.89 385485.39\n",
      "100 307411.0 383407.47\n",
      "101 311095.11 381320.89\n",
      "102 314779.22 379225.62\n",
      "103 318463.33 377121.62\n",
      "104 322147.44 375008.85\n",
      "105 325831.55 372887.27\n",
      "106 329515.66 370756.86\n",
      "107 333199.77 368617.57\n",
      "108 336883.88 366469.37\n",
      "109 340567.99 364312.21\n",
      "110 343252.1 363146.07\n",
      "111 345936.21 361975.07\n",
      "112 348620.32 360799.19\n",
      "113 351304.43 359618.41\n",
      "114 353988.54 358432.71\n",
      "115 356672.65 357242.07\n",
      "116 359356.76 356046.47\n",
      "117 362040.87 354845.88\n",
      "118 364724.98 353640.3\n",
      "119 367409.09 352429.69\n",
      "120 370093.2 351214.04\n",
      "121 372777.31 349993.32\n",
      "122 375461.42 348767.51\n",
      "123 378145.53 347536.6\n",
      "124 380829.64 346300.56\n",
      "125 383513.75 345059.37\n",
      "126 386197.86 343813.01\n",
      "127 388881.97 342561.45\n",
      "128 391566.08 341304.68\n",
      "129 394250.19 340042.67\n",
      "130 396934.3 338775.41\n",
      "131 399618.41 337502.86\n",
      "132 402302.52 336225.01\n",
      "133 404986.63 334941.84\n",
      "134 407670.74 333653.32\n",
      "135 410354.85 332359.43\n",
      "136 413038.96 331060.16\n",
      "137 415723.07 329755.46\n",
      "138 418407.18 328445.33\n",
      "139 421091.29 327129.75\n",
      "140 423775.4 325808.68\n",
      "141 426459.51 324482.1\n",
      "142 429143.62 323150.0\n",
      "143 431827.73 321812.35\n",
      "144 434511.84 320469.12\n",
      "145 437195.95 319120.3\n",
      "146 439880.06 317765.86\n",
      "147 442564.17 316405.77\n",
      "148 445248.28 315040.02\n",
      "149 447932.39 313668.58\n",
      "150 450616.5 312291.42\n",
      "151 453300.61 310908.53\n",
      "152 455984.72 309519.87\n",
      "153 458668.83 308125.42\n",
      "154 461352.94 306725.17\n",
      "155 464037.05 305319.08\n",
      "156 466721.16 303907.13\n",
      "157 469405.27 302489.3\n",
      "158 472089.38 301065.57\n",
      "159 474773.49 299635.9\n",
      "160 477457.6 298200.27\n",
      "161 480141.71 296758.66\n",
      "162 482825.82 295311.04\n",
      "163 485509.93 293857.4\n",
      "164 488194.04 292397.69\n",
      "165 490878.15 290931.91\n",
      "166 493562.26 289460.01\n",
      "167 496246.37 287981.99\n",
      "168 498930.48 286497.8\n",
      "169 501614.59 285007.43\n",
      "170 504298.7 283510.85\n",
      "171 506982.81 282008.04\n",
      "172 509666.92 280498.96\n",
      "173 512351.03 278983.6\n",
      "174 515035.14 277461.92\n",
      "175 517719.25 275933.9\n",
      "176 520403.36 274399.52\n",
      "177 523087.47 272858.74\n",
      "178 525771.58 271311.54\n",
      "179 528455.69 269757.89\n",
      "180 531139.8 268197.77\n",
      "181 533823.91 266631.15\n",
      "182 536508.02 265058.01\n",
      "183 539192.13 263478.31\n",
      "184 541876.24 261892.02\n",
      "185 544560.35 260299.13\n",
      "186 547244.46 258699.6\n",
      "187 549928.57 257093.4\n",
      "188 552612.68 255480.52\n",
      "189 555296.79 253860.91\n",
      "190 557980.9 252234.55\n",
      "191 560665.01 250601.42\n",
      "192 563349.12 248961.48\n",
      "193 566033.23 247314.71\n",
      "194 568717.34 245661.08\n",
      "195 571401.45 244000.56\n",
      "196 574085.56 242333.12\n",
      "197 576769.67 240658.73\n",
      "198 579453.78 238977.36\n",
      "199 582137.89 237288.99\n",
      "200 584822.0 235593.59\n",
      "201 587506.11 233891.12\n",
      "202 590190.22 232181.55\n",
      "203 592874.33 230464.86\n",
      "204 595558.44 228741.03\n",
      "205 598242.55 227010.0\n",
      "206 600926.66 225271.77\n",
      "207 603610.77 223526.29\n",
      "208 606294.88 221773.54\n",
      "209 608978.99 220013.49\n",
      "210 611663.1 218246.1\n",
      "211 614347.21 216471.35\n",
      "212 617031.32 214689.2\n",
      "213 619715.43 212899.63\n",
      "214 622399.54 211102.6\n",
      "215 625083.65 209298.09\n",
      "216 627767.76 207486.05\n",
      "217 630451.87 205666.47\n",
      "218 633135.98 203839.3\n",
      "219 635820.09 202004.52\n",
      "220 638504.2 200162.1\n",
      "221 641188.31 198311.99\n",
      "222 643872.42 196454.18\n",
      "223 646556.53 194588.63\n",
      "224 649240.64 192715.31\n",
      "225 651924.75 190834.18\n",
      "226 654608.86 188945.21\n",
      "227 657292.97 187048.37\n",
      "228 659977.08 185143.63\n",
      "229 662661.19 183230.95\n",
      "230 665345.3 181310.31\n",
      "231 668029.41 179381.66\n",
      "232 670713.52 177444.97\n",
      "233 673397.63 175500.21\n",
      "234 676081.74 173547.35\n",
      "235 678765.85 171586.36\n",
      "236 681449.96 169617.19\n",
      "237 684134.07 167639.82\n",
      "238 686818.18 165654.21\n",
      "239 689502.29 163660.33\n",
      "240 692186.4 161658.13\n",
      "241 694870.51 159647.6\n",
      "242 697554.62 157628.69\n",
      "243 700238.73 155601.36\n",
      "244 702922.84 153565.59\n",
      "245 705606.95 151521.34\n",
      "246 708291.06 149468.57\n",
      "247 710975.17 147407.24\n",
      "248 713659.28 145337.33\n",
      "249 716343.39 143258.79\n",
      "250 719027.5 141171.59\n",
      "251 721711.61 139075.7\n",
      "252 724395.72 136971.07\n",
      "253 727079.83 134857.67\n",
      "254 729763.94 132735.47\n",
      "255 732448.05 130604.43\n",
      "256 735132.16 128464.5\n",
      "257 737816.27 126315.66\n",
      "258 740500.38 124157.86\n",
      "259 743184.49 121991.08\n",
      "260 745868.6 119815.27\n",
      "261 748552.71 117630.39\n",
      "262 751236.82 115436.4\n",
      "263 753920.93 113233.28\n",
      "264 756605.04 111020.97\n",
      "265 759289.15 108799.45\n",
      "266 761973.26 106568.67\n",
      "267 764657.37 104328.6\n",
      "268 767341.48 102079.19\n",
      "269 770025.59 99820.41\n",
      "270 772709.7 97552.22\n",
      "271 775393.81 95274.58\n",
      "272 778077.92 92987.44\n",
      "273 780762.03 90690.78\n",
      "274 783446.14 88384.55\n",
      "275 786130.25 86068.71\n",
      "276 788814.36 83743.22\n",
      "277 791498.47 81408.04\n",
      "278 794182.58 79063.13\n",
      "279 796866.69 76708.45\n",
      "280 799550.8 74343.96\n",
      "281 802234.91 71969.61\n",
      "282 804919.02 69585.38\n",
      "283 807603.13 67191.2\n",
      "284 810287.24 64787.06\n",
      "285 812971.35 62372.89\n",
      "286 815655.46 59948.67\n",
      "287 818339.57 57514.35\n",
      "288 821023.68 55069.88\n",
      "289 823707.79 52615.23\n",
      "290 826391.9 50150.35\n",
      "291 829076.01 47675.2\n",
      "292 831760.12 45189.74\n",
      "293 834444.23 42693.92\n",
      "294 837128.34 40187.7\n",
      "295 839812.45 37671.04\n",
      "296 842496.56 35143.89\n",
      "297 845180.67 32606.21\n",
      "298 847864.78 30057.96\n",
      "299 850548.89 27499.09\n",
      "300 853233.0 24929.56\n",
      "301 855917.11 22349.32\n",
      "302 858601.22 19758.34\n",
      "303 861285.33 17156.55\n",
      "304 863969.44 14543.93\n",
      "305 866653.55 11920.42\n",
      "306 869337.66 9285.98\n",
      "307 872021.77 6640.56\n",
      "308 874705.88 3984.12\n",
      "309 877389.99 1316.61\n",
      "310 878712.084 0.0\n",
      "Total paid 878712.084\n",
      "Months 310\n"
     ]
    }
   ],
   "source": [
    "#task 1.11\n",
    "principal = 500000.0\n",
    "rate = 0.05\n",
    "total_paid = 0.0\n",
    "month = 0\n",
    "extra_payment_start_month = 61\n",
    "extra_payment_end_month = 108\n",
    "extra_payment = 1000\n",
    "\n",
    "while principal > 0:\n",
    "    \n",
    "    if month <= extra_payment_end_month and month >= extra_payment_start_month:\n",
    "        payment = 2684.11 + extra_payment\n",
    "    elif principal < payment:\n",
    "        payment = principal * (1+rate/12)\n",
    "    else:\n",
    "        payment = 2684.11\n",
    "        \n",
    "    principal = principal * (1+rate/12) - payment\n",
    "    \n",
    "    total_paid = total_paid + payment\n",
    "    month = month + 1\n",
    "    print(month, round(total_paid, ndigits = 4), round(principal, ndigits = 2))\n",
    "\n",
    "    \n",
    "\n",
    "print('Total paid', round(total_paid, ndigits = 4))\n",
    "print('Months', month)"
   ]
  },
  {
   "cell_type": "code",
   "execution_count": 49,
   "id": "8da56c81",
   "metadata": {},
   "outputs": [
    {
     "data": {
      "text/plain": [
       "True"
      ]
     },
     "execution_count": 49,
     "metadata": {},
     "output_type": "execute_result"
    }
   ],
   "source": [
    "#task 1.12\n",
    "int(\"123\")\n",
    "float(\"1.23\")\n",
    "bool(\"False\")"
   ]
  },
  {
   "cell_type": "code",
   "execution_count": 54,
   "id": "356ddf3e",
   "metadata": {},
   "outputs": [
    {
     "ename": "TypeError",
     "evalue": "'str' object does not support item assignment",
     "output_type": "error",
     "traceback": [
      "\u001b[0;31m---------------------------------------------------------------------------\u001b[0m",
      "\u001b[0;31mTypeError\u001b[0m                                 Traceback (most recent call last)",
      "Input \u001b[0;32mIn [54]\u001b[0m, in \u001b[0;36m<cell line: 8>\u001b[0;34m()\u001b[0m\n\u001b[1;32m      6\u001b[0m symbols[\u001b[38;5;241m-\u001b[39m\u001b[38;5;241m1\u001b[39m]\n\u001b[1;32m      7\u001b[0m symbols[\u001b[38;5;241m-\u001b[39m\u001b[38;5;241m2\u001b[39m]\n\u001b[0;32m----> 8\u001b[0m symbols[\u001b[38;5;241m0\u001b[39m]\u001b[38;5;241m=\u001b[39m\u001b[38;5;124m'\u001b[39m\u001b[38;5;124ma\u001b[39m\u001b[38;5;124m'\u001b[39m\n",
      "\u001b[0;31mTypeError\u001b[0m: 'str' object does not support item assignment"
     ]
    }
   ],
   "source": [
    "#task 1.13\n",
    "symbols = 'AAPL,IBM,MSFT,YHOO,SCO'\n",
    "symbols[0]\n",
    "symbols[1]\n",
    "symbols[2]\n",
    "symbols[-1]\n",
    "symbols[-2]\n",
    "symbols[0]='a'"
   ]
  },
  {
   "cell_type": "code",
   "execution_count": 62,
   "id": "1c43295a",
   "metadata": {},
   "outputs": [
    {
     "data": {
      "text/plain": [
       "'HPQ,AAPL,IBM,MSFT,YHOO,SCO,GOOG'"
      ]
     },
     "execution_count": 62,
     "metadata": {},
     "output_type": "execute_result"
    }
   ],
   "source": [
    "#task 1.14\n",
    "symbols = 'AAPL,IBM,MSFT,YHOO,SCO'\n",
    "symbols = symbols + ',GOOG'\n",
    "symbols = 'HPQ,' + symbols\n",
    "symbols "
   ]
  },
  {
   "cell_type": "code",
   "execution_count": 63,
   "id": "f24b9ebe",
   "metadata": {},
   "outputs": [
    {
     "data": {
      "text/plain": [
       "True"
      ]
     },
     "execution_count": 63,
     "metadata": {},
     "output_type": "execute_result"
    }
   ],
   "source": [
    "#task 1.15\n",
    "symbols = 'HPQ,AAPL,IBM,MSFT,YHOO,SCO,GOOG'\n",
    "'IBM' in symbols "
   ]
  },
  {
   "cell_type": "code",
   "execution_count": 64,
   "id": "bb157955",
   "metadata": {},
   "outputs": [
    {
     "data": {
      "text/plain": [
       "True"
      ]
     },
     "execution_count": 64,
     "metadata": {},
     "output_type": "execute_result"
    }
   ],
   "source": [
    "symbols = 'HPQ,AAPL,IBM,MSFT,YHOO,SCO,GOOG'\n",
    "'AA' in symbols "
   ]
  },
  {
   "cell_type": "code",
   "execution_count": 65,
   "id": "fe51b424",
   "metadata": {},
   "outputs": [
    {
     "data": {
      "text/plain": [
       "False"
      ]
     },
     "execution_count": 65,
     "metadata": {},
     "output_type": "execute_result"
    }
   ],
   "source": [
    "symbols = 'HPQ,AAPL,IBM,MSFT,YHOO,SCO,GOOG'\n",
    "'CAT' in symbols "
   ]
  },
  {
   "cell_type": "code",
   "execution_count": 66,
   "id": "c031c1f7",
   "metadata": {},
   "outputs": [
    {
     "data": {
      "text/plain": [
       "'hpq,aapl,ibm,msft,yhoo,sco,goog'"
      ]
     },
     "execution_count": 66,
     "metadata": {},
     "output_type": "execute_result"
    }
   ],
   "source": [
    "#task 1.16\n",
    "symbols.lower()"
   ]
  },
  {
   "cell_type": "code",
   "execution_count": 67,
   "id": "b4f644a0",
   "metadata": {},
   "outputs": [
    {
     "data": {
      "text/plain": [
       "'HPQ,AAPL,IBM,MSFT,YHOO,SCO,GOOG'"
      ]
     },
     "execution_count": 67,
     "metadata": {},
     "output_type": "execute_result"
    }
   ],
   "source": [
    "symbols"
   ]
  },
  {
   "cell_type": "code",
   "execution_count": 69,
   "id": "0e1c0540",
   "metadata": {},
   "outputs": [
    {
     "data": {
      "text/plain": [
       "'hpq,aapl,ibm,msft,yhoo,sco,goog'"
      ]
     },
     "execution_count": 69,
     "metadata": {},
     "output_type": "execute_result"
    }
   ],
   "source": [
    "lowersyms = symbols.lower()\n",
    "lowersyms"
   ]
  },
  {
   "cell_type": "code",
   "execution_count": 70,
   "id": "6f22e2d1",
   "metadata": {},
   "outputs": [
    {
     "data": {
      "text/plain": [
       "13"
      ]
     },
     "execution_count": 70,
     "metadata": {},
     "output_type": "execute_result"
    }
   ],
   "source": [
    "symbols.find('MSFT')"
   ]
  },
  {
   "cell_type": "code",
   "execution_count": 71,
   "id": "afda48a3",
   "metadata": {},
   "outputs": [
    {
     "data": {
      "text/plain": [
       "'MSFT'"
      ]
     },
     "execution_count": 71,
     "metadata": {},
     "output_type": "execute_result"
    }
   ],
   "source": [
    "symbols[13:17]"
   ]
  },
  {
   "cell_type": "code",
   "execution_count": 72,
   "id": "3ab33f2f",
   "metadata": {},
   "outputs": [
    {
     "data": {
      "text/plain": [
       "'HPQ,AAPL,IBM,MSFT,YHOO,DOA,GOOG'"
      ]
     },
     "execution_count": 72,
     "metadata": {},
     "output_type": "execute_result"
    }
   ],
   "source": [
    "symbols = symbols.replace('SCO', 'DOA')\n",
    "symbols"
   ]
  },
  {
   "cell_type": "code",
   "execution_count": 73,
   "id": "ef4faa0d",
   "metadata": {},
   "outputs": [
    {
     "data": {
      "text/plain": [
       "'IBM'"
      ]
     },
     "execution_count": 73,
     "metadata": {},
     "output_type": "execute_result"
    }
   ],
   "source": [
    "name = ' IBM \\n'\n",
    "name = name.strip()\n",
    "name"
   ]
  },
  {
   "cell_type": "code",
   "execution_count": 75,
   "id": "3006d245",
   "metadata": {},
   "outputs": [
    {
     "data": {
      "text/plain": [
       "'100 shares of IBM at $91.10'"
      ]
     },
     "execution_count": 75,
     "metadata": {},
     "output_type": "execute_result"
    }
   ],
   "source": [
    "#task 1.17\n",
    "name = 'IBM'\n",
    "shares = 100\n",
    "price = 91.1\n",
    "f'{shares} shares of {name} at ${price:0.2f}'"
   ]
  },
  {
   "cell_type": "code",
   "execution_count": 85,
   "id": "ab89b7d7",
   "metadata": {},
   "outputs": [
    {
     "name": "stdout",
     "output_type": "stream",
     "text": [
      "Months: 1, total paid: 2684.11, principal: 499399.22\n",
      "Months: 2, total paid: 5368.22, principal: 498795.94\n",
      "Months: 3, total paid: 8052.33, principal: 498190.15\n",
      "Months: 4, total paid: 10736.44, principal: 497581.83\n",
      "Months: 5, total paid: 13420.55, principal: 496970.98\n",
      "Months: 6, total paid: 16104.66, principal: 496357.58\n",
      "Months: 7, total paid: 18788.77, principal: 495741.63\n",
      "Months: 8, total paid: 21472.88, principal: 495123.11\n",
      "Months: 9, total paid: 24156.99, principal: 494502.01\n",
      "Months: 10, total paid: 26841.1, principal: 493878.33\n",
      "Months: 11, total paid: 29525.21, principal: 493252.04\n",
      "Months: 12, total paid: 32209.32, principal: 492623.15\n",
      "Months: 13, total paid: 34893.43, principal: 491991.64\n",
      "Months: 14, total paid: 37577.54, principal: 491357.49\n",
      "Months: 15, total paid: 40261.65, principal: 490720.7\n",
      "Months: 16, total paid: 42945.76, principal: 490081.26\n",
      "Months: 17, total paid: 45629.87, principal: 489439.16\n",
      "Months: 18, total paid: 48313.98, principal: 488794.38\n",
      "Months: 19, total paid: 50998.09, principal: 488146.91\n",
      "Months: 20, total paid: 53682.2, principal: 487496.75\n",
      "Months: 21, total paid: 56366.31, principal: 486843.87\n",
      "Months: 22, total paid: 59050.42, principal: 486188.28\n",
      "Months: 23, total paid: 61734.53, principal: 485529.96\n",
      "Months: 24, total paid: 64418.64, principal: 484868.89\n",
      "Months: 25, total paid: 67102.75, principal: 484205.06\n",
      "Months: 26, total paid: 69786.86, principal: 483538.47\n",
      "Months: 27, total paid: 72470.97, principal: 482869.11\n",
      "Months: 28, total paid: 75155.08, principal: 482196.95\n",
      "Months: 29, total paid: 77839.19, principal: 481522.0\n",
      "Months: 30, total paid: 80523.3, principal: 480844.23\n",
      "Months: 31, total paid: 83207.41, principal: 480163.64\n",
      "Months: 32, total paid: 85891.52, principal: 479480.21\n",
      "Months: 33, total paid: 88575.63, principal: 478793.93\n",
      "Months: 34, total paid: 91259.74, principal: 478104.8\n",
      "Months: 35, total paid: 93943.85, principal: 477412.79\n",
      "Months: 36, total paid: 96627.96, principal: 476717.9\n",
      "Months: 37, total paid: 99312.07, principal: 476020.11\n",
      "Months: 38, total paid: 101996.18, principal: 475319.42\n",
      "Months: 39, total paid: 104680.29, principal: 474615.81\n",
      "Months: 40, total paid: 107364.4, principal: 473909.27\n",
      "Months: 41, total paid: 110048.51, principal: 473199.78\n",
      "Months: 42, total paid: 112732.62, principal: 472487.33\n",
      "Months: 43, total paid: 115416.73, principal: 471771.92\n",
      "Months: 44, total paid: 118100.84, principal: 471053.53\n",
      "Months: 45, total paid: 120784.95, principal: 470332.14\n",
      "Months: 46, total paid: 123469.06, principal: 469607.75\n",
      "Months: 47, total paid: 126153.17, principal: 468880.34\n",
      "Months: 48, total paid: 128837.28, principal: 468149.89\n",
      "Months: 49, total paid: 131521.39, principal: 467416.41\n",
      "Months: 50, total paid: 134205.5, principal: 466679.87\n",
      "Months: 51, total paid: 136889.61, principal: 465940.26\n",
      "Months: 52, total paid: 139573.72, principal: 465197.56\n",
      "Months: 53, total paid: 142257.83, principal: 464451.78\n",
      "Months: 54, total paid: 144941.94, principal: 463702.88\n",
      "Months: 55, total paid: 147626.05, principal: 462950.87\n",
      "Months: 56, total paid: 150310.16, principal: 462195.72\n",
      "Months: 57, total paid: 152994.27, principal: 461437.43\n",
      "Months: 58, total paid: 155678.38, principal: 460675.97\n",
      "Months: 59, total paid: 158362.49, principal: 459911.34\n",
      "Months: 60, total paid: 161046.6, principal: 459143.53\n",
      "Months: 61, total paid: 163730.71, principal: 458372.52\n",
      "Months: 62, total paid: 167414.82, principal: 456598.3\n",
      "Months: 63, total paid: 171098.93, principal: 454816.68\n",
      "Months: 64, total paid: 174783.04, principal: 453027.64\n",
      "Months: 65, total paid: 178467.15, principal: 451231.14\n",
      "Months: 66, total paid: 182151.26, principal: 449427.16\n",
      "Months: 67, total paid: 185835.37, principal: 447615.67\n",
      "Months: 68, total paid: 189519.48, principal: 445796.62\n",
      "Months: 69, total paid: 193203.59, principal: 443970.0\n",
      "Months: 70, total paid: 196887.7, principal: 442135.76\n",
      "Months: 71, total paid: 200571.81, principal: 440293.88\n",
      "Months: 72, total paid: 204255.92, principal: 438444.33\n",
      "Months: 73, total paid: 207940.03, principal: 436587.07\n",
      "Months: 74, total paid: 211624.14, principal: 434722.08\n",
      "Months: 75, total paid: 215308.25, principal: 432849.31\n",
      "Months: 76, total paid: 218992.36, principal: 430968.74\n",
      "Months: 77, total paid: 222676.47, principal: 429080.33\n",
      "Months: 78, total paid: 226360.58, principal: 427184.06\n",
      "Months: 79, total paid: 230044.69, principal: 425279.88\n",
      "Months: 80, total paid: 233728.8, principal: 423367.77\n",
      "Months: 81, total paid: 237412.91, principal: 421447.69\n",
      "Months: 82, total paid: 241097.02, principal: 419519.61\n",
      "Months: 83, total paid: 244781.13, principal: 417583.5\n",
      "Months: 84, total paid: 248465.24, principal: 415639.32\n",
      "Months: 85, total paid: 252149.35, principal: 413687.04\n",
      "Months: 86, total paid: 255833.46, principal: 411726.63\n",
      "Months: 87, total paid: 259517.57, principal: 409758.05\n",
      "Months: 88, total paid: 263201.68, principal: 407781.26\n",
      "Months: 89, total paid: 266885.79, principal: 405796.24\n",
      "Months: 90, total paid: 270569.9, principal: 403802.95\n",
      "Months: 91, total paid: 274254.01, principal: 401801.35\n",
      "Months: 92, total paid: 277938.12, principal: 399791.41\n",
      "Months: 93, total paid: 281622.23, principal: 397773.1\n",
      "Months: 94, total paid: 285306.34, principal: 395746.38\n",
      "Months: 95, total paid: 288990.45, principal: 393711.21\n",
      "Months: 96, total paid: 292674.56, principal: 391667.56\n",
      "Months: 97, total paid: 296358.67, principal: 389615.4\n",
      "Months: 98, total paid: 300042.78, principal: 387554.69\n",
      "Months: 99, total paid: 303726.89, principal: 385485.39\n",
      "Months: 100, total paid: 307411.0, principal: 383407.47\n",
      "Months: 101, total paid: 311095.11, principal: 381320.89\n",
      "Months: 102, total paid: 314779.22, principal: 379225.62\n",
      "Months: 103, total paid: 318463.33, principal: 377121.62\n",
      "Months: 104, total paid: 322147.44, principal: 375008.85\n",
      "Months: 105, total paid: 325831.55, principal: 372887.27\n",
      "Months: 106, total paid: 329515.66, principal: 370756.86\n",
      "Months: 107, total paid: 333199.77, principal: 368617.57\n",
      "Months: 108, total paid: 336883.88, principal: 366469.37\n",
      "Months: 109, total paid: 340567.99, principal: 364312.21\n",
      "Months: 110, total paid: 343252.1, principal: 363146.07\n",
      "Months: 111, total paid: 345936.21, principal: 361975.07\n",
      "Months: 112, total paid: 348620.32, principal: 360799.19\n",
      "Months: 113, total paid: 351304.43, principal: 359618.41\n",
      "Months: 114, total paid: 353988.54, principal: 358432.71\n",
      "Months: 115, total paid: 356672.65, principal: 357242.07\n",
      "Months: 116, total paid: 359356.76, principal: 356046.47\n",
      "Months: 117, total paid: 362040.87, principal: 354845.88\n",
      "Months: 118, total paid: 364724.98, principal: 353640.3\n",
      "Months: 119, total paid: 367409.09, principal: 352429.69\n",
      "Months: 120, total paid: 370093.2, principal: 351214.04\n",
      "Months: 121, total paid: 372777.31, principal: 349993.32\n",
      "Months: 122, total paid: 375461.42, principal: 348767.51\n",
      "Months: 123, total paid: 378145.53, principal: 347536.6\n",
      "Months: 124, total paid: 380829.64, principal: 346300.56\n",
      "Months: 125, total paid: 383513.75, principal: 345059.37\n",
      "Months: 126, total paid: 386197.86, principal: 343813.01\n",
      "Months: 127, total paid: 388881.97, principal: 342561.45\n",
      "Months: 128, total paid: 391566.08, principal: 341304.68\n",
      "Months: 129, total paid: 394250.19, principal: 340042.67\n",
      "Months: 130, total paid: 396934.3, principal: 338775.41\n",
      "Months: 131, total paid: 399618.41, principal: 337502.86\n",
      "Months: 132, total paid: 402302.52, principal: 336225.01\n",
      "Months: 133, total paid: 404986.63, principal: 334941.84\n",
      "Months: 134, total paid: 407670.74, principal: 333653.32\n",
      "Months: 135, total paid: 410354.85, principal: 332359.43\n",
      "Months: 136, total paid: 413038.96, principal: 331060.16\n",
      "Months: 137, total paid: 415723.07, principal: 329755.46\n",
      "Months: 138, total paid: 418407.18, principal: 328445.33\n",
      "Months: 139, total paid: 421091.29, principal: 327129.75\n",
      "Months: 140, total paid: 423775.4, principal: 325808.68\n",
      "Months: 141, total paid: 426459.51, principal: 324482.1\n",
      "Months: 142, total paid: 429143.62, principal: 323150.0\n",
      "Months: 143, total paid: 431827.73, principal: 321812.35\n",
      "Months: 144, total paid: 434511.84, principal: 320469.12\n",
      "Months: 145, total paid: 437195.95, principal: 319120.3\n",
      "Months: 146, total paid: 439880.06, principal: 317765.86\n",
      "Months: 147, total paid: 442564.17, principal: 316405.77\n",
      "Months: 148, total paid: 445248.28, principal: 315040.02\n",
      "Months: 149, total paid: 447932.39, principal: 313668.58\n",
      "Months: 150, total paid: 450616.5, principal: 312291.42\n",
      "Months: 151, total paid: 453300.61, principal: 310908.53\n",
      "Months: 152, total paid: 455984.72, principal: 309519.87\n",
      "Months: 153, total paid: 458668.83, principal: 308125.42\n",
      "Months: 154, total paid: 461352.94, principal: 306725.17\n",
      "Months: 155, total paid: 464037.05, principal: 305319.08\n",
      "Months: 156, total paid: 466721.16, principal: 303907.13\n",
      "Months: 157, total paid: 469405.27, principal: 302489.3\n",
      "Months: 158, total paid: 472089.38, principal: 301065.57\n",
      "Months: 159, total paid: 474773.49, principal: 299635.9\n",
      "Months: 160, total paid: 477457.6, principal: 298200.27\n",
      "Months: 161, total paid: 480141.71, principal: 296758.66\n",
      "Months: 162, total paid: 482825.82, principal: 295311.04\n",
      "Months: 163, total paid: 485509.93, principal: 293857.4\n",
      "Months: 164, total paid: 488194.04, principal: 292397.69\n",
      "Months: 165, total paid: 490878.15, principal: 290931.91\n",
      "Months: 166, total paid: 493562.26, principal: 289460.01\n",
      "Months: 167, total paid: 496246.37, principal: 287981.99\n",
      "Months: 168, total paid: 498930.48, principal: 286497.8\n",
      "Months: 169, total paid: 501614.59, principal: 285007.43\n",
      "Months: 170, total paid: 504298.7, principal: 283510.85\n",
      "Months: 171, total paid: 506982.81, principal: 282008.04\n",
      "Months: 172, total paid: 509666.92, principal: 280498.96\n",
      "Months: 173, total paid: 512351.03, principal: 278983.6\n",
      "Months: 174, total paid: 515035.14, principal: 277461.92\n",
      "Months: 175, total paid: 517719.25, principal: 275933.9\n",
      "Months: 176, total paid: 520403.36, principal: 274399.52\n",
      "Months: 177, total paid: 523087.47, principal: 272858.74\n",
      "Months: 178, total paid: 525771.58, principal: 271311.54\n",
      "Months: 179, total paid: 528455.69, principal: 269757.89\n",
      "Months: 180, total paid: 531139.8, principal: 268197.77\n",
      "Months: 181, total paid: 533823.91, principal: 266631.15\n",
      "Months: 182, total paid: 536508.02, principal: 265058.01\n",
      "Months: 183, total paid: 539192.13, principal: 263478.31\n",
      "Months: 184, total paid: 541876.24, principal: 261892.02\n",
      "Months: 185, total paid: 544560.35, principal: 260299.13\n",
      "Months: 186, total paid: 547244.46, principal: 258699.6\n",
      "Months: 187, total paid: 549928.57, principal: 257093.4\n",
      "Months: 188, total paid: 552612.68, principal: 255480.52\n",
      "Months: 189, total paid: 555296.79, principal: 253860.91\n",
      "Months: 190, total paid: 557980.9, principal: 252234.55\n",
      "Months: 191, total paid: 560665.01, principal: 250601.42\n",
      "Months: 192, total paid: 563349.12, principal: 248961.48\n",
      "Months: 193, total paid: 566033.23, principal: 247314.71\n",
      "Months: 194, total paid: 568717.34, principal: 245661.08\n",
      "Months: 195, total paid: 571401.45, principal: 244000.56\n",
      "Months: 196, total paid: 574085.56, principal: 242333.12\n",
      "Months: 197, total paid: 576769.67, principal: 240658.73\n",
      "Months: 198, total paid: 579453.78, principal: 238977.36\n",
      "Months: 199, total paid: 582137.89, principal: 237288.99\n",
      "Months: 200, total paid: 584822.0, principal: 235593.59\n",
      "Months: 201, total paid: 587506.11, principal: 233891.12\n",
      "Months: 202, total paid: 590190.22, principal: 232181.55\n",
      "Months: 203, total paid: 592874.33, principal: 230464.86\n",
      "Months: 204, total paid: 595558.44, principal: 228741.03\n",
      "Months: 205, total paid: 598242.55, principal: 227010.0\n",
      "Months: 206, total paid: 600926.66, principal: 225271.77\n",
      "Months: 207, total paid: 603610.77, principal: 223526.29\n",
      "Months: 208, total paid: 606294.88, principal: 221773.54\n",
      "Months: 209, total paid: 608978.99, principal: 220013.49\n",
      "Months: 210, total paid: 611663.1, principal: 218246.1\n",
      "Months: 211, total paid: 614347.21, principal: 216471.35\n",
      "Months: 212, total paid: 617031.32, principal: 214689.2\n",
      "Months: 213, total paid: 619715.43, principal: 212899.63\n",
      "Months: 214, total paid: 622399.54, principal: 211102.6\n",
      "Months: 215, total paid: 625083.65, principal: 209298.09\n",
      "Months: 216, total paid: 627767.76, principal: 207486.05\n",
      "Months: 217, total paid: 630451.87, principal: 205666.47\n",
      "Months: 218, total paid: 633135.98, principal: 203839.3\n",
      "Months: 219, total paid: 635820.09, principal: 202004.52\n",
      "Months: 220, total paid: 638504.2, principal: 200162.1\n",
      "Months: 221, total paid: 641188.31, principal: 198311.99\n",
      "Months: 222, total paid: 643872.42, principal: 196454.18\n",
      "Months: 223, total paid: 646556.53, principal: 194588.63\n",
      "Months: 224, total paid: 649240.64, principal: 192715.31\n",
      "Months: 225, total paid: 651924.75, principal: 190834.18\n",
      "Months: 226, total paid: 654608.86, principal: 188945.21\n",
      "Months: 227, total paid: 657292.97, principal: 187048.37\n",
      "Months: 228, total paid: 659977.08, principal: 185143.63\n",
      "Months: 229, total paid: 662661.19, principal: 183230.95\n",
      "Months: 230, total paid: 665345.3, principal: 181310.31\n",
      "Months: 231, total paid: 668029.41, principal: 179381.66\n",
      "Months: 232, total paid: 670713.52, principal: 177444.97\n",
      "Months: 233, total paid: 673397.63, principal: 175500.21\n",
      "Months: 234, total paid: 676081.74, principal: 173547.35\n",
      "Months: 235, total paid: 678765.85, principal: 171586.36\n",
      "Months: 236, total paid: 681449.96, principal: 169617.19\n",
      "Months: 237, total paid: 684134.07, principal: 167639.82\n",
      "Months: 238, total paid: 686818.18, principal: 165654.21\n",
      "Months: 239, total paid: 689502.29, principal: 163660.33\n",
      "Months: 240, total paid: 692186.4, principal: 161658.13\n",
      "Months: 241, total paid: 694870.51, principal: 159647.6\n",
      "Months: 242, total paid: 697554.62, principal: 157628.69\n",
      "Months: 243, total paid: 700238.73, principal: 155601.36\n",
      "Months: 244, total paid: 702922.84, principal: 153565.59\n",
      "Months: 245, total paid: 705606.95, principal: 151521.34\n",
      "Months: 246, total paid: 708291.06, principal: 149468.57\n",
      "Months: 247, total paid: 710975.17, principal: 147407.24\n",
      "Months: 248, total paid: 713659.28, principal: 145337.33\n",
      "Months: 249, total paid: 716343.39, principal: 143258.79\n",
      "Months: 250, total paid: 719027.5, principal: 141171.59\n",
      "Months: 251, total paid: 721711.61, principal: 139075.7\n",
      "Months: 252, total paid: 724395.72, principal: 136971.07\n",
      "Months: 253, total paid: 727079.83, principal: 134857.67\n",
      "Months: 254, total paid: 729763.94, principal: 132735.47\n",
      "Months: 255, total paid: 732448.05, principal: 130604.43\n",
      "Months: 256, total paid: 735132.16, principal: 128464.5\n",
      "Months: 257, total paid: 737816.27, principal: 126315.66\n",
      "Months: 258, total paid: 740500.38, principal: 124157.86\n",
      "Months: 259, total paid: 743184.49, principal: 121991.08\n",
      "Months: 260, total paid: 745868.6, principal: 119815.27\n",
      "Months: 261, total paid: 748552.71, principal: 117630.39\n",
      "Months: 262, total paid: 751236.82, principal: 115436.4\n",
      "Months: 263, total paid: 753920.93, principal: 113233.28\n",
      "Months: 264, total paid: 756605.04, principal: 111020.97\n",
      "Months: 265, total paid: 759289.15, principal: 108799.45\n",
      "Months: 266, total paid: 761973.26, principal: 106568.67\n",
      "Months: 267, total paid: 764657.37, principal: 104328.6\n",
      "Months: 268, total paid: 767341.48, principal: 102079.19\n",
      "Months: 269, total paid: 770025.59, principal: 99820.41\n",
      "Months: 270, total paid: 772709.7, principal: 97552.22\n",
      "Months: 271, total paid: 775393.81, principal: 95274.58\n",
      "Months: 272, total paid: 778077.92, principal: 92987.44\n",
      "Months: 273, total paid: 780762.03, principal: 90690.78\n",
      "Months: 274, total paid: 783446.14, principal: 88384.55\n",
      "Months: 275, total paid: 786130.25, principal: 86068.71\n",
      "Months: 276, total paid: 788814.36, principal: 83743.22\n",
      "Months: 277, total paid: 791498.47, principal: 81408.04\n",
      "Months: 278, total paid: 794182.58, principal: 79063.13\n",
      "Months: 279, total paid: 796866.69, principal: 76708.45\n",
      "Months: 280, total paid: 799550.8, principal: 74343.96\n",
      "Months: 281, total paid: 802234.91, principal: 71969.61\n",
      "Months: 282, total paid: 804919.02, principal: 69585.38\n",
      "Months: 283, total paid: 807603.13, principal: 67191.2\n",
      "Months: 284, total paid: 810287.24, principal: 64787.06\n",
      "Months: 285, total paid: 812971.35, principal: 62372.89\n",
      "Months: 286, total paid: 815655.46, principal: 59948.67\n",
      "Months: 287, total paid: 818339.57, principal: 57514.35\n",
      "Months: 288, total paid: 821023.68, principal: 55069.88\n",
      "Months: 289, total paid: 823707.79, principal: 52615.23\n",
      "Months: 290, total paid: 826391.9, principal: 50150.35\n",
      "Months: 291, total paid: 829076.01, principal: 47675.2\n",
      "Months: 292, total paid: 831760.12, principal: 45189.74\n",
      "Months: 293, total paid: 834444.23, principal: 42693.92\n",
      "Months: 294, total paid: 837128.34, principal: 40187.7\n",
      "Months: 295, total paid: 839812.45, principal: 37671.04\n",
      "Months: 296, total paid: 842496.56, principal: 35143.89\n",
      "Months: 297, total paid: 845180.67, principal: 32606.21\n",
      "Months: 298, total paid: 847864.78, principal: 30057.96\n",
      "Months: 299, total paid: 850548.89, principal: 27499.09\n",
      "Months: 300, total paid: 853233.0, principal: 24929.56\n",
      "Months: 301, total paid: 855917.11, principal: 22349.32\n",
      "Months: 302, total paid: 858601.22, principal: 19758.34\n",
      "Months: 303, total paid: 861285.33, principal: 17156.55\n",
      "Months: 304, total paid: 863969.44, principal: 14543.93\n",
      "Months: 305, total paid: 866653.55, principal: 11920.42\n",
      "Months: 306, total paid: 869337.66, principal: 9285.98\n",
      "Months: 307, total paid: 872021.77, principal: 6640.56\n",
      "Months: 308, total paid: 874705.88, principal: 3984.12\n",
      "Months: 309, total paid: 877389.99, principal: 1316.61\n",
      "Months: 310, total paid: 880074.1, principal: -1362.02\n",
      "Total paid 880074.1\n",
      "Months 310\n"
     ]
    }
   ],
   "source": [
    "principal = 500000.0\n",
    "rate = 0.05\n",
    "total_paid = 0.0\n",
    "month = 0\n",
    "extra_payment_start_month = 61\n",
    "extra_payment_end_month = 108\n",
    "extra_payment = 1000\n",
    "\n",
    "while principal > 0:\n",
    "    \n",
    "    if month <= extra_payment_end_month and month >= extra_payment_start_month:\n",
    "        payment = 2684.11 + extra_payment\n",
    "    else:\n",
    "        payment = 2684.11\n",
    "        \n",
    "    principal = principal * (1+rate/12) - payment\n",
    "    \n",
    "    total_paid = total_paid + payment\n",
    "    month = month + 1\n",
    "    print(f'Months: {month}, total paid: {round(total_paid, ndigits = 4)}, principal: {round(principal , ndigits = 2)}')\n",
    "print('Total paid', round(total_paid, ndigits = 4))\n",
    "print('Months', month)"
   ]
  },
  {
   "cell_type": "code",
   "execution_count": 86,
   "id": "c33a9d97",
   "metadata": {},
   "outputs": [
    {
     "data": {
      "text/plain": [
       "['3/27/2018', '3/28/2018']"
      ]
     },
     "execution_count": 86,
     "metadata": {},
     "output_type": "execute_result"
    }
   ],
   "source": [
    "#task 1.18\n",
    "text = 'Today is 3/27/2018. Tomorrow is 3/28/2018.'\n",
    "# Find all occurrences of a date\n",
    "import re\n",
    "re.findall(r'\\d+/\\d+/\\d+', text)\n"
   ]
  },
  {
   "cell_type": "code",
   "execution_count": 87,
   "id": "4fc6758e",
   "metadata": {},
   "outputs": [
    {
     "data": {
      "text/plain": [
       "'Today is 2018-3-27. Tomorrow is 2018-3-28.'"
      ]
     },
     "execution_count": 87,
     "metadata": {},
     "output_type": "execute_result"
    }
   ],
   "source": [
    "# Replace all occurrences of a date with replacement text\n",
    "re.sub(r'(\\d+)/(\\d+)/(\\d+)', r'\\3-\\1-\\2', text)"
   ]
  },
  {
   "cell_type": "code",
   "execution_count": 148,
   "id": "20bf3217",
   "metadata": {},
   "outputs": [
    {
     "data": {
      "text/plain": [
       "['HPQ', 'AAPL', 'IBM', 'MSFT', 'YHOO', 'DOA', 'GOOG']"
      ]
     },
     "execution_count": 148,
     "metadata": {},
     "output_type": "execute_result"
    }
   ],
   "source": [
    "#task 1.19\n",
    "symbols = 'HPQ,AAPL,IBM,MSFT,YHOO,DOA,GOOG'\n",
    "symlist = symbols.split(',')\n",
    "symlist"
   ]
  },
  {
   "cell_type": "code",
   "execution_count": 149,
   "id": "c9013a17",
   "metadata": {},
   "outputs": [
    {
     "data": {
      "text/plain": [
       "'HPQ'"
      ]
     },
     "execution_count": 149,
     "metadata": {},
     "output_type": "execute_result"
    }
   ],
   "source": [
    "symlist[0]"
   ]
  },
  {
   "cell_type": "code",
   "execution_count": 150,
   "id": "9d222f29",
   "metadata": {},
   "outputs": [
    {
     "data": {
      "text/plain": [
       "'AAPL'"
      ]
     },
     "execution_count": 150,
     "metadata": {},
     "output_type": "execute_result"
    }
   ],
   "source": [
    "symlist[1]"
   ]
  },
  {
   "cell_type": "code",
   "execution_count": 151,
   "id": "004ab30a",
   "metadata": {},
   "outputs": [
    {
     "data": {
      "text/plain": [
       "'GOOG'"
      ]
     },
     "execution_count": 151,
     "metadata": {},
     "output_type": "execute_result"
    }
   ],
   "source": [
    "symlist[-1]"
   ]
  },
  {
   "cell_type": "code",
   "execution_count": 152,
   "id": "41ac16cf",
   "metadata": {},
   "outputs": [
    {
     "data": {
      "text/plain": [
       "'DOA'"
      ]
     },
     "execution_count": 152,
     "metadata": {},
     "output_type": "execute_result"
    }
   ],
   "source": [
    "symlist[-2]"
   ]
  },
  {
   "cell_type": "code",
   "execution_count": 153,
   "id": "4fc9035f",
   "metadata": {},
   "outputs": [
    {
     "data": {
      "text/plain": [
       "['HPQ', 'AAPL', 'AIG', 'MSFT', 'YHOO', 'DOA', 'GOOG']"
      ]
     },
     "execution_count": 153,
     "metadata": {},
     "output_type": "execute_result"
    }
   ],
   "source": [
    "symlist[2] = 'AIG'\n",
    "symlist"
   ]
  },
  {
   "cell_type": "code",
   "execution_count": 154,
   "id": "deaa058f",
   "metadata": {},
   "outputs": [
    {
     "data": {
      "text/plain": [
       "['HPQ', 'AAPL', 'AIG']"
      ]
     },
     "execution_count": 154,
     "metadata": {},
     "output_type": "execute_result"
    }
   ],
   "source": [
    "symlist[0:3]"
   ]
  },
  {
   "cell_type": "code",
   "execution_count": 155,
   "id": "61d237fd",
   "metadata": {},
   "outputs": [
    {
     "data": {
      "text/plain": [
       "['DOA', 'GOOG']"
      ]
     },
     "execution_count": 155,
     "metadata": {},
     "output_type": "execute_result"
    }
   ],
   "source": [
    "symlist[-2:]"
   ]
  },
  {
   "cell_type": "code",
   "execution_count": 156,
   "id": "c4cdf1a0",
   "metadata": {},
   "outputs": [
    {
     "data": {
      "text/plain": [
       "['GOOG']"
      ]
     },
     "execution_count": 156,
     "metadata": {},
     "output_type": "execute_result"
    }
   ],
   "source": [
    "mysyms = []\n",
    "mysyms.append('GOOG')\n",
    "mysyms"
   ]
  },
  {
   "cell_type": "code",
   "execution_count": 157,
   "id": "559228d4",
   "metadata": {},
   "outputs": [
    {
     "data": {
      "text/plain": [
       "['HPQ', 'AAPL', 'AIG', 'MSFT', 'YHOO', 'GOOG']"
      ]
     },
     "execution_count": 157,
     "metadata": {},
     "output_type": "execute_result"
    }
   ],
   "source": [
    "symlist[-2:] = mysyms\n",
    "symlist"
   ]
  },
  {
   "cell_type": "code",
   "execution_count": 158,
   "id": "900216cf",
   "metadata": {},
   "outputs": [
    {
     "name": "stdout",
     "output_type": "stream",
     "text": [
      "s = HPQ\n",
      "s = AAPL\n",
      "s = AIG\n",
      "s = MSFT\n",
      "s = YHOO\n",
      "s = GOOG\n"
     ]
    }
   ],
   "source": [
    "#task 1.20\n",
    "for s in symlist:\n",
    "    print('s =', s)"
   ]
  },
  {
   "cell_type": "code",
   "execution_count": 123,
   "id": "fcd43980",
   "metadata": {},
   "outputs": [
    {
     "data": {
      "text/plain": [
       "True"
      ]
     },
     "execution_count": 123,
     "metadata": {},
     "output_type": "execute_result"
    }
   ],
   "source": [
    "#task 1.21\n",
    "'AIG' in symlist"
   ]
  },
  {
   "cell_type": "code",
   "execution_count": 124,
   "id": "4eb3af18",
   "metadata": {},
   "outputs": [
    {
     "data": {
      "text/plain": [
       "False"
      ]
     },
     "execution_count": 124,
     "metadata": {},
     "output_type": "execute_result"
    }
   ],
   "source": [
    "'AA' in symlist"
   ]
  },
  {
   "cell_type": "code",
   "execution_count": 125,
   "id": "d16f30a8",
   "metadata": {},
   "outputs": [
    {
     "data": {
      "text/plain": [
       "True"
      ]
     },
     "execution_count": 125,
     "metadata": {},
     "output_type": "execute_result"
    }
   ],
   "source": [
    "'CAT' not in symlist"
   ]
  },
  {
   "cell_type": "code",
   "execution_count": 159,
   "id": "ecb4e9c5",
   "metadata": {},
   "outputs": [
    {
     "data": {
      "text/plain": [
       "['HPQ', 'AAPL', 'AIG', 'MSFT', 'YHOO', 'GOOG', 'RHT']"
      ]
     },
     "execution_count": 159,
     "metadata": {},
     "output_type": "execute_result"
    }
   ],
   "source": [
    "#task 1.22\n",
    "symlist.append('RHT')\n",
    "symlist"
   ]
  },
  {
   "cell_type": "code",
   "execution_count": 160,
   "id": "06ac0296",
   "metadata": {},
   "outputs": [
    {
     "data": {
      "text/plain": [
       "['HPQ', 'AA', 'AAPL', 'AIG', 'MSFT', 'YHOO', 'GOOG', 'RHT']"
      ]
     },
     "execution_count": 160,
     "metadata": {},
     "output_type": "execute_result"
    }
   ],
   "source": [
    "symlist.insert(1, 'AA')\n",
    "symlist"
   ]
  },
  {
   "cell_type": "code",
   "execution_count": 161,
   "id": "c8d1cca8",
   "metadata": {},
   "outputs": [
    {
     "data": {
      "text/plain": [
       "['HPQ', 'AA', 'AAPL', 'AIG', 'YHOO', 'GOOG', 'RHT']"
      ]
     },
     "execution_count": 161,
     "metadata": {},
     "output_type": "execute_result"
    }
   ],
   "source": [
    "symlist.remove('MSFT')\n",
    "symlist"
   ]
  },
  {
   "cell_type": "code",
   "execution_count": 162,
   "id": "ccd18622",
   "metadata": {},
   "outputs": [],
   "source": [
    "symlist.append('YHOO')"
   ]
  },
  {
   "cell_type": "code",
   "execution_count": 163,
   "id": "29a5ec84",
   "metadata": {},
   "outputs": [
    {
     "data": {
      "text/plain": [
       "['HPQ', 'AA', 'AAPL', 'AIG', 'YHOO', 'GOOG', 'RHT', 'YHOO']"
      ]
     },
     "execution_count": 163,
     "metadata": {},
     "output_type": "execute_result"
    }
   ],
   "source": [
    "symlist"
   ]
  },
  {
   "cell_type": "code",
   "execution_count": 164,
   "id": "42db6ae6",
   "metadata": {},
   "outputs": [
    {
     "data": {
      "text/plain": [
       "4"
      ]
     },
     "execution_count": 164,
     "metadata": {},
     "output_type": "execute_result"
    }
   ],
   "source": [
    "symlist.index('YHOO')"
   ]
  },
  {
   "cell_type": "code",
   "execution_count": 165,
   "id": "ca224f71",
   "metadata": {},
   "outputs": [
    {
     "data": {
      "text/plain": [
       "'YHOO'"
      ]
     },
     "execution_count": 165,
     "metadata": {},
     "output_type": "execute_result"
    }
   ],
   "source": [
    "symlist[4]"
   ]
  },
  {
   "cell_type": "code",
   "execution_count": 166,
   "id": "c7819459",
   "metadata": {},
   "outputs": [
    {
     "data": {
      "text/plain": [
       "2"
      ]
     },
     "execution_count": 166,
     "metadata": {},
     "output_type": "execute_result"
    }
   ],
   "source": [
    "symlist.count('YHOO')"
   ]
  },
  {
   "cell_type": "code",
   "execution_count": 167,
   "id": "f37be331",
   "metadata": {},
   "outputs": [],
   "source": [
    "symlist.remove('YHOO')"
   ]
  },
  {
   "cell_type": "code",
   "execution_count": 168,
   "id": "bde1b0a3",
   "metadata": {},
   "outputs": [
    {
     "data": {
      "text/plain": [
       "['HPQ', 'AA', 'AAPL', 'AIG', 'GOOG', 'RHT', 'YHOO']"
      ]
     },
     "execution_count": 168,
     "metadata": {},
     "output_type": "execute_result"
    }
   ],
   "source": [
    "symlist"
   ]
  },
  {
   "cell_type": "code",
   "execution_count": 169,
   "id": "7baf7d4a",
   "metadata": {},
   "outputs": [
    {
     "data": {
      "text/plain": [
       "['AA', 'AAPL', 'AIG', 'GOOG', 'HPQ', 'RHT', 'YHOO']"
      ]
     },
     "execution_count": 169,
     "metadata": {},
     "output_type": "execute_result"
    }
   ],
   "source": [
    "#task 1.23\n",
    "symlist.sort()\n",
    "symlist"
   ]
  },
  {
   "cell_type": "code",
   "execution_count": 170,
   "id": "2c54a551",
   "metadata": {},
   "outputs": [
    {
     "data": {
      "text/plain": [
       "['YHOO', 'RHT', 'HPQ', 'GOOG', 'AIG', 'AAPL', 'AA']"
      ]
     },
     "execution_count": 170,
     "metadata": {},
     "output_type": "execute_result"
    }
   ],
   "source": [
    "symlist.sort(reverse=True)\n",
    "symlist"
   ]
  },
  {
   "cell_type": "code",
   "execution_count": 171,
   "id": "7a862d6a",
   "metadata": {},
   "outputs": [
    {
     "data": {
      "text/plain": [
       "'YHOO,RHT,HPQ,GOOG,AIG,AAPL,AA'"
      ]
     },
     "execution_count": 171,
     "metadata": {},
     "output_type": "execute_result"
    }
   ],
   "source": [
    "#task 1.24\n",
    "a = ','.join(symlist)\n",
    "a"
   ]
  },
  {
   "cell_type": "code",
   "execution_count": 172,
   "id": "d243d9df",
   "metadata": {},
   "outputs": [
    {
     "data": {
      "text/plain": [
       "'YHOO:RHT:HPQ:GOOG:AIG:AAPL:AA'"
      ]
     },
     "execution_count": 172,
     "metadata": {},
     "output_type": "execute_result"
    }
   ],
   "source": [
    "b = ':'.join(symlist)\n",
    "b"
   ]
  },
  {
   "cell_type": "code",
   "execution_count": 173,
   "id": "579132db",
   "metadata": {},
   "outputs": [
    {
     "data": {
      "text/plain": [
       "'YHOORHTHPQGOOGAIGAAPLAA'"
      ]
     },
     "execution_count": 173,
     "metadata": {},
     "output_type": "execute_result"
    }
   ],
   "source": [
    "c = ''.join(symlist)\n",
    "c"
   ]
  },
  {
   "cell_type": "code",
   "execution_count": 174,
   "id": "8faea357",
   "metadata": {},
   "outputs": [
    {
     "data": {
      "text/plain": [
       "['spam', ['YHOO', 'RHT', 'HPQ', 'GOOG', 'AIG', 'AAPL', 'AA'], [101, 102, 103]]"
      ]
     },
     "execution_count": 174,
     "metadata": {},
     "output_type": "execute_result"
    }
   ],
   "source": [
    "#task 1.25\n",
    "nums = [101, 102, 103]\n",
    "items = ['spam', symlist, nums]\n",
    "items"
   ]
  },
  {
   "cell_type": "code",
   "execution_count": 175,
   "id": "f4c29985",
   "metadata": {},
   "outputs": [
    {
     "data": {
      "text/plain": [
       "'spam'"
      ]
     },
     "execution_count": 175,
     "metadata": {},
     "output_type": "execute_result"
    }
   ],
   "source": [
    "items[0]"
   ]
  },
  {
   "cell_type": "code",
   "execution_count": 176,
   "id": "1463c6a1",
   "metadata": {},
   "outputs": [
    {
     "data": {
      "text/plain": [
       "'s'"
      ]
     },
     "execution_count": 176,
     "metadata": {},
     "output_type": "execute_result"
    }
   ],
   "source": [
    "items[0][0]"
   ]
  },
  {
   "cell_type": "code",
   "execution_count": 177,
   "id": "149d93d1",
   "metadata": {},
   "outputs": [
    {
     "data": {
      "text/plain": [
       "['YHOO', 'RHT', 'HPQ', 'GOOG', 'AIG', 'AAPL', 'AA']"
      ]
     },
     "execution_count": 177,
     "metadata": {},
     "output_type": "execute_result"
    }
   ],
   "source": [
    "items[1]"
   ]
  },
  {
   "cell_type": "code",
   "execution_count": 178,
   "id": "439d83f7",
   "metadata": {},
   "outputs": [
    {
     "data": {
      "text/plain": [
       "'RHT'"
      ]
     },
     "execution_count": 178,
     "metadata": {},
     "output_type": "execute_result"
    }
   ],
   "source": [
    "items[1][1]"
   ]
  },
  {
   "cell_type": "code",
   "execution_count": 179,
   "id": "a59131d8",
   "metadata": {},
   "outputs": [
    {
     "data": {
      "text/plain": [
       "'T'"
      ]
     },
     "execution_count": 179,
     "metadata": {},
     "output_type": "execute_result"
    }
   ],
   "source": [
    "items[1][1][2]"
   ]
  },
  {
   "cell_type": "code",
   "execution_count": 180,
   "id": "3744df84",
   "metadata": {},
   "outputs": [
    {
     "data": {
      "text/plain": [
       "[101, 102, 103]"
      ]
     },
     "execution_count": 180,
     "metadata": {},
     "output_type": "execute_result"
    }
   ],
   "source": [
    "items[2]"
   ]
  },
  {
   "cell_type": "code",
   "execution_count": 181,
   "id": "e65e4df7",
   "metadata": {},
   "outputs": [
    {
     "data": {
      "text/plain": [
       "102"
      ]
     },
     "execution_count": 181,
     "metadata": {},
     "output_type": "execute_result"
    }
   ],
   "source": [
    "items[2][1]"
   ]
  },
  {
   "cell_type": "code",
   "execution_count": 210,
   "id": "57317666",
   "metadata": {},
   "outputs": [
    {
     "data": {
      "text/plain": [
       "'name,shares,price\\n\"AA\",100,32.20\\n\"IBM\",50,91.10\\n\"CAT\",150,83.44\\n\"MSFT\",200,51.23\\n\"GE\",95,40.37\\n\"MSFT\",50,65.10\\n\"IBM\",100,70.44\\n'"
      ]
     },
     "execution_count": 210,
     "metadata": {},
     "output_type": "execute_result"
    }
   ],
   "source": [
    "#task 1.26\n",
    "with open('/home/fedor/practical-python/Work/Data/portfolio.csv', 'r') as f:\n",
    "        data = f.read()\n",
    "data"
   ]
  },
  {
   "cell_type": "code",
   "execution_count": 211,
   "id": "1686561e",
   "metadata": {},
   "outputs": [
    {
     "name": "stdout",
     "output_type": "stream",
     "text": [
      "name,shares,price\n",
      "\"AA\",100,32.20\n",
      "\"IBM\",50,91.10\n",
      "\"CAT\",150,83.44\n",
      "\"MSFT\",200,51.23\n",
      "\"GE\",95,40.37\n",
      "\"MSFT\",50,65.10\n",
      "\"IBM\",100,70.44\n",
      "\n"
     ]
    }
   ],
   "source": [
    "print(data)"
   ]
  },
  {
   "cell_type": "code",
   "execution_count": 212,
   "id": "57d00b31",
   "metadata": {},
   "outputs": [
    {
     "name": "stdout",
     "output_type": "stream",
     "text": [
      "name,shares,price\n",
      "\"AA\",100,32.20\n",
      "\"IBM\",50,91.10\n",
      "\"CAT\",150,83.44\n",
      "\"MSFT\",200,51.23\n",
      "\"GE\",95,40.37\n",
      "\"MSFT\",50,65.10\n",
      "\"IBM\",100,70.44\n"
     ]
    }
   ],
   "source": [
    "with open('/home/fedor/practical-python/Work/Data/portfolio.csv', 'rt') as f:\n",
    "    for line in f:\n",
    "        print(line, end='')"
   ]
  },
  {
   "cell_type": "code",
   "execution_count": 213,
   "id": "00d18b65",
   "metadata": {},
   "outputs": [
    {
     "data": {
      "text/plain": [
       "'name,shares,price\\n'"
      ]
     },
     "execution_count": 213,
     "metadata": {},
     "output_type": "execute_result"
    }
   ],
   "source": [
    "f = open('/home/fedor/practical-python/Work/Data/portfolio.csv', 'rt')\n",
    "headers = next(f)\n",
    "headers"
   ]
  },
  {
   "cell_type": "code",
   "execution_count": 214,
   "id": "978f353a",
   "metadata": {},
   "outputs": [
    {
     "name": "stdout",
     "output_type": "stream",
     "text": [
      "\"AA\",100,32.20\n",
      "\"IBM\",50,91.10\n",
      "\"CAT\",150,83.44\n",
      "\"MSFT\",200,51.23\n",
      "\"GE\",95,40.37\n",
      "\"MSFT\",50,65.10\n",
      "\"IBM\",100,70.44\n"
     ]
    }
   ],
   "source": [
    "for line in f:\n",
    "    print(line, end='')"
   ]
  },
  {
   "cell_type": "code",
   "execution_count": 215,
   "id": "a500ffd1",
   "metadata": {},
   "outputs": [],
   "source": [
    "f.close()"
   ]
  },
  {
   "cell_type": "code",
   "execution_count": 216,
   "id": "9c441155",
   "metadata": {},
   "outputs": [
    {
     "data": {
      "text/plain": [
       "['name', 'shares', 'price\\n']"
      ]
     },
     "execution_count": 216,
     "metadata": {},
     "output_type": "execute_result"
    }
   ],
   "source": [
    "f = open('/home/fedor/practical-python/Work/Data/portfolio.csv', 'rt')\n",
    "headers = next(f).split(',')\n",
    "headers"
   ]
  },
  {
   "cell_type": "code",
   "execution_count": 217,
   "id": "be0f74b0",
   "metadata": {},
   "outputs": [
    {
     "name": "stdout",
     "output_type": "stream",
     "text": [
      "['\"AA\"', '100', '32.20\\n']\n",
      "['\"IBM\"', '50', '91.10\\n']\n",
      "['\"CAT\"', '150', '83.44\\n']\n",
      "['\"MSFT\"', '200', '51.23\\n']\n",
      "['\"GE\"', '95', '40.37\\n']\n",
      "['\"MSFT\"', '50', '65.10\\n']\n",
      "['\"IBM\"', '100', '70.44\\n']\n"
     ]
    }
   ],
   "source": [
    "for line in f:\n",
    "    row = line.split(',')\n",
    "    print(row)"
   ]
  },
  {
   "cell_type": "code",
   "execution_count": 40,
   "id": "9e4bed17",
   "metadata": {},
   "outputs": [],
   "source": [
    "f.close()"
   ]
  },
  {
   "cell_type": "code",
   "execution_count": 13,
   "id": "22d5634d",
   "metadata": {},
   "outputs": [
    {
     "name": "stdout",
     "output_type": "stream",
     "text": [
      "Total cost 44671.15\n"
     ]
    }
   ],
   "source": [
    "#task 1.27\n",
    "total_cost = 0.0\n",
    "import csv\n",
    "with open('/home/fedor/practical-python/Work/Data/portfolio.csv', 'rt') as f:\n",
    "    rows = csv.reader(f)\n",
    "    headers = next(rows)\n",
    "    for row in rows:\n",
    "        nshares = int(row[1])\n",
    "        price = float(row[2])\n",
    "        total_cost += nshares * price\n",
    "\n",
    "print('Total cost', total_cost)"
   ]
  },
  {
   "cell_type": "code",
   "execution_count": 7,
   "id": "554ba205",
   "metadata": {},
   "outputs": [
    {
     "name": "stdout",
     "output_type": "stream",
     "text": [
      "name,shares,price\n",
      "\"AA\",100,32.20\n",
      "\"IBM\",50,91.10\n",
      "\"CAT\",150,83.44\n",
      "\"MSFT\",200,51.23\n",
      "\"GE\",95,40.37\n",
      "\"MSFT\",50,65.10\n",
      "\"IBM\",100,70.44\n"
     ]
    }
   ],
   "source": [
    "#task 1.28\n",
    "import gzip\n",
    "with gzip.open('/home/fedor/practical-python/Work/Data/portfolio.csv.gz', 'rt') as f:\n",
    "    for line in f:\n",
    "        print(line, end='')\n"
   ]
  },
  {
   "cell_type": "code",
   "execution_count": 172,
   "id": "abfaf8b7",
   "metadata": {},
   "outputs": [
    {
     "name": "stdout",
     "output_type": "stream",
     "text": [
      "Hello Guido\n"
     ]
    }
   ],
   "source": [
    "#task 1.29\n",
    "def greeting(name):\n",
    "    'Issues a greeting'\n",
    "    print('Hello', name)\n",
    "greeting('Guido')"
   ]
  },
  {
   "cell_type": "code",
   "execution_count": 173,
   "id": "3a99d74b",
   "metadata": {},
   "outputs": [
    {
     "name": "stdout",
     "output_type": "stream",
     "text": [
      "Hello Paula\n"
     ]
    }
   ],
   "source": [
    "greeting('Paula')"
   ]
  },
  {
   "cell_type": "code",
   "execution_count": 174,
   "id": "44e4db23",
   "metadata": {},
   "outputs": [
    {
     "name": "stdout",
     "output_type": "stream",
     "text": [
      "Help on function greeting in module __main__:\n",
      "\n",
      "greeting(name)\n",
      "    Issues a greeting\n",
      "\n"
     ]
    }
   ],
   "source": [
    "help(greeting)"
   ]
  },
  {
   "cell_type": "code",
   "execution_count": 77,
   "id": "996a98af",
   "metadata": {},
   "outputs": [],
   "source": [
    "#task 1.30\n",
    "def portfolio_cost(filename):\n",
    "    \n",
    "    total_cost = 0.0\n",
    "    with open(filename, 'rt') as f:\n",
    "        headers = next(f)\n",
    "        for line in f:\n",
    "            row = line.split(',')\n",
    "            \n",
    "            try:\n",
    "                nshares = int(row[1])\n",
    "                nshares = int(row[1])\n",
    "                price = float(row[2])\n",
    "                total_cost += nshares * price\n",
    "            except ValueError:\n",
    "                print(\"Couldn't parse\", line)\n",
    "              \n",
    "                \n",
    "            \n",
    "    return total_cost\n",
    "\n"
   ]
  },
  {
   "cell_type": "code",
   "execution_count": 78,
   "id": "39d9aaa9",
   "metadata": {},
   "outputs": [
    {
     "name": "stdout",
     "output_type": "stream",
     "text": [
      "Total cost: 44671.15\n"
     ]
    }
   ],
   "source": [
    "cost = portfolio_cost('/home/fedor/practical-python/Work/Data/portfolio.csv')\n",
    "print('Total cost:', cost)"
   ]
  },
  {
   "cell_type": "code",
   "execution_count": 79,
   "id": "9f861edb",
   "metadata": {},
   "outputs": [
    {
     "name": "stdout",
     "output_type": "stream",
     "text": [
      "Couldn't parse \"MSFT\",,51.23\n",
      "\n",
      "Couldn't parse \"IBM\",,70.44\n",
      "\n"
     ]
    },
    {
     "data": {
      "text/plain": [
       "27381.15"
      ]
     },
     "execution_count": 79,
     "metadata": {},
     "output_type": "execute_result"
    }
   ],
   "source": [
    "#task 1.31\n",
    "portfolio_cost('/home/fedor/practical-python/Work/Data/missing.csv')\n"
   ]
  },
  {
   "cell_type": "code",
   "execution_count": 14,
   "id": "701345d6",
   "metadata": {},
   "outputs": [
    {
     "data": {
      "text/plain": [
       "['name', 'shares', 'price']"
      ]
     },
     "execution_count": 14,
     "metadata": {},
     "output_type": "execute_result"
    }
   ],
   "source": [
    "#task 1.32\n",
    "import csv\n",
    "f = open('/home/fedor/practical-python/Work/Data/portfolio.csv')\n",
    "rows = csv.reader(f)\n",
    "headers = next(rows)\n",
    "headers"
   ]
  },
  {
   "cell_type": "code",
   "execution_count": 3,
   "id": "018f296b",
   "metadata": {},
   "outputs": [
    {
     "name": "stdout",
     "output_type": "stream",
     "text": [
      "['AA', '100', '32.20']\n",
      "['IBM', '50', '91.10']\n",
      "['CAT', '150', '83.44']\n",
      "['MSFT', '200', '51.23']\n",
      "['GE', '95', '40.37']\n",
      "['MSFT', '50', '65.10']\n",
      "['IBM', '100', '70.44']\n"
     ]
    }
   ],
   "source": [
    "for row in rows:\n",
    "    print(row)"
   ]
  },
  {
   "cell_type": "code",
   "execution_count": 4,
   "id": "b9c40a4d",
   "metadata": {},
   "outputs": [],
   "source": [
    "f.close()"
   ]
  },
  {
   "cell_type": "code",
   "execution_count": 15,
   "id": "83f57c06",
   "metadata": {},
   "outputs": [
    {
     "name": "stdout",
     "output_type": "stream",
     "text": [
      "Enter a filename:/home/fedor/practical-python/Work/Data/portfolio.csv\n",
      "Total cost: 44671.15\n"
     ]
    }
   ],
   "source": [
    "import csv\n",
    "def portfolio_cost(filename):\n",
    "\n",
    "    total_cost = 0.0\n",
    "    with open(filename, 'rt') as f:\n",
    "        rows = csv.reader(f)\n",
    "        headers = next(rows)\n",
    "        for row in rows:\n",
    "            try:\n",
    "                nshares = int(row[1])\n",
    "                price = float(row[2])\n",
    "                total_cost += nshares * price\n",
    "            \n",
    "            except ValueError:\n",
    "                print(\"Couldn't parse\", row)\n",
    "\n",
    "    return total_cost\n",
    "\n",
    "import sys\n",
    "if len(sys.argv) == 2:\n",
    "    filename = sys.argv[1]\n",
    "else:\n",
    "    filename = input('Enter a filename:')\n",
    "\n",
    "cost = portfolio_cost(filename)\n",
    "print('Total cost:', cost)"
   ]
  },
  {
   "cell_type": "code",
   "execution_count": null,
   "id": "d9d90a4c",
   "metadata": {},
   "outputs": [],
   "source": []
  }
 ],
 "metadata": {
  "kernelspec": {
   "display_name": "Python 3 (ipykernel)",
   "language": "python",
   "name": "python3"
  },
  "language_info": {
   "codemirror_mode": {
    "name": "ipython",
    "version": 3
   },
   "file_extension": ".py",
   "mimetype": "text/x-python",
   "name": "python",
   "nbconvert_exporter": "python",
   "pygments_lexer": "ipython3",
   "version": "3.9.12"
  }
 },
 "nbformat": 4,
 "nbformat_minor": 5
}
