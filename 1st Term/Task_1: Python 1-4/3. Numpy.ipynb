{
 "cells": [
  {
   "cell_type": "code",
   "execution_count": 1,
   "id": "a55f8e69",
   "metadata": {},
   "outputs": [
    {
     "data": {
      "text/plain": [
       "array([0.75873123, 0.18915655, 0.85187124, 0.34951021, 0.21699654,\n",
       "       0.22738547, 0.90212579, 0.43467592, 0.02552739, 0.90132939])"
      ]
     },
     "execution_count": 1,
     "metadata": {},
     "output_type": "execute_result"
    }
   ],
   "source": [
    "import numpy as np\n",
    "import random\n",
    "np.array([random.random() for i in range(10)])"
   ]
  },
  {
   "cell_type": "code",
   "execution_count": 2,
   "id": "cc0b6e4b",
   "metadata": {},
   "outputs": [
    {
     "data": {
      "text/plain": [
       "<module 'numpy.random' from '/home/fedor/anaconda3/lib/python3.9/site-packages/numpy/random/__init__.py'>"
      ]
     },
     "execution_count": 2,
     "metadata": {},
     "output_type": "execute_result"
    }
   ],
   "source": [
    "import numpy as np  \n",
    "np.random"
   ]
  },
  {
   "cell_type": "code",
   "execution_count": 3,
   "id": "ba8209a0",
   "metadata": {},
   "outputs": [
    {
     "data": {
      "text/plain": [
       "<module 'numpy.random' from '/home/fedor/anaconda3/lib/python3.9/site-packages/numpy/random/__init__.py'>"
      ]
     },
     "execution_count": 3,
     "metadata": {},
     "output_type": "execute_result"
    }
   ],
   "source": [
    "import numpy.random as rand  \n",
    "rand"
   ]
  },
  {
   "cell_type": "code",
   "execution_count": 4,
   "id": "59871ccb",
   "metadata": {},
   "outputs": [
    {
     "data": {
      "text/plain": [
       "0.08195039027231188"
      ]
     },
     "execution_count": 4,
     "metadata": {},
     "output_type": "execute_result"
    }
   ],
   "source": [
    "np.random.sample()"
   ]
  },
  {
   "cell_type": "code",
   "execution_count": 5,
   "id": "953d087a",
   "metadata": {},
   "outputs": [
    {
     "data": {
      "text/plain": [
       "array([0.11939919, 0.95734776, 0.48373478])"
      ]
     },
     "execution_count": 5,
     "metadata": {},
     "output_type": "execute_result"
    }
   ],
   "source": [
    "np.random.sample(3)"
   ]
  },
  {
   "cell_type": "code",
   "execution_count": 6,
   "id": "abc74a97",
   "metadata": {},
   "outputs": [
    {
     "data": {
      "text/plain": [
       "array([[0.40133466, 0.91103545, 0.13198438],\n",
       "       [0.7662508 , 0.87641639, 0.65176882]])"
      ]
     },
     "execution_count": 6,
     "metadata": {},
     "output_type": "execute_result"
    }
   ],
   "source": [
    "np.random.sample((2, 3))"
   ]
  },
  {
   "cell_type": "code",
   "execution_count": 7,
   "id": "5c4c6ced",
   "metadata": {},
   "outputs": [
    {
     "data": {
      "text/plain": [
       "array([1, 0, 2, 1, 2, 0, 0, 2, 1, 2])"
      ]
     },
     "execution_count": 7,
     "metadata": {},
     "output_type": "execute_result"
    }
   ],
   "source": [
    "np.random.randint(0, 3, 10)"
   ]
  },
  {
   "cell_type": "code",
   "execution_count": 8,
   "id": "f1e7efed",
   "metadata": {},
   "outputs": [
    {
     "name": "stderr",
     "output_type": "stream",
     "text": [
      "/tmp/ipykernel_27589/3188335668.py:1: DeprecationWarning: This function is deprecated. Please call randint(0, 3 + 1) instead\n",
      "  np.random.random_integers(0, 3, 10)\n"
     ]
    },
    {
     "data": {
      "text/plain": [
       "array([0, 2, 3, 1, 0, 3, 3, 2, 0, 3])"
      ]
     },
     "execution_count": 8,
     "metadata": {},
     "output_type": "execute_result"
    }
   ],
   "source": [
    "np.random.random_integers(0, 3, 10)"
   ]
  },
  {
   "cell_type": "code",
   "execution_count": 9,
   "id": "ad1e56a9",
   "metadata": {},
   "outputs": [
    {
     "data": {
      "text/plain": [
       "array([[2, 2, 2, 1, 2, 1, 1, 0, 0, 0],\n",
       "       [2, 1, 1, 0, 1, 1, 0, 2, 2, 2]])"
      ]
     },
     "execution_count": 9,
     "metadata": {},
     "output_type": "execute_result"
    }
   ],
   "source": [
    "np.random.randint(0, 3, (2, 10))"
   ]
  },
  {
   "cell_type": "code",
   "execution_count": 10,
   "id": "652d7786",
   "metadata": {},
   "outputs": [
    {
     "data": {
      "text/plain": [
       "array([[4.39798921, 3.08723993, 4.29398452, 7.29022088, 5.57376762,\n",
       "        5.65995277, 7.57738546, 4.3402579 , 2.44503265, 2.2633298 ],\n",
       "       [3.16340916, 4.50745001, 3.37706069, 7.48107528, 6.29648805,\n",
       "        2.23512403, 2.97903687, 2.70720771, 7.27967741, 3.11368367]])"
      ]
     },
     "execution_count": 10,
     "metadata": {},
     "output_type": "execute_result"
    }
   ],
   "source": [
    "np.random.uniform(2, 8, (2, 10))"
   ]
  },
  {
   "cell_type": "code",
   "execution_count": 11,
   "id": "69d18b82",
   "metadata": {},
   "outputs": [
    {
     "data": {
      "text/plain": [
       "array([0, 1, 2, 3, 4, 5, 6, 7, 8, 9])"
      ]
     },
     "execution_count": 11,
     "metadata": {},
     "output_type": "execute_result"
    }
   ],
   "source": [
    "a = np.arange(10)\n",
    "a"
   ]
  },
  {
   "cell_type": "code",
   "execution_count": 12,
   "id": "cb699995",
   "metadata": {},
   "outputs": [
    {
     "data": {
      "text/plain": [
       "array([2, 9, 5, 4, 7, 3, 1, 0, 8, 6])"
      ]
     },
     "execution_count": 12,
     "metadata": {},
     "output_type": "execute_result"
    }
   ],
   "source": [
    "np.random.shuffle(a)\n",
    "a"
   ]
  },
  {
   "cell_type": "code",
   "execution_count": 13,
   "id": "7ab09e02",
   "metadata": {},
   "outputs": [
    {
     "data": {
      "text/plain": [
       "array([1, 2, 9, 6, 4, 5, 3, 0, 8, 7])"
      ]
     },
     "execution_count": 13,
     "metadata": {},
     "output_type": "execute_result"
    }
   ],
   "source": [
    "np.random.permutation(10)"
   ]
  },
  {
   "cell_type": "code",
   "execution_count": 14,
   "id": "2c25ee5c",
   "metadata": {},
   "outputs": [
    {
     "data": {
      "text/plain": [
       "array([0, 1, 2, 3, 4, 5, 6, 7, 8, 9])"
      ]
     },
     "execution_count": 14,
     "metadata": {},
     "output_type": "execute_result"
    }
   ],
   "source": [
    "a = np.arange(10)\n",
    "a"
   ]
  },
  {
   "cell_type": "code",
   "execution_count": 15,
   "id": "71ced3c8",
   "metadata": {},
   "outputs": [
    {
     "data": {
      "text/plain": [
       "array([2, 1, 1, 1, 0, 1, 0, 1, 0, 1])"
      ]
     },
     "execution_count": 15,
     "metadata": {},
     "output_type": "execute_result"
    }
   ],
   "source": [
    "np.random.choice(a, 10, p=[0.5, 0.25, 0.25, 0, 0, 0, 0, 0, 0, 0])"
   ]
  },
  {
   "cell_type": "code",
   "execution_count": 16,
   "id": "e4cec208",
   "metadata": {},
   "outputs": [
    {
     "data": {
      "text/plain": [
       "array([0.65358959, 0.11500694, 0.95028286, 0.4821914 , 0.87247454,\n",
       "       0.21233268, 0.04070962, 0.39719446, 0.2331322 , 0.84174072])"
      ]
     },
     "execution_count": 16,
     "metadata": {},
     "output_type": "execute_result"
    }
   ],
   "source": [
    "np.random.seed(1000)\n",
    "np.random.random(10)"
   ]
  },
  {
   "cell_type": "code",
   "execution_count": 17,
   "id": "d690bd9e",
   "metadata": {},
   "outputs": [
    {
     "data": {
      "text/plain": [
       "array([0.65358959, 0.11500694, 0.95028286, 0.4821914 , 0.87247454,\n",
       "       0.21233268, 0.04070962, 0.39719446, 0.2331322 , 0.84174072])"
      ]
     },
     "execution_count": 17,
     "metadata": {},
     "output_type": "execute_result"
    }
   ],
   "source": [
    "np.random.seed(1000)\n",
    "np.random.random(10)\n"
   ]
  },
  {
   "cell_type": "code",
   "execution_count": 18,
   "id": "7e557179",
   "metadata": {},
   "outputs": [
    {
     "data": {
      "text/plain": [
       "array([0.65358959, 0.11500694, 0.95028286, 0.4821914 , 0.87247454,\n",
       "       0.21233268, 0.04070962, 0.39719446, 0.2331322 , 0.84174072])"
      ]
     },
     "execution_count": 18,
     "metadata": {},
     "output_type": "execute_result"
    }
   ],
   "source": [
    "np.random.seed(1000)\n",
    "state = np.random.get_state()\n",
    "np.random.random(10)"
   ]
  },
  {
   "cell_type": "code",
   "execution_count": 19,
   "id": "a3e77abe",
   "metadata": {},
   "outputs": [
    {
     "data": {
      "text/plain": [
       "array([0.65358959, 0.11500694, 0.95028286, 0.4821914 , 0.87247454,\n",
       "       0.21233268, 0.04070962, 0.39719446, 0.2331322 , 0.84174072])"
      ]
     },
     "execution_count": 19,
     "metadata": {},
     "output_type": "execute_result"
    }
   ],
   "source": [
    "np.random.set_state(state)\n",
    "np.random.random(10)"
   ]
  },
  {
   "cell_type": "code",
   "execution_count": null,
   "id": "3cf40682",
   "metadata": {},
   "outputs": [],
   "source": []
  }
 ],
 "metadata": {
  "kernelspec": {
   "display_name": "Python 3 (ipykernel)",
   "language": "python",
   "name": "python3"
  },
  "language_info": {
   "codemirror_mode": {
    "name": "ipython",
    "version": 3
   },
   "file_extension": ".py",
   "mimetype": "text/x-python",
   "name": "python",
   "nbconvert_exporter": "python",
   "pygments_lexer": "ipython3",
   "version": "3.9.12"
  }
 },
 "nbformat": 4,
 "nbformat_minor": 5
}
